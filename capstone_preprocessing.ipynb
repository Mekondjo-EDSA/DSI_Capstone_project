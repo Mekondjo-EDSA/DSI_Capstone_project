{
  "nbformat": 4,
  "nbformat_minor": 0,
  "metadata": {
    "colab": {
      "name": "capstone_preprocessing",
      "provenance": [],
      "collapsed_sections": [],
      "mount_file_id": "1x2HTLN6L6o2v3ooXRAd9l8TXapKL1Vpv",
      "authorship_tag": "ABX9TyNDvifeBTg1sQB9Q1aQdH0p",
      "include_colab_link": true
    },
    "kernelspec": {
      "name": "python3",
      "display_name": "Python 3"
    },
    "language_info": {
      "name": "python"
    }
  },
  "cells": [
    {
      "cell_type": "markdown",
      "metadata": {
        "id": "view-in-github",
        "colab_type": "text"
      },
      "source": [
        "<a href=\"https://colab.research.google.com/github/Mekondjo-EDSA/DSI_Capstone_project/blob/main/capstone_preprocessing.ipynb\" target=\"_parent\"><img src=\"https://colab.research.google.com/assets/colab-badge.svg\" alt=\"Open In Colab\"/></a>"
      ]
    },
    {
      "cell_type": "markdown",
      "source": [
        "Import libraries"
      ],
      "metadata": {
        "id": "zQgf1OPy0bie"
      }
    },
    {
      "cell_type": "code",
      "execution_count": 1,
      "metadata": {
        "id": "t00VfMD0zgCn"
      },
      "outputs": [],
      "source": [
        "import os\n",
        "import csv\n",
        "import json\n",
        "import pickle\n",
        "import shutil\n",
        "import random\n",
        "import warnings\n",
        "warnings.filterwarnings('ignore')\n",
        "import numpy as np\n",
        "import pandas as pd\n",
        "import seaborn as sns\n",
        "from tqdm import tqdm\n",
        "import matplotlib.pyplot as plt\n",
        "from sklearn.cluster import KMeans\n",
        "from datetime import datetime,timedelta\n",
        "from sklearn.impute import SimpleImputer\n",
        "from matplotlib.gridspec import GridSpec\n",
        "from sklearn.metrics import roc_curve\n",
        "from sklearn.metrics import f1_score\n",
        "from sklearn.metrics import recall_score\n",
        "from sklearn.metrics import roc_auc_score\n",
        "from sklearn.metrics import precision_score\n",
        "from sklearn.metrics import confusion_matrix\n",
        "from sklearn.preprocessing import StandardScaler\n",
        "from sklearn.neighbors import KNeighborsClassifier\n",
        "from sklearn.model_selection import train_test_split\n",
        "from sklearn.model_selection import RandomizedSearchCV\n",
        "from sklearn.calibration import CalibratedClassifierCV\n",
        "from sklearn.feature_extraction.text import CountVectorizer\n"
      ]
    },
    {
      "cell_type": "code",
      "source": [
        "train_ben= pd.read_csv('/content/drive/MyDrive/capstone_dataset/Train_Beneficiarydata-1542865627584.csv')\n",
        "train_inpat= pd.read_csv('/content/drive/MyDrive/capstone_dataset/Train_Inpatientdata-1542865627584.csv')\n",
        "train_outpat= pd.read_csv('/content/drive/MyDrive/capstone_dataset/Train_Outpatientdata-1542865627584.csv')\n",
        "train_y= pd.read_csv('/content/drive/MyDrive/capstone_dataset/Train-1542865627584.csv')"
      ],
      "metadata": {
        "id": "0_vUaufb1KIl"
      },
      "execution_count": 9,
      "outputs": []
    },
    {
      "cell_type": "code",
      "source": [
        "print(\"Shape of Train Beneficiary file Data:\",train_ben.shape)\n",
        "print(\"Shape of Train In-patient file Data:\", train_inpat.shape)\n",
        "print(\"Shape of Train Out-patient file Data:\", train_outpat.shape)\n",
        "print(\"Shape of Train file Data:\", train_y.shape)"
      ],
      "metadata": {
        "colab": {
          "base_uri": "https://localhost:8080/"
        },
        "id": "BBp6ikZv2CM5",
        "outputId": "c49837a2-6a41-42ba-ee4c-bc332992e10c"
      },
      "execution_count": 10,
      "outputs": [
        {
          "output_type": "stream",
          "name": "stdout",
          "text": [
            "Shape of Train Beneficiary file Data: (138556, 25)\n",
            "Shape of Train In-patient file Data: (40474, 30)\n",
            "Shape of Train Out-patient file Data: (517737, 27)\n",
            "Shape of Train file Data: (5410, 2)\n"
          ]
        }
      ]
    },
    {
      "cell_type": "code",
      "source": [
        "out_prov= np.unique(train_outpat['Provider'])\n",
        "print(\"The number of Unique Providers in the Train_Outpat file:\", len(out_prov))\n",
        "\n",
        "in_prov= np.unique(train_inpat['Provider'])\n",
        "print(\"The number of Unique Providers in the Train_Inpat file\", len(in_prov))\n",
        "\n",
        "com_prov= set(out_prov).intersection(set(in_prov))\n",
        "print(\"The number of Providers common to both the Inpat and Outpat files:\",len(com_prov))\n",
        "\n",
        "uni_ele= len(out_prov)+len(in_prov)-len(com_prov)\n",
        "print(\"Total Number of Unique Providers in Outpatient and Inpatient datasets Together:\",uni_ele)"
      ],
      "metadata": {
        "colab": {
          "base_uri": "https://localhost:8080/"
        },
        "id": "DQhpeQMA2hw7",
        "outputId": "6d57ed8a-d49f-4f0c-de99-506e8489c10b"
      },
      "execution_count": 11,
      "outputs": [
        {
          "output_type": "stream",
          "name": "stdout",
          "text": [
            "The number of Unique Providers in the Train_Outpat file: 5012\n",
            "The number of Unique Providers in the Train_Inpat file 2092\n",
            "The number of Providers common to both the Inpat and Outpat files: 1694\n",
            "Total Number of Unique Providers in Outpatient and Inpatient datasets Together: 5410\n"
          ]
        }
      ]
    },
    {
      "cell_type": "code",
      "source": [
        "#Check the columns present in the dataset\n",
        "print(\"The columns in the Outpatient Dataset are:\",train_outpat.columns)\n",
        "print(\"=\"*100)\n",
        "print(\"The columns in the Inpatient Dataset are:\",train_inpat.columns)\n",
        "print(\"=\"*100)\n",
        "print(\"The columns in the Beneficiary Dataset are:\",train_ben.columns)"
      ],
      "metadata": {
        "colab": {
          "base_uri": "https://localhost:8080/"
        },
        "id": "TBc-tkip2v73",
        "outputId": "380b8f73-6063-452c-b013-694f3cacfb45"
      },
      "execution_count": 15,
      "outputs": [
        {
          "output_type": "stream",
          "name": "stdout",
          "text": [
            "The columns in the Outpatient Dataset are: Index(['BeneID', 'ClaimID', 'ClaimStartDt', 'ClaimEndDt', 'Provider',\n",
            "       'InscClaimAmtReimbursed', 'AttendingPhysician', 'OperatingPhysician',\n",
            "       'OtherPhysician', 'ClmDiagnosisCode_1', 'ClmDiagnosisCode_2',\n",
            "       'ClmDiagnosisCode_3', 'ClmDiagnosisCode_4', 'ClmDiagnosisCode_5',\n",
            "       'ClmDiagnosisCode_6', 'ClmDiagnosisCode_7', 'ClmDiagnosisCode_8',\n",
            "       'ClmDiagnosisCode_9', 'ClmDiagnosisCode_10', 'ClmProcedureCode_1',\n",
            "       'ClmProcedureCode_2', 'ClmProcedureCode_3', 'ClmProcedureCode_4',\n",
            "       'ClmProcedureCode_5', 'ClmProcedureCode_6', 'DeductibleAmtPaid',\n",
            "       'ClmAdmitDiagnosisCode'],\n",
            "      dtype='object')\n",
            "====================================================================================================\n",
            "The columns in the Inpatient Dataset are: Index(['BeneID', 'ClaimID', 'ClaimStartDt', 'ClaimEndDt', 'Provider',\n",
            "       'InscClaimAmtReimbursed', 'AttendingPhysician', 'OperatingPhysician',\n",
            "       'OtherPhysician', 'AdmissionDt', 'ClmAdmitDiagnosisCode',\n",
            "       'DeductibleAmtPaid', 'DischargeDt', 'DiagnosisGroupCode',\n",
            "       'ClmDiagnosisCode_1', 'ClmDiagnosisCode_2', 'ClmDiagnosisCode_3',\n",
            "       'ClmDiagnosisCode_4', 'ClmDiagnosisCode_5', 'ClmDiagnosisCode_6',\n",
            "       'ClmDiagnosisCode_7', 'ClmDiagnosisCode_8', 'ClmDiagnosisCode_9',\n",
            "       'ClmDiagnosisCode_10', 'ClmProcedureCode_1', 'ClmProcedureCode_2',\n",
            "       'ClmProcedureCode_3', 'ClmProcedureCode_4', 'ClmProcedureCode_5',\n",
            "       'ClmProcedureCode_6'],\n",
            "      dtype='object')\n",
            "====================================================================================================\n",
            "The columns in the Beneficiary Dataset are: Index(['BeneID', 'DOB', 'DOD', 'Gender', 'Race', 'RenalDiseaseIndicator',\n",
            "       'State', 'County', 'NoOfMonths_PartACov', 'NoOfMonths_PartBCov',\n",
            "       'ChronicCond_Alzheimer', 'ChronicCond_Heartfailure',\n",
            "       'ChronicCond_KidneyDisease', 'ChronicCond_Cancer',\n",
            "       'ChronicCond_ObstrPulmonary', 'ChronicCond_Depression',\n",
            "       'ChronicCond_Diabetes', 'ChronicCond_IschemicHeart',\n",
            "       'ChronicCond_Osteoporasis', 'ChronicCond_rheumatoidarthritis',\n",
            "       'ChronicCond_stroke', 'IPAnnualReimbursementAmt',\n",
            "       'IPAnnualDeductibleAmt', 'OPAnnualReimbursementAmt',\n",
            "       'OPAnnualDeductibleAmt'],\n",
            "      dtype='object')\n"
          ]
        }
      ]
    },
    {
      "cell_type": "code",
      "source": [
        "#Checking each of the columns in the Outaptient dataset if they are present in the Inpatient Dataset\n",
        "c_o=[]\n",
        "for o in train_outpat.columns:\n",
        "    if o in train_inpat.columns:\n",
        "        c_o.append(o)\n",
        "\n",
        "#Checking each of the columns in the Inpatient dataset if they are present in the Outpatient dataset\n",
        "c_i=[]\n",
        "for i in train_inpat.columns:\n",
        "    if i in train_outpat.columns:\n",
        "        c_i.append(i)\n",
        "print(\"Cols of Outpatient dataset also present in Inpatient dataset\",len(c_o))\n",
        "print(\"Cols of Inpatient dataset also present in Outpatient dataset\",len(c_i))\n",
        "\n",
        "#Checking for common column names in the outpatient and the inpatient datasets \n",
        "c_s= set(c_o).intersection(set(c_i))\n",
        "c_s= list(c_s)\n",
        "print(\"Common columns between the outpatient and the inpatient datasets\",len(c_s))"
      ],
      "metadata": {
        "colab": {
          "base_uri": "https://localhost:8080/"
        },
        "id": "pvlvJfes3u4b",
        "outputId": "d82047d0-913a-48d8-892f-a1aeb68683b3"
      },
      "execution_count": 14,
      "outputs": [
        {
          "output_type": "stream",
          "name": "stdout",
          "text": [
            "Cols of Outpatient dataset also present in Inpatient dataset 27\n",
            "Cols of Inpatient dataset also present in Outpatient dataset 27\n",
            "Common columns between the outpatient and the inpatient datasets 27\n"
          ]
        }
      ]
    },
    {
      "cell_type": "code",
      "source": [
        "#Merging the Outpatient and the Inpatient datasets based on the common columns between both the datasets. \n",
        "#We will be doing an outer merge as we need to take the union of all the elements in both the datasets \n",
        "\n",
        "train_fin_df= pd.merge(train_inpat,train_outpat,left_on=c_s,right_on=c_s,how='outer')\n",
        "train_fin_df.shape\n"
      ],
      "metadata": {
        "colab": {
          "base_uri": "https://localhost:8080/"
        },
        "id": "a90Ze9iX4PLK",
        "outputId": "5780c63d-a5cc-48e1-d084-d48e4b563e0b"
      },
      "execution_count": 17,
      "outputs": [
        {
          "output_type": "execute_result",
          "data": {
            "text/plain": [
              "(558211, 30)"
            ]
          },
          "metadata": {},
          "execution_count": 17
        }
      ]
    },
    {
      "cell_type": "code",
      "source": [
        "train_fin_df.head()"
      ],
      "metadata": {
        "colab": {
          "base_uri": "https://localhost:8080/",
          "height": 300
        },
        "id": "V1kcw9064sRn",
        "outputId": "7e7a8543-42cf-48ed-c2f9-9da41ed5facf"
      },
      "execution_count": 18,
      "outputs": [
        {
          "output_type": "execute_result",
          "data": {
            "text/plain": [
              "      BeneID   ClaimID ClaimStartDt  ClaimEndDt  Provider  \\\n",
              "0  BENE11001  CLM46614   2009-04-12  2009-04-18  PRV55912   \n",
              "1  BENE11001  CLM66048   2009-08-31  2009-09-02  PRV55907   \n",
              "2  BENE11001  CLM68358   2009-09-17  2009-09-20  PRV56046   \n",
              "3  BENE11011  CLM38412   2009-02-14  2009-02-22  PRV52405   \n",
              "4  BENE11014  CLM63689   2009-08-13  2009-08-30  PRV56614   \n",
              "\n",
              "   InscClaimAmtReimbursed AttendingPhysician OperatingPhysician  \\\n",
              "0                   26000          PHY390922                NaN   \n",
              "1                    5000          PHY318495          PHY318495   \n",
              "2                    5000          PHY372395                NaN   \n",
              "3                    5000          PHY369659          PHY392961   \n",
              "4                   10000          PHY379376          PHY398258   \n",
              "\n",
              "  OtherPhysician AdmissionDt  ... ClmDiagnosisCode_7  ClmDiagnosisCode_8  \\\n",
              "0            NaN  2009-04-12  ...               2724               19889   \n",
              "1            NaN  2009-08-31  ...                NaN                 NaN   \n",
              "2      PHY324689  2009-09-17  ...                NaN                 NaN   \n",
              "3      PHY349768  2009-02-14  ...              25062               40390   \n",
              "4            NaN  2009-08-13  ...               5119               29620   \n",
              "\n",
              "  ClmDiagnosisCode_9 ClmDiagnosisCode_10 ClmProcedureCode_1  \\\n",
              "0               5849                 NaN                NaN   \n",
              "1                NaN                 NaN             7092.0   \n",
              "2                NaN                 NaN                NaN   \n",
              "3               4019                 NaN              331.0   \n",
              "4              20300                 NaN             3893.0   \n",
              "\n",
              "  ClmProcedureCode_2 ClmProcedureCode_3 ClmProcedureCode_4 ClmProcedureCode_5  \\\n",
              "0                NaN                NaN                NaN                NaN   \n",
              "1                NaN                NaN                NaN                NaN   \n",
              "2                NaN                NaN                NaN                NaN   \n",
              "3                NaN                NaN                NaN                NaN   \n",
              "4                NaN                NaN                NaN                NaN   \n",
              "\n",
              "  ClmProcedureCode_6  \n",
              "0                NaN  \n",
              "1                NaN  \n",
              "2                NaN  \n",
              "3                NaN  \n",
              "4                NaN  \n",
              "\n",
              "[5 rows x 30 columns]"
            ],
            "text/html": [
              "\n",
              "  <div id=\"df-310e6439-1b40-4ea9-a2ae-521825d27fde\">\n",
              "    <div class=\"colab-df-container\">\n",
              "      <div>\n",
              "<style scoped>\n",
              "    .dataframe tbody tr th:only-of-type {\n",
              "        vertical-align: middle;\n",
              "    }\n",
              "\n",
              "    .dataframe tbody tr th {\n",
              "        vertical-align: top;\n",
              "    }\n",
              "\n",
              "    .dataframe thead th {\n",
              "        text-align: right;\n",
              "    }\n",
              "</style>\n",
              "<table border=\"1\" class=\"dataframe\">\n",
              "  <thead>\n",
              "    <tr style=\"text-align: right;\">\n",
              "      <th></th>\n",
              "      <th>BeneID</th>\n",
              "      <th>ClaimID</th>\n",
              "      <th>ClaimStartDt</th>\n",
              "      <th>ClaimEndDt</th>\n",
              "      <th>Provider</th>\n",
              "      <th>InscClaimAmtReimbursed</th>\n",
              "      <th>AttendingPhysician</th>\n",
              "      <th>OperatingPhysician</th>\n",
              "      <th>OtherPhysician</th>\n",
              "      <th>AdmissionDt</th>\n",
              "      <th>...</th>\n",
              "      <th>ClmDiagnosisCode_7</th>\n",
              "      <th>ClmDiagnosisCode_8</th>\n",
              "      <th>ClmDiagnosisCode_9</th>\n",
              "      <th>ClmDiagnosisCode_10</th>\n",
              "      <th>ClmProcedureCode_1</th>\n",
              "      <th>ClmProcedureCode_2</th>\n",
              "      <th>ClmProcedureCode_3</th>\n",
              "      <th>ClmProcedureCode_4</th>\n",
              "      <th>ClmProcedureCode_5</th>\n",
              "      <th>ClmProcedureCode_6</th>\n",
              "    </tr>\n",
              "  </thead>\n",
              "  <tbody>\n",
              "    <tr>\n",
              "      <th>0</th>\n",
              "      <td>BENE11001</td>\n",
              "      <td>CLM46614</td>\n",
              "      <td>2009-04-12</td>\n",
              "      <td>2009-04-18</td>\n",
              "      <td>PRV55912</td>\n",
              "      <td>26000</td>\n",
              "      <td>PHY390922</td>\n",
              "      <td>NaN</td>\n",
              "      <td>NaN</td>\n",
              "      <td>2009-04-12</td>\n",
              "      <td>...</td>\n",
              "      <td>2724</td>\n",
              "      <td>19889</td>\n",
              "      <td>5849</td>\n",
              "      <td>NaN</td>\n",
              "      <td>NaN</td>\n",
              "      <td>NaN</td>\n",
              "      <td>NaN</td>\n",
              "      <td>NaN</td>\n",
              "      <td>NaN</td>\n",
              "      <td>NaN</td>\n",
              "    </tr>\n",
              "    <tr>\n",
              "      <th>1</th>\n",
              "      <td>BENE11001</td>\n",
              "      <td>CLM66048</td>\n",
              "      <td>2009-08-31</td>\n",
              "      <td>2009-09-02</td>\n",
              "      <td>PRV55907</td>\n",
              "      <td>5000</td>\n",
              "      <td>PHY318495</td>\n",
              "      <td>PHY318495</td>\n",
              "      <td>NaN</td>\n",
              "      <td>2009-08-31</td>\n",
              "      <td>...</td>\n",
              "      <td>NaN</td>\n",
              "      <td>NaN</td>\n",
              "      <td>NaN</td>\n",
              "      <td>NaN</td>\n",
              "      <td>7092.0</td>\n",
              "      <td>NaN</td>\n",
              "      <td>NaN</td>\n",
              "      <td>NaN</td>\n",
              "      <td>NaN</td>\n",
              "      <td>NaN</td>\n",
              "    </tr>\n",
              "    <tr>\n",
              "      <th>2</th>\n",
              "      <td>BENE11001</td>\n",
              "      <td>CLM68358</td>\n",
              "      <td>2009-09-17</td>\n",
              "      <td>2009-09-20</td>\n",
              "      <td>PRV56046</td>\n",
              "      <td>5000</td>\n",
              "      <td>PHY372395</td>\n",
              "      <td>NaN</td>\n",
              "      <td>PHY324689</td>\n",
              "      <td>2009-09-17</td>\n",
              "      <td>...</td>\n",
              "      <td>NaN</td>\n",
              "      <td>NaN</td>\n",
              "      <td>NaN</td>\n",
              "      <td>NaN</td>\n",
              "      <td>NaN</td>\n",
              "      <td>NaN</td>\n",
              "      <td>NaN</td>\n",
              "      <td>NaN</td>\n",
              "      <td>NaN</td>\n",
              "      <td>NaN</td>\n",
              "    </tr>\n",
              "    <tr>\n",
              "      <th>3</th>\n",
              "      <td>BENE11011</td>\n",
              "      <td>CLM38412</td>\n",
              "      <td>2009-02-14</td>\n",
              "      <td>2009-02-22</td>\n",
              "      <td>PRV52405</td>\n",
              "      <td>5000</td>\n",
              "      <td>PHY369659</td>\n",
              "      <td>PHY392961</td>\n",
              "      <td>PHY349768</td>\n",
              "      <td>2009-02-14</td>\n",
              "      <td>...</td>\n",
              "      <td>25062</td>\n",
              "      <td>40390</td>\n",
              "      <td>4019</td>\n",
              "      <td>NaN</td>\n",
              "      <td>331.0</td>\n",
              "      <td>NaN</td>\n",
              "      <td>NaN</td>\n",
              "      <td>NaN</td>\n",
              "      <td>NaN</td>\n",
              "      <td>NaN</td>\n",
              "    </tr>\n",
              "    <tr>\n",
              "      <th>4</th>\n",
              "      <td>BENE11014</td>\n",
              "      <td>CLM63689</td>\n",
              "      <td>2009-08-13</td>\n",
              "      <td>2009-08-30</td>\n",
              "      <td>PRV56614</td>\n",
              "      <td>10000</td>\n",
              "      <td>PHY379376</td>\n",
              "      <td>PHY398258</td>\n",
              "      <td>NaN</td>\n",
              "      <td>2009-08-13</td>\n",
              "      <td>...</td>\n",
              "      <td>5119</td>\n",
              "      <td>29620</td>\n",
              "      <td>20300</td>\n",
              "      <td>NaN</td>\n",
              "      <td>3893.0</td>\n",
              "      <td>NaN</td>\n",
              "      <td>NaN</td>\n",
              "      <td>NaN</td>\n",
              "      <td>NaN</td>\n",
              "      <td>NaN</td>\n",
              "    </tr>\n",
              "  </tbody>\n",
              "</table>\n",
              "<p>5 rows × 30 columns</p>\n",
              "</div>\n",
              "      <button class=\"colab-df-convert\" onclick=\"convertToInteractive('df-310e6439-1b40-4ea9-a2ae-521825d27fde')\"\n",
              "              title=\"Convert this dataframe to an interactive table.\"\n",
              "              style=\"display:none;\">\n",
              "        \n",
              "  <svg xmlns=\"http://www.w3.org/2000/svg\" height=\"24px\"viewBox=\"0 0 24 24\"\n",
              "       width=\"24px\">\n",
              "    <path d=\"M0 0h24v24H0V0z\" fill=\"none\"/>\n",
              "    <path d=\"M18.56 5.44l.94 2.06.94-2.06 2.06-.94-2.06-.94-.94-2.06-.94 2.06-2.06.94zm-11 1L8.5 8.5l.94-2.06 2.06-.94-2.06-.94L8.5 2.5l-.94 2.06-2.06.94zm10 10l.94 2.06.94-2.06 2.06-.94-2.06-.94-.94-2.06-.94 2.06-2.06.94z\"/><path d=\"M17.41 7.96l-1.37-1.37c-.4-.4-.92-.59-1.43-.59-.52 0-1.04.2-1.43.59L10.3 9.45l-7.72 7.72c-.78.78-.78 2.05 0 2.83L4 21.41c.39.39.9.59 1.41.59.51 0 1.02-.2 1.41-.59l7.78-7.78 2.81-2.81c.8-.78.8-2.07 0-2.86zM5.41 20L4 18.59l7.72-7.72 1.47 1.35L5.41 20z\"/>\n",
              "  </svg>\n",
              "      </button>\n",
              "      \n",
              "  <style>\n",
              "    .colab-df-container {\n",
              "      display:flex;\n",
              "      flex-wrap:wrap;\n",
              "      gap: 12px;\n",
              "    }\n",
              "\n",
              "    .colab-df-convert {\n",
              "      background-color: #E8F0FE;\n",
              "      border: none;\n",
              "      border-radius: 50%;\n",
              "      cursor: pointer;\n",
              "      display: none;\n",
              "      fill: #1967D2;\n",
              "      height: 32px;\n",
              "      padding: 0 0 0 0;\n",
              "      width: 32px;\n",
              "    }\n",
              "\n",
              "    .colab-df-convert:hover {\n",
              "      background-color: #E2EBFA;\n",
              "      box-shadow: 0px 1px 2px rgba(60, 64, 67, 0.3), 0px 1px 3px 1px rgba(60, 64, 67, 0.15);\n",
              "      fill: #174EA6;\n",
              "    }\n",
              "\n",
              "    [theme=dark] .colab-df-convert {\n",
              "      background-color: #3B4455;\n",
              "      fill: #D2E3FC;\n",
              "    }\n",
              "\n",
              "    [theme=dark] .colab-df-convert:hover {\n",
              "      background-color: #434B5C;\n",
              "      box-shadow: 0px 1px 3px 1px rgba(0, 0, 0, 0.15);\n",
              "      filter: drop-shadow(0px 1px 2px rgba(0, 0, 0, 0.3));\n",
              "      fill: #FFFFFF;\n",
              "    }\n",
              "  </style>\n",
              "\n",
              "      <script>\n",
              "        const buttonEl =\n",
              "          document.querySelector('#df-310e6439-1b40-4ea9-a2ae-521825d27fde button.colab-df-convert');\n",
              "        buttonEl.style.display =\n",
              "          google.colab.kernel.accessAllowed ? 'block' : 'none';\n",
              "\n",
              "        async function convertToInteractive(key) {\n",
              "          const element = document.querySelector('#df-310e6439-1b40-4ea9-a2ae-521825d27fde');\n",
              "          const dataTable =\n",
              "            await google.colab.kernel.invokeFunction('convertToInteractive',\n",
              "                                                     [key], {});\n",
              "          if (!dataTable) return;\n",
              "\n",
              "          const docLinkHtml = 'Like what you see? Visit the ' +\n",
              "            '<a target=\"_blank\" href=https://colab.research.google.com/notebooks/data_table.ipynb>data table notebook</a>'\n",
              "            + ' to learn more about interactive tables.';\n",
              "          element.innerHTML = '';\n",
              "          dataTable['output_type'] = 'display_data';\n",
              "          await google.colab.output.renderOutput(dataTable, element);\n",
              "          const docLink = document.createElement('div');\n",
              "          docLink.innerHTML = docLinkHtml;\n",
              "          element.appendChild(docLink);\n",
              "        }\n",
              "      </script>\n",
              "    </div>\n",
              "  </div>\n",
              "  "
            ]
          },
          "metadata": {},
          "execution_count": 18
        }
      ]
    },
    {
      "cell_type": "code",
      "source": [
        "train_fin= pd.merge(train_fin_df,train_ben, left_on='BeneID',right_on= 'BeneID',how='outer')\n",
        "train_fin.shape\n"
      ],
      "metadata": {
        "colab": {
          "base_uri": "https://localhost:8080/"
        },
        "id": "lfEuLO8m5BHL",
        "outputId": "5bac5476-fe7f-4456-aebd-f0d230a15b2d"
      },
      "execution_count": 19,
      "outputs": [
        {
          "output_type": "execute_result",
          "data": {
            "text/plain": [
              "(558211, 54)"
            ]
          },
          "metadata": {},
          "execution_count": 19
        }
      ]
    },
    {
      "cell_type": "code",
      "source": [
        "#Merging the Y variable with the final dataset\n",
        "train_fin= pd.merge(train_fin,train_y,left_on= 'Provider',right_on='Provider',how='outer')\n",
        "train_fin.shape"
      ],
      "metadata": {
        "colab": {
          "base_uri": "https://localhost:8080/"
        },
        "id": "c0TU2ynl5FcK",
        "outputId": "4128ad37-be7f-4b3a-a09b-37233d7c37f1"
      },
      "execution_count": 20,
      "outputs": [
        {
          "output_type": "execute_result",
          "data": {
            "text/plain": [
              "(558211, 55)"
            ]
          },
          "metadata": {},
          "execution_count": 20
        }
      ]
    },
    {
      "cell_type": "code",
      "source": [
        "#Storing the final dataframe as a pickled file\n",
        "with open('/content/drive/MyDrive/Colab Notebooks/train_fin.pkl','wb') as tr_df:\n",
        "    pickle.dump(train_fin,tr_df)\n"
      ],
      "metadata": {
        "id": "lrQ3ptKy5T1U"
      },
      "execution_count": 21,
      "outputs": []
    },
    {
      "cell_type": "code",
      "source": [
        "#Loading the pickled file\n",
        "with open('/content/drive/MyDrive/Colab Notebooks/train_fin.pkl','rb') as tr_df:\n",
        "    train_fin= pickle.load(tr_df)"
      ],
      "metadata": {
        "id": "RzBYxfmI5pjm"
      },
      "execution_count": 22,
      "outputs": []
    },
    {
      "cell_type": "code",
      "source": [
        "train_fin.shape"
      ],
      "metadata": {
        "colab": {
          "base_uri": "https://localhost:8080/"
        },
        "id": "l24ogQfS5yHa",
        "outputId": "d42ef66b-e6ff-40ba-e886-80bb65e580f1"
      },
      "execution_count": 23,
      "outputs": [
        {
          "output_type": "execute_result",
          "data": {
            "text/plain": [
              "(558211, 55)"
            ]
          },
          "metadata": {},
          "execution_count": 23
        }
      ]
    },
    {
      "cell_type": "code",
      "source": [
        "#Splitting the Data into Train and Cross Validate Datasets\n",
        "y = train_fin['PotentialFraud']\n",
        "train_fin.drop(['PotentialFraud'],axis=1, inplace= True)"
      ],
      "metadata": {
        "id": "K1PpJYpv53Um"
      },
      "execution_count": 24,
      "outputs": []
    },
    {
      "cell_type": "code",
      "source": [
        "train_fin,cv_fin,train_y,cv_y= train_test_split(train_fin,y,test_size=0.2,stratify=y,random_state=42)\n",
        "print(train_fin.shape)\n",
        "print(train_y.shape)\n",
        "print(cv_fin.shape)\n",
        "print(cv_y.shape)"
      ],
      "metadata": {
        "colab": {
          "base_uri": "https://localhost:8080/"
        },
        "id": "qKYpn5Zo6RDn",
        "outputId": "daf4e6b1-d4d5-4114-f6cd-9c03fc59bf5a"
      },
      "execution_count": 25,
      "outputs": [
        {
          "output_type": "stream",
          "name": "stdout",
          "text": [
            "(446568, 54)\n",
            "(446568,)\n",
            "(111643, 54)\n",
            "(111643,)\n"
          ]
        }
      ]
    },
    {
      "cell_type": "code",
      "source": [
        "train_fin.reset_index(drop=True,inplace=True)\n",
        "train_y.reset_index(drop=True,inplace=True)\n",
        "\n",
        "cv_fin.reset_index(drop=True,inplace=True)\n",
        "cv_y.reset_index(drop=True,inplace=True)"
      ],
      "metadata": {
        "id": "P6emrC996T7u"
      },
      "execution_count": 26,
      "outputs": []
    },
    {
      "cell_type": "code",
      "source": [
        "\n",
        "with open('/content/drive/MyDrive/Colab Notebooks/train_x.pkl','wb') as tr_df:\n",
        "    pickle.dump(train_fin,tr_df)\n",
        "with open('/content/drive/MyDrive/Colab Notebooks/cv_x.pkl','wb') as cv_df:\n",
        "    pickle.dump(cv_fin,cv_df)\n",
        "with open('/content/drive/MyDrive/Colab Notebooks/train_y.pkl','wb') as tr_y:\n",
        "    pickle.dump(train_y,tr_y)\n",
        "with open('/content/drive/MyDrive/Colab Notebooks/cv_y.pkl','wb') as c_y:\n",
        "    pickle.dump(cv_y,c_y)\n"
      ],
      "metadata": {
        "id": "9YHZc6366Xza"
      },
      "execution_count": 27,
      "outputs": []
    },
    {
      "cell_type": "code",
      "source": [
        "\n",
        "with open('/content/drive/MyDrive/Colab Notebooks/train_x.pkl','rb') as tr_df:\n",
        "    train_fin= pickle.load(tr_df)\n",
        "with open('/content/drive/MyDrive/Colab Notebooks/cv_x.pkl','rb') as cv_df:\n",
        "    cv_fin= pickle.load(cv_df)\n",
        "with open('/content/drive/MyDrive/Colab Notebooks/train_y.pkl','rb') as tr_y:\n",
        "    train_y= pickle.load(tr_y)\n",
        "with open('/content/drive/MyDrive/Colab Notebooks/cv_y.pkl','rb') as c_y:\n",
        "    cv_y= pickle.load(c_y)\n"
      ],
      "metadata": {
        "id": "aV-smxM46hGS"
      },
      "execution_count": 28,
      "outputs": []
    },
    {
      "cell_type": "code",
      "source": [
        "#Checking for percentage of NAN values in each column in the train dataset\n",
        "na_perc= np.round(((train_fin.isna().sum())/train_fin.shape[0])*100,2)\n",
        "na_perc_df= na_perc.to_frame()\n",
        "na_perc_df.reset_index(inplace= True)\n",
        "na_perc_df.columns= [\"col_name\",\"NAN_percentage\"]\n",
        "print(na_perc_df)"
      ],
      "metadata": {
        "colab": {
          "base_uri": "https://localhost:8080/"
        },
        "id": "_EmPLyY669RF",
        "outputId": "8b59670c-eb03-4dd6-e489-6a97357c228e"
      },
      "execution_count": 29,
      "outputs": [
        {
          "output_type": "stream",
          "name": "stdout",
          "text": [
            "                           col_name  NAN_percentage\n",
            "0                            BeneID            0.00\n",
            "1                           ClaimID            0.00\n",
            "2                      ClaimStartDt            0.00\n",
            "3                        ClaimEndDt            0.00\n",
            "4                          Provider            0.00\n",
            "5            InscClaimAmtReimbursed            0.00\n",
            "6                AttendingPhysician            0.27\n",
            "7                OperatingPhysician           79.50\n",
            "8                    OtherPhysician           64.24\n",
            "9                       AdmissionDt           92.72\n",
            "10            ClmAdmitDiagnosisCode           73.88\n",
            "11                DeductibleAmtPaid            0.16\n",
            "12                      DischargeDt           92.72\n",
            "13               DiagnosisGroupCode           92.72\n",
            "14               ClmDiagnosisCode_1            1.86\n",
            "15               ClmDiagnosisCode_2           35.04\n",
            "16               ClmDiagnosisCode_3           56.47\n",
            "17               ClmDiagnosisCode_4           70.52\n",
            "18               ClmDiagnosisCode_5           79.93\n",
            "19               ClmDiagnosisCode_6           84.86\n",
            "20               ClmDiagnosisCode_7           88.13\n",
            "21               ClmDiagnosisCode_8           90.42\n",
            "22               ClmDiagnosisCode_9           92.50\n",
            "23              ClmDiagnosisCode_10           99.09\n",
            "24               ClmProcedureCode_1           95.80\n",
            "25               ClmProcedureCode_2           99.02\n",
            "26               ClmProcedureCode_3           99.83\n",
            "27               ClmProcedureCode_4           99.98\n",
            "28               ClmProcedureCode_5          100.00\n",
            "29               ClmProcedureCode_6          100.00\n",
            "30                              DOB            0.00\n",
            "31                              DOD           99.26\n",
            "32                           Gender            0.00\n",
            "33                             Race            0.00\n",
            "34            RenalDiseaseIndicator            0.00\n",
            "35                            State            0.00\n",
            "36                           County            0.00\n",
            "37              NoOfMonths_PartACov            0.00\n",
            "38              NoOfMonths_PartBCov            0.00\n",
            "39            ChronicCond_Alzheimer            0.00\n",
            "40         ChronicCond_Heartfailure            0.00\n",
            "41        ChronicCond_KidneyDisease            0.00\n",
            "42               ChronicCond_Cancer            0.00\n",
            "43       ChronicCond_ObstrPulmonary            0.00\n",
            "44           ChronicCond_Depression            0.00\n",
            "45             ChronicCond_Diabetes            0.00\n",
            "46        ChronicCond_IschemicHeart            0.00\n",
            "47         ChronicCond_Osteoporasis            0.00\n",
            "48  ChronicCond_rheumatoidarthritis            0.00\n",
            "49               ChronicCond_stroke            0.00\n",
            "50         IPAnnualReimbursementAmt            0.00\n",
            "51            IPAnnualDeductibleAmt            0.00\n",
            "52         OPAnnualReimbursementAmt            0.00\n",
            "53            OPAnnualDeductibleAmt            0.00\n"
          ]
        }
      ]
    },
    {
      "cell_type": "code",
      "source": [
        "#find the column numbers where the NAN_percentage is Zero\n",
        "na_col=[]\n",
        "na_perc= np.round(((train_fin.isna().sum())/train_fin.shape[0])*100,2)\n",
        "na_perc_df= na_perc.to_frame()\n",
        "na_perc_df.reset_index(inplace= True)\n",
        "na_perc_df.columns= [\"col_name\",\"na_percentage\"]\n",
        "for i in range(na_perc_df.shape[0]):\n",
        "    if na_perc_df.iloc[i,1] == 0:\n",
        "        na_col.append(i)  \n",
        "\n",
        "print(na_col)"
      ],
      "metadata": {
        "colab": {
          "base_uri": "https://localhost:8080/"
        },
        "id": "CQ6dIeuQ7UF0",
        "outputId": "d931ee47-cee8-4205-9410-4eeb0c42a6fd"
      },
      "execution_count": 30,
      "outputs": [
        {
          "output_type": "stream",
          "name": "stdout",
          "text": [
            "[0, 1, 2, 3, 4, 5, 30, 32, 33, 34, 35, 36, 37, 38, 39, 40, 41, 42, 43, 44, 45, 46, 47, 48, 49, 50, 51, 52, 53]\n"
          ]
        }
      ]
    },
    {
      "cell_type": "code",
      "source": [
        "#Del the columns with 0% NAN values from the newly created na_perc_df dataframe\n",
        "na_perc_df.drop(index=na_col,inplace=True)\n",
        "na_perc_df.reset_index(drop=True,inplace=True)\n",
        "print(na_perc_df)"
      ],
      "metadata": {
        "colab": {
          "base_uri": "https://localhost:8080/"
        },
        "id": "LJgm-CHz7x0s",
        "outputId": "cada4f99-2554-416c-ecd9-741fbc34f6a6"
      },
      "execution_count": 31,
      "outputs": [
        {
          "output_type": "stream",
          "name": "stdout",
          "text": [
            "                 col_name  na_percentage\n",
            "0      AttendingPhysician           0.27\n",
            "1      OperatingPhysician          79.50\n",
            "2          OtherPhysician          64.24\n",
            "3             AdmissionDt          92.72\n",
            "4   ClmAdmitDiagnosisCode          73.88\n",
            "5       DeductibleAmtPaid           0.16\n",
            "6             DischargeDt          92.72\n",
            "7      DiagnosisGroupCode          92.72\n",
            "8      ClmDiagnosisCode_1           1.86\n",
            "9      ClmDiagnosisCode_2          35.04\n",
            "10     ClmDiagnosisCode_3          56.47\n",
            "11     ClmDiagnosisCode_4          70.52\n",
            "12     ClmDiagnosisCode_5          79.93\n",
            "13     ClmDiagnosisCode_6          84.86\n",
            "14     ClmDiagnosisCode_7          88.13\n",
            "15     ClmDiagnosisCode_8          90.42\n",
            "16     ClmDiagnosisCode_9          92.50\n",
            "17    ClmDiagnosisCode_10          99.09\n",
            "18     ClmProcedureCode_1          95.80\n",
            "19     ClmProcedureCode_2          99.02\n",
            "20     ClmProcedureCode_3          99.83\n",
            "21     ClmProcedureCode_4          99.98\n",
            "22     ClmProcedureCode_5         100.00\n",
            "23     ClmProcedureCode_6         100.00\n",
            "24                    DOD          99.26\n"
          ]
        }
      ]
    },
    {
      "cell_type": "code",
      "source": [
        "#Checking for the percentage of nan values in each of the columns in the CV Data\n",
        "na_perc_cv= np.round(((cv_fin.isna().sum())/cv_fin.shape[0])*100,2)\n",
        "na_perc_df_cv= na_perc_cv.to_frame()\n",
        "na_perc_df_cv.reset_index(inplace= True)\n",
        "na_perc_df_cv.columns= [\"col_name\",\"na_percentage\"]\n",
        "print(na_perc_df_cv)"
      ],
      "metadata": {
        "colab": {
          "base_uri": "https://localhost:8080/"
        },
        "id": "XE421KfR9iKE",
        "outputId": "f5c2cc10-7adf-4c79-e815-9e08b8948423"
      },
      "execution_count": 32,
      "outputs": [
        {
          "output_type": "stream",
          "name": "stdout",
          "text": [
            "                           col_name  na_percentage\n",
            "0                            BeneID           0.00\n",
            "1                           ClaimID           0.00\n",
            "2                      ClaimStartDt           0.00\n",
            "3                        ClaimEndDt           0.00\n",
            "4                          Provider           0.00\n",
            "5            InscClaimAmtReimbursed           0.00\n",
            "6                AttendingPhysician           0.27\n",
            "7                OperatingPhysician          79.47\n",
            "8                    OtherPhysician          64.13\n",
            "9                       AdmissionDt          92.88\n",
            "10            ClmAdmitDiagnosisCode          73.80\n",
            "11                DeductibleAmtPaid           0.16\n",
            "12                      DischargeDt          92.88\n",
            "13               DiagnosisGroupCode          92.88\n",
            "14               ClmDiagnosisCode_1           1.92\n",
            "15               ClmDiagnosisCode_2          35.04\n",
            "16               ClmDiagnosisCode_3          56.43\n",
            "17               ClmDiagnosisCode_4          70.53\n",
            "18               ClmDiagnosisCode_5          80.02\n",
            "19               ClmDiagnosisCode_6          84.95\n",
            "20               ClmDiagnosisCode_7          88.21\n",
            "21               ClmDiagnosisCode_8          90.45\n",
            "22               ClmDiagnosisCode_9          92.56\n",
            "23              ClmDiagnosisCode_10          99.14\n",
            "24               ClmProcedureCode_1          95.91\n",
            "25               ClmProcedureCode_2          99.02\n",
            "26               ClmProcedureCode_3          99.83\n",
            "27               ClmProcedureCode_4          99.98\n",
            "28               ClmProcedureCode_5         100.00\n",
            "29               ClmProcedureCode_6         100.00\n",
            "30                              DOB           0.00\n",
            "31                              DOD          99.26\n",
            "32                           Gender           0.00\n",
            "33                             Race           0.00\n",
            "34            RenalDiseaseIndicator           0.00\n",
            "35                            State           0.00\n",
            "36                           County           0.00\n",
            "37              NoOfMonths_PartACov           0.00\n",
            "38              NoOfMonths_PartBCov           0.00\n",
            "39            ChronicCond_Alzheimer           0.00\n",
            "40         ChronicCond_Heartfailure           0.00\n",
            "41        ChronicCond_KidneyDisease           0.00\n",
            "42               ChronicCond_Cancer           0.00\n",
            "43       ChronicCond_ObstrPulmonary           0.00\n",
            "44           ChronicCond_Depression           0.00\n",
            "45             ChronicCond_Diabetes           0.00\n",
            "46        ChronicCond_IschemicHeart           0.00\n",
            "47         ChronicCond_Osteoporasis           0.00\n",
            "48  ChronicCond_rheumatoidarthritis           0.00\n",
            "49               ChronicCond_stroke           0.00\n",
            "50         IPAnnualReimbursementAmt           0.00\n",
            "51            IPAnnualDeductibleAmt           0.00\n",
            "52         OPAnnualReimbursementAmt           0.00\n",
            "53            OPAnnualDeductibleAmt           0.00\n"
          ]
        }
      ]
    },
    {
      "cell_type": "code",
      "source": [
        "na_col_cv=[]\n",
        "na_perc_cv= np.round(((cv_fin.isna().sum())/cv_fin.shape[0])*100,2)\n",
        "na_perc_df_cv= na_perc_cv.to_frame()\n",
        "na_perc_df_cv.reset_index(inplace= True)\n",
        "na_perc_df_cv.columns= [\"col_name\",\"na_percentage\"]\n",
        "for i in range(na_perc_df_cv.shape[0]):\n",
        "    if na_perc_df_cv.iloc[i,1] == 0:\n",
        "        na_col_cv.append(i)  \n",
        "\n",
        "print(na_col_cv)"
      ],
      "metadata": {
        "colab": {
          "base_uri": "https://localhost:8080/"
        },
        "id": "FEXubO6D9wsX",
        "outputId": "c4ae5ad5-5d16-4414-c539-e711833dee97"
      },
      "execution_count": 33,
      "outputs": [
        {
          "output_type": "stream",
          "name": "stdout",
          "text": [
            "[0, 1, 2, 3, 4, 5, 30, 32, 33, 34, 35, 36, 37, 38, 39, 40, 41, 42, 43, 44, 45, 46, 47, 48, 49, 50, 51, 52, 53]\n"
          ]
        }
      ]
    },
    {
      "cell_type": "code",
      "source": [
        "na_perc_df_cv.drop(index=na_col_cv,inplace=True)\n",
        "na_perc_df_cv.reset_index(drop=True,inplace=True)\n",
        "print(na_perc_df_cv)"
      ],
      "metadata": {
        "colab": {
          "base_uri": "https://localhost:8080/"
        },
        "id": "JXNRZHSQ91cg",
        "outputId": "989b110c-d8b8-46d2-bc6f-081c443938a6"
      },
      "execution_count": 34,
      "outputs": [
        {
          "output_type": "stream",
          "name": "stdout",
          "text": [
            "                 col_name  na_percentage\n",
            "0      AttendingPhysician           0.27\n",
            "1      OperatingPhysician          79.47\n",
            "2          OtherPhysician          64.13\n",
            "3             AdmissionDt          92.88\n",
            "4   ClmAdmitDiagnosisCode          73.80\n",
            "5       DeductibleAmtPaid           0.16\n",
            "6             DischargeDt          92.88\n",
            "7      DiagnosisGroupCode          92.88\n",
            "8      ClmDiagnosisCode_1           1.92\n",
            "9      ClmDiagnosisCode_2          35.04\n",
            "10     ClmDiagnosisCode_3          56.43\n",
            "11     ClmDiagnosisCode_4          70.53\n",
            "12     ClmDiagnosisCode_5          80.02\n",
            "13     ClmDiagnosisCode_6          84.95\n",
            "14     ClmDiagnosisCode_7          88.21\n",
            "15     ClmDiagnosisCode_8          90.45\n",
            "16     ClmDiagnosisCode_9          92.56\n",
            "17    ClmDiagnosisCode_10          99.14\n",
            "18     ClmProcedureCode_1          95.91\n",
            "19     ClmProcedureCode_2          99.02\n",
            "20     ClmProcedureCode_3          99.83\n",
            "21     ClmProcedureCode_4          99.98\n",
            "22     ClmProcedureCode_5         100.00\n",
            "23     ClmProcedureCode_6         100.00\n",
            "24                    DOD          99.26\n"
          ]
        }
      ]
    },
    {
      "cell_type": "code",
      "source": [
        "clm_proc= ['ClmProcedureCode_1','ClmProcedureCode_2','ClmProcedureCode_3','ClmProcedureCode_4','ClmProcedureCode_5','ClmProcedureCode_6']"
      ],
      "metadata": {
        "id": "XcFqyqgW-CZY"
      },
      "execution_count": 35,
      "outputs": []
    },
    {
      "cell_type": "code",
      "source": [
        "#Isolating all the claim procedure columnns of the train and crossvalidate datasets into seperate dataframes\n",
        "tr_clm_pr = train_fin[clm_proc]\n",
        "cv_clm_pr = cv_fin[clm_proc]\n",
        "print(tr_clm_pr.shape)\n",
        "print(cv_clm_pr.shape)"
      ],
      "metadata": {
        "colab": {
          "base_uri": "https://localhost:8080/"
        },
        "id": "imK3vtSJ-d5g",
        "outputId": "debd7725-91e2-4f03-ef79-a957bbd0fda8"
      },
      "execution_count": 36,
      "outputs": [
        {
          "output_type": "stream",
          "name": "stdout",
          "text": [
            "(446568, 6)\n",
            "(111643, 6)\n"
          ]
        }
      ]
    },
    {
      "cell_type": "code",
      "source": [
        "#Creating a new column called '#_Procedures' to save the counts for each row where the counts of the non-nan values in each of the clm_proc are stored\n",
        "tr_clm_pr['#_Procedures']= np.zeros(len(train_fin['ClmProcedureCode_1']))\n",
        "\n",
        "for i in tqdm(range(len(tr_clm_pr['ClmProcedureCode_1']))):\n",
        "    count= 0\n",
        "    for j in range(len(clm_proc)):\n",
        "        if pd.isnull(tr_clm_pr.iloc[i,j])== False:\n",
        "            count=count+1\n",
        "    \n",
        "    tr_clm_pr['#_Procedures'][i]= count\n"
      ],
      "metadata": {
        "colab": {
          "base_uri": "https://localhost:8080/"
        },
        "id": "zeInrX75-t5j",
        "outputId": "83c5ad94-73b2-4fb2-ba2d-1bcd6ab433ae"
      },
      "execution_count": 37,
      "outputs": [
        {
          "output_type": "stream",
          "name": "stderr",
          "text": [
            "100%|██████████| 446568/446568 [03:37<00:00, 2049.27it/s]\n"
          ]
        }
      ]
    },
    {
      "cell_type": "code",
      "source": [
        "cv_clm_pr['#_Procedures']= np.zeros(len(cv_fin['ClmProcedureCode_1']))\n",
        "\n",
        "#Looping through each of the claim procedure columns and each of the observations\n",
        "#Counting the number of non-na values in each of the clm_proc columns in the each of the obs\n",
        "#Storing the count values in a seperate column titled '#_Procedures'\n",
        "for i in tqdm(range(len(cv_clm_pr['ClmProcedureCode_1']))):\n",
        "    count= 0\n",
        "    for j in range(len(clm_proc)):\n",
        "        if pd.isnull(cv_clm_pr.iloc[i,j])== False:\n",
        "            count=count+1\n",
        "    \n",
        "    cv_clm_pr['#_Procedures'][i]= count"
      ],
      "metadata": {
        "colab": {
          "base_uri": "https://localhost:8080/"
        },
        "id": "k33r4_Px_3HV",
        "outputId": "efdbc823-4ca9-4128-a2f1-89e1c108c2b5"
      },
      "execution_count": 38,
      "outputs": [
        {
          "output_type": "stream",
          "name": "stderr",
          "text": [
            "100%|██████████| 111643/111643 [00:55<00:00, 2014.09it/s]\n"
          ]
        }
      ]
    },
    {
      "cell_type": "code",
      "source": [
        "train_fin['#_Procedures']= tr_clm_pr['#_Procedures']\n",
        "cv_fin['#_Procedures']= cv_clm_pr['#_Procedures']"
      ],
      "metadata": {
        "id": "_5Ez_mEM_-zb"
      },
      "execution_count": 39,
      "outputs": []
    },
    {
      "cell_type": "code",
      "source": [
        "print(np.unique(train_fin['#_Procedures']))\n",
        "print(np.unique(cv_fin['#_Procedures']))"
      ],
      "metadata": {
        "colab": {
          "base_uri": "https://localhost:8080/"
        },
        "id": "gN8vip1CAWVd",
        "outputId": "be8fcd20-37c1-4832-b5ae-c2f83452c3aa"
      },
      "execution_count": 40,
      "outputs": [
        {
          "output_type": "stream",
          "name": "stdout",
          "text": [
            "[0. 1. 2. 3. 4. 5.]\n",
            "[0. 1. 2. 3. 4. 5.]\n"
          ]
        }
      ]
    },
    {
      "cell_type": "code",
      "source": [
        "#drop claim procedure code variables\n",
        "train_fin.drop(clm_proc, axis=1, inplace= True)\n",
        "cv_fin.drop(clm_proc, axis=1, inplace= True)"
      ],
      "metadata": {
        "id": "aNb7YZUkAdrc"
      },
      "execution_count": 41,
      "outputs": []
    },
    {
      "cell_type": "code",
      "source": [
        "clm_diag= ['ClmDiagnosisCode_1','ClmDiagnosisCode_2','ClmDiagnosisCode_3','ClmDiagnosisCode_4','ClmDiagnosisCode_5','ClmDiagnosisCode_6','ClmDiagnosisCode_7','ClmDiagnosisCode_8','ClmDiagnosisCode_9','ClmDiagnosisCode_10']\n"
      ],
      "metadata": {
        "id": "wNBeGh6JAmEb"
      },
      "execution_count": 43,
      "outputs": []
    },
    {
      "cell_type": "code",
      "source": [
        "tr_clm_dg= train_fin[clm_diag]\n",
        "cv_clm_dg= cv_fin[clm_diag]\n",
        "print(tr_clm_dg.shape)\n",
        "print(cv_clm_dg.shape)"
      ],
      "metadata": {
        "colab": {
          "base_uri": "https://localhost:8080/"
        },
        "id": "CatLshxwDV5l",
        "outputId": "1e6ba292-49cb-4021-e87b-803be3d4c8c8"
      },
      "execution_count": 44,
      "outputs": [
        {
          "output_type": "stream",
          "name": "stdout",
          "text": [
            "(446568, 10)\n",
            "(111643, 10)\n"
          ]
        }
      ]
    },
    {
      "cell_type": "code",
      "source": [
        "tr_clm_dg['#_DiagnosisCodes']= np.zeros(len(tr_clm_dg['ClmDiagnosisCode_1']))\n",
        "\n",
        "#Looping through each of the claim diagnosis columns and each of the observations\n",
        "#Counting the number of non-na values in each of the clm_diag columns in the each of the obs\n",
        "#Storing the count values in a seperate column titled '#_DiagnosisCodes'\n",
        "for i in tqdm(range(len(tr_clm_dg['ClmDiagnosisCode_1']))):\n",
        "    count= 0\n",
        "    for j in range(len(clm_diag)):\n",
        "        if pd.isnull(tr_clm_dg.iloc[i,j])== False:\n",
        "            count=count+1\n",
        "    \n",
        "    tr_clm_dg['#_DiagnosisCodes'][i]= count"
      ],
      "metadata": {
        "colab": {
          "base_uri": "https://localhost:8080/"
        },
        "id": "66RpVcYWDeaU",
        "outputId": "ca5c149c-f71e-4c41-9a93-3193a8c8121a"
      },
      "execution_count": 45,
      "outputs": [
        {
          "output_type": "stream",
          "name": "stderr",
          "text": [
            "100%|██████████| 446568/446568 [04:36<00:00, 1612.20it/s]\n"
          ]
        }
      ]
    },
    {
      "cell_type": "code",
      "source": [
        "\n",
        "\n",
        "cv_clm_dg['#_DiagnosisCodes']= np.zeros(len(cv_clm_dg['ClmDiagnosisCode_1']))\n",
        "\n",
        "#Looping through each of the claim diagnosis columns and each of the observations\n",
        "#Counting the number of non-na values in each of the clm_diag columns in the each of the obs\n",
        "#Storing the count values in a seperate column titled '#_DiagnosisCodes'\n",
        "for i in tqdm(range(len(cv_clm_dg['ClmDiagnosisCode_1']))):\n",
        "    count= 0\n",
        "    for j in range(len(clm_diag)):\n",
        "        if pd.isnull(cv_clm_dg.iloc[i,j])== False:\n",
        "            count=count+1\n",
        "    \n",
        "    cv_clm_dg['#_DiagnosisCodes'][i]= count\n",
        "\n"
      ],
      "metadata": {
        "colab": {
          "base_uri": "https://localhost:8080/"
        },
        "id": "dSgXBfoAEmky",
        "outputId": "742d4847-6dfb-4b04-c471-9d0a3c1b6061"
      },
      "execution_count": 46,
      "outputs": [
        {
          "output_type": "stream",
          "name": "stderr",
          "text": [
            "100%|██████████| 111643/111643 [01:14<00:00, 1490.68it/s]\n"
          ]
        }
      ]
    },
    {
      "cell_type": "code",
      "source": [
        "train_fin['#_DiagnosisCodes']= tr_clm_dg['#_DiagnosisCodes']\n",
        "cv_fin['#_DiagnosisCodes']= cv_clm_dg['#_DiagnosisCodes']"
      ],
      "metadata": {
        "id": "clSEGE57E51H"
      },
      "execution_count": 47,
      "outputs": []
    },
    {
      "cell_type": "code",
      "source": [
        "#Dropping the 10 Claim Diagnosis codes variables\n",
        "train_fin.drop(clm_diag,axis=1,inplace= True)\n",
        "cv_fin.drop(clm_diag,axis=1,inplace= True)"
      ],
      "metadata": {
        "id": "yB5gq5HGFEKd"
      },
      "execution_count": 48,
      "outputs": []
    },
    {
      "cell_type": "code",
      "source": [
        "train_fin[\"HospitalDays\"]= pd.to_datetime(train_fin['DischargeDt']) - pd.to_datetime(train_fin['AdmissionDt'])\n",
        "train_fin[\"HospitalDays\"]= train_fin[\"HospitalDays\"].dt.days"
      ],
      "metadata": {
        "id": "YE6BhPPnFVoJ"
      },
      "execution_count": 49,
      "outputs": []
    },
    {
      "cell_type": "code",
      "source": [
        "cv_fin[\"HospitalDays\"]= pd.to_datetime(cv_fin['DischargeDt']) - pd.to_datetime(cv_fin['AdmissionDt'])\n",
        "cv_fin[\"HospitalDays\"]= cv_fin[\"HospitalDays\"].dt.days"
      ],
      "metadata": {
        "id": "736-psW_Fh0c"
      },
      "execution_count": 50,
      "outputs": []
    },
    {
      "cell_type": "code",
      "source": [
        "train_fin.head()"
      ],
      "metadata": {
        "colab": {
          "base_uri": "https://localhost:8080/",
          "height": 300
        },
        "id": "0NL7kGumFpGd",
        "outputId": "a1d72683-a3cf-45d9-e1b9-10146f320868"
      },
      "execution_count": 51,
      "outputs": [
        {
          "output_type": "execute_result",
          "data": {
            "text/plain": [
              "       BeneID    ClaimID ClaimStartDt  ClaimEndDt  Provider  \\\n",
              "0   BENE22189  CLM164897   2009-01-29  2009-01-29  PRV54273   \n",
              "1  BENE156743   CLM79687   2009-12-15  2009-12-21  PRV56438   \n",
              "2  BENE157334  CLM724410   2009-12-11  2009-12-31  PRV53918   \n",
              "3   BENE30606  CLM580231   2009-09-15  2009-09-15  PRV55004   \n",
              "4   BENE11648   CLM76557   2009-11-19  2009-11-22  PRV51149   \n",
              "\n",
              "   InscClaimAmtReimbursed AttendingPhysician OperatingPhysician  \\\n",
              "0                      90          PHY419362                NaN   \n",
              "1                    5000          PHY410043                NaN   \n",
              "2                     400          PHY351111                NaN   \n",
              "3                      30          PHY342769                NaN   \n",
              "4                    2000          PHY332294          PHY332294   \n",
              "\n",
              "  OtherPhysician AdmissionDt  ... ChronicCond_Osteoporasis  \\\n",
              "0      PHY384386         NaN  ...                        1   \n",
              "1            NaN  2009-12-15  ...                        2   \n",
              "2            NaN         NaN  ...                        2   \n",
              "3      PHY371896         NaN  ...                        1   \n",
              "4            NaN  2009-11-19  ...                        2   \n",
              "\n",
              "   ChronicCond_rheumatoidarthritis ChronicCond_stroke  \\\n",
              "0                                2                  2   \n",
              "1                                2                  2   \n",
              "2                                1                  1   \n",
              "3                                2                  2   \n",
              "4                                2                  2   \n",
              "\n",
              "  IPAnnualReimbursementAmt IPAnnualDeductibleAmt OPAnnualReimbursementAmt  \\\n",
              "0                     5030                  1068                     1090   \n",
              "1                     5000                  1068                       70   \n",
              "2                        0                     0                     3870   \n",
              "3                     3000                  1068                     1680   \n",
              "4                     2000                  1068                     1160   \n",
              "\n",
              "   OPAnnualDeductibleAmt  #_Procedures #_DiagnosisCodes  HospitalDays  \n",
              "0                    560           0.0              1.0           NaN  \n",
              "1                      0           0.0              9.0           6.0  \n",
              "2                    540           0.0              3.0           NaN  \n",
              "3                    140           0.0              5.0           NaN  \n",
              "4                    650           1.0              9.0           3.0  \n",
              "\n",
              "[5 rows x 41 columns]"
            ],
            "text/html": [
              "\n",
              "  <div id=\"df-431d7a74-b44b-4eb2-a035-4c144d7f32df\">\n",
              "    <div class=\"colab-df-container\">\n",
              "      <div>\n",
              "<style scoped>\n",
              "    .dataframe tbody tr th:only-of-type {\n",
              "        vertical-align: middle;\n",
              "    }\n",
              "\n",
              "    .dataframe tbody tr th {\n",
              "        vertical-align: top;\n",
              "    }\n",
              "\n",
              "    .dataframe thead th {\n",
              "        text-align: right;\n",
              "    }\n",
              "</style>\n",
              "<table border=\"1\" class=\"dataframe\">\n",
              "  <thead>\n",
              "    <tr style=\"text-align: right;\">\n",
              "      <th></th>\n",
              "      <th>BeneID</th>\n",
              "      <th>ClaimID</th>\n",
              "      <th>ClaimStartDt</th>\n",
              "      <th>ClaimEndDt</th>\n",
              "      <th>Provider</th>\n",
              "      <th>InscClaimAmtReimbursed</th>\n",
              "      <th>AttendingPhysician</th>\n",
              "      <th>OperatingPhysician</th>\n",
              "      <th>OtherPhysician</th>\n",
              "      <th>AdmissionDt</th>\n",
              "      <th>...</th>\n",
              "      <th>ChronicCond_Osteoporasis</th>\n",
              "      <th>ChronicCond_rheumatoidarthritis</th>\n",
              "      <th>ChronicCond_stroke</th>\n",
              "      <th>IPAnnualReimbursementAmt</th>\n",
              "      <th>IPAnnualDeductibleAmt</th>\n",
              "      <th>OPAnnualReimbursementAmt</th>\n",
              "      <th>OPAnnualDeductibleAmt</th>\n",
              "      <th>#_Procedures</th>\n",
              "      <th>#_DiagnosisCodes</th>\n",
              "      <th>HospitalDays</th>\n",
              "    </tr>\n",
              "  </thead>\n",
              "  <tbody>\n",
              "    <tr>\n",
              "      <th>0</th>\n",
              "      <td>BENE22189</td>\n",
              "      <td>CLM164897</td>\n",
              "      <td>2009-01-29</td>\n",
              "      <td>2009-01-29</td>\n",
              "      <td>PRV54273</td>\n",
              "      <td>90</td>\n",
              "      <td>PHY419362</td>\n",
              "      <td>NaN</td>\n",
              "      <td>PHY384386</td>\n",
              "      <td>NaN</td>\n",
              "      <td>...</td>\n",
              "      <td>1</td>\n",
              "      <td>2</td>\n",
              "      <td>2</td>\n",
              "      <td>5030</td>\n",
              "      <td>1068</td>\n",
              "      <td>1090</td>\n",
              "      <td>560</td>\n",
              "      <td>0.0</td>\n",
              "      <td>1.0</td>\n",
              "      <td>NaN</td>\n",
              "    </tr>\n",
              "    <tr>\n",
              "      <th>1</th>\n",
              "      <td>BENE156743</td>\n",
              "      <td>CLM79687</td>\n",
              "      <td>2009-12-15</td>\n",
              "      <td>2009-12-21</td>\n",
              "      <td>PRV56438</td>\n",
              "      <td>5000</td>\n",
              "      <td>PHY410043</td>\n",
              "      <td>NaN</td>\n",
              "      <td>NaN</td>\n",
              "      <td>2009-12-15</td>\n",
              "      <td>...</td>\n",
              "      <td>2</td>\n",
              "      <td>2</td>\n",
              "      <td>2</td>\n",
              "      <td>5000</td>\n",
              "      <td>1068</td>\n",
              "      <td>70</td>\n",
              "      <td>0</td>\n",
              "      <td>0.0</td>\n",
              "      <td>9.0</td>\n",
              "      <td>6.0</td>\n",
              "    </tr>\n",
              "    <tr>\n",
              "      <th>2</th>\n",
              "      <td>BENE157334</td>\n",
              "      <td>CLM724410</td>\n",
              "      <td>2009-12-11</td>\n",
              "      <td>2009-12-31</td>\n",
              "      <td>PRV53918</td>\n",
              "      <td>400</td>\n",
              "      <td>PHY351111</td>\n",
              "      <td>NaN</td>\n",
              "      <td>NaN</td>\n",
              "      <td>NaN</td>\n",
              "      <td>...</td>\n",
              "      <td>2</td>\n",
              "      <td>1</td>\n",
              "      <td>1</td>\n",
              "      <td>0</td>\n",
              "      <td>0</td>\n",
              "      <td>3870</td>\n",
              "      <td>540</td>\n",
              "      <td>0.0</td>\n",
              "      <td>3.0</td>\n",
              "      <td>NaN</td>\n",
              "    </tr>\n",
              "    <tr>\n",
              "      <th>3</th>\n",
              "      <td>BENE30606</td>\n",
              "      <td>CLM580231</td>\n",
              "      <td>2009-09-15</td>\n",
              "      <td>2009-09-15</td>\n",
              "      <td>PRV55004</td>\n",
              "      <td>30</td>\n",
              "      <td>PHY342769</td>\n",
              "      <td>NaN</td>\n",
              "      <td>PHY371896</td>\n",
              "      <td>NaN</td>\n",
              "      <td>...</td>\n",
              "      <td>1</td>\n",
              "      <td>2</td>\n",
              "      <td>2</td>\n",
              "      <td>3000</td>\n",
              "      <td>1068</td>\n",
              "      <td>1680</td>\n",
              "      <td>140</td>\n",
              "      <td>0.0</td>\n",
              "      <td>5.0</td>\n",
              "      <td>NaN</td>\n",
              "    </tr>\n",
              "    <tr>\n",
              "      <th>4</th>\n",
              "      <td>BENE11648</td>\n",
              "      <td>CLM76557</td>\n",
              "      <td>2009-11-19</td>\n",
              "      <td>2009-11-22</td>\n",
              "      <td>PRV51149</td>\n",
              "      <td>2000</td>\n",
              "      <td>PHY332294</td>\n",
              "      <td>PHY332294</td>\n",
              "      <td>NaN</td>\n",
              "      <td>2009-11-19</td>\n",
              "      <td>...</td>\n",
              "      <td>2</td>\n",
              "      <td>2</td>\n",
              "      <td>2</td>\n",
              "      <td>2000</td>\n",
              "      <td>1068</td>\n",
              "      <td>1160</td>\n",
              "      <td>650</td>\n",
              "      <td>1.0</td>\n",
              "      <td>9.0</td>\n",
              "      <td>3.0</td>\n",
              "    </tr>\n",
              "  </tbody>\n",
              "</table>\n",
              "<p>5 rows × 41 columns</p>\n",
              "</div>\n",
              "      <button class=\"colab-df-convert\" onclick=\"convertToInteractive('df-431d7a74-b44b-4eb2-a035-4c144d7f32df')\"\n",
              "              title=\"Convert this dataframe to an interactive table.\"\n",
              "              style=\"display:none;\">\n",
              "        \n",
              "  <svg xmlns=\"http://www.w3.org/2000/svg\" height=\"24px\"viewBox=\"0 0 24 24\"\n",
              "       width=\"24px\">\n",
              "    <path d=\"M0 0h24v24H0V0z\" fill=\"none\"/>\n",
              "    <path d=\"M18.56 5.44l.94 2.06.94-2.06 2.06-.94-2.06-.94-.94-2.06-.94 2.06-2.06.94zm-11 1L8.5 8.5l.94-2.06 2.06-.94-2.06-.94L8.5 2.5l-.94 2.06-2.06.94zm10 10l.94 2.06.94-2.06 2.06-.94-2.06-.94-.94-2.06-.94 2.06-2.06.94z\"/><path d=\"M17.41 7.96l-1.37-1.37c-.4-.4-.92-.59-1.43-.59-.52 0-1.04.2-1.43.59L10.3 9.45l-7.72 7.72c-.78.78-.78 2.05 0 2.83L4 21.41c.39.39.9.59 1.41.59.51 0 1.02-.2 1.41-.59l7.78-7.78 2.81-2.81c.8-.78.8-2.07 0-2.86zM5.41 20L4 18.59l7.72-7.72 1.47 1.35L5.41 20z\"/>\n",
              "  </svg>\n",
              "      </button>\n",
              "      \n",
              "  <style>\n",
              "    .colab-df-container {\n",
              "      display:flex;\n",
              "      flex-wrap:wrap;\n",
              "      gap: 12px;\n",
              "    }\n",
              "\n",
              "    .colab-df-convert {\n",
              "      background-color: #E8F0FE;\n",
              "      border: none;\n",
              "      border-radius: 50%;\n",
              "      cursor: pointer;\n",
              "      display: none;\n",
              "      fill: #1967D2;\n",
              "      height: 32px;\n",
              "      padding: 0 0 0 0;\n",
              "      width: 32px;\n",
              "    }\n",
              "\n",
              "    .colab-df-convert:hover {\n",
              "      background-color: #E2EBFA;\n",
              "      box-shadow: 0px 1px 2px rgba(60, 64, 67, 0.3), 0px 1px 3px 1px rgba(60, 64, 67, 0.15);\n",
              "      fill: #174EA6;\n",
              "    }\n",
              "\n",
              "    [theme=dark] .colab-df-convert {\n",
              "      background-color: #3B4455;\n",
              "      fill: #D2E3FC;\n",
              "    }\n",
              "\n",
              "    [theme=dark] .colab-df-convert:hover {\n",
              "      background-color: #434B5C;\n",
              "      box-shadow: 0px 1px 3px 1px rgba(0, 0, 0, 0.15);\n",
              "      filter: drop-shadow(0px 1px 2px rgba(0, 0, 0, 0.3));\n",
              "      fill: #FFFFFF;\n",
              "    }\n",
              "  </style>\n",
              "\n",
              "      <script>\n",
              "        const buttonEl =\n",
              "          document.querySelector('#df-431d7a74-b44b-4eb2-a035-4c144d7f32df button.colab-df-convert');\n",
              "        buttonEl.style.display =\n",
              "          google.colab.kernel.accessAllowed ? 'block' : 'none';\n",
              "\n",
              "        async function convertToInteractive(key) {\n",
              "          const element = document.querySelector('#df-431d7a74-b44b-4eb2-a035-4c144d7f32df');\n",
              "          const dataTable =\n",
              "            await google.colab.kernel.invokeFunction('convertToInteractive',\n",
              "                                                     [key], {});\n",
              "          if (!dataTable) return;\n",
              "\n",
              "          const docLinkHtml = 'Like what you see? Visit the ' +\n",
              "            '<a target=\"_blank\" href=https://colab.research.google.com/notebooks/data_table.ipynb>data table notebook</a>'\n",
              "            + ' to learn more about interactive tables.';\n",
              "          element.innerHTML = '';\n",
              "          dataTable['output_type'] = 'display_data';\n",
              "          await google.colab.output.renderOutput(dataTable, element);\n",
              "          const docLink = document.createElement('div');\n",
              "          docLink.innerHTML = docLinkHtml;\n",
              "          element.appendChild(docLink);\n",
              "        }\n",
              "      </script>\n",
              "    </div>\n",
              "  </div>\n",
              "  "
            ]
          },
          "metadata": {},
          "execution_count": 51
        }
      ]
    },
    {
      "cell_type": "code",
      "source": [
        "with open('/content/drive/MyDrive/Colab Notebooks/train_fin_n1.pkl','wb') as tr_df:\n",
        "    pickle.dump(train_fin,tr_df)\n",
        "with open('/content/drive/MyDrive/Colab Notebooks/cv_fin_n1.pkl','wb') as cv_df:\n",
        "    pickle.dump(cv_fin,cv_df)"
      ],
      "metadata": {
        "id": "i1_I0g0DFrR_"
      },
      "execution_count": 52,
      "outputs": []
    },
    {
      "cell_type": "code",
      "source": [
        "with open('/content/drive/MyDrive/Colab Notebooks/train_fin_n1.pkl','rb') as tr_df:\n",
        "    train_fin1= pickle.load(tr_df)\n",
        "with open('/content/drive/MyDrive/Colab Notebooks/cv_fin_n1.pkl','rb') as cv_df:\n",
        "    cv_fin1= pickle.load(cv_df)"
      ],
      "metadata": {
        "id": "SBBtwlImF4Pu"
      },
      "execution_count": 53,
      "outputs": []
    },
    {
      "cell_type": "code",
      "source": [
        "print(train_fin1['HospitalDays'].isna().sum())\n",
        "print(cv_fin1['HospitalDays'].isna().sum())"
      ],
      "metadata": {
        "colab": {
          "base_uri": "https://localhost:8080/"
        },
        "id": "G_T4fk8kF9wL",
        "outputId": "da8ad6bc-4d0d-41f0-c02c-2c125bbe25b2"
      },
      "execution_count": 54,
      "outputs": [
        {
          "output_type": "stream",
          "name": "stdout",
          "text": [
            "414039\n",
            "103698\n"
          ]
        }
      ]
    },
    {
      "cell_type": "code",
      "source": [
        "#Imputing the NA values in the HospitalDates variable with 0 values\n",
        "train_fin1[\"HospitalDays\"]=train_fin1[\"HospitalDays\"].fillna(0)\n",
        "cv_fin1[\"HospitalDays\"]=cv_fin1[\"HospitalDays\"].fillna(0)"
      ],
      "metadata": {
        "id": "tfX3CRH5F-nZ"
      },
      "execution_count": 55,
      "outputs": []
    },
    {
      "cell_type": "code",
      "source": [
        "#Categorizing the variable as per weeks as it introduces \n",
        "#ordinality in the feature as well as seperates out the inpatient and the outpatient data \n",
        "for i in tqdm(range(len(train_fin1['HospitalDays']))):\n",
        "    if train_fin1['HospitalDays'][i]==0.0:\n",
        "        train_fin1[\"HospitalDays\"][i]= 0\n",
        "    if train_fin1[\"HospitalDays\"][i]>0 and train_fin1[\"HospitalDays\"][i]<=7:\n",
        "        train_fin1[\"HospitalDays\"][i]= 1\n",
        "    elif train_fin1[\"HospitalDays\"][i]>7 and train_fin1[\"HospitalDays\"][i]<=14:\n",
        "        train_fin1[\"HospitalDays\"][i]= 2 \n",
        "    elif train_fin1[\"HospitalDays\"][i]>14 and train_fin1[\"HospitalDays\"][i]<=21:\n",
        "        train_fin1[\"HospitalDays\"][i]= 3\n",
        "    elif train_fin1[\"HospitalDays\"][i]>21 and train_fin1[\"HospitalDays\"][i]<=28:\n",
        "        train_fin1[\"HospitalDays\"][i]= 4\n",
        "    elif train_fin1[\"HospitalDays\"][i]>28:\n",
        "        train_fin1[\"HospitalDays\"][i]= 5"
      ],
      "metadata": {
        "colab": {
          "base_uri": "https://localhost:8080/"
        },
        "id": "hcOvGLh2GOb-",
        "outputId": "461a9b5f-23fe-4505-93ae-be1281285b70"
      },
      "execution_count": 56,
      "outputs": [
        {
          "output_type": "stream",
          "name": "stderr",
          "text": [
            "100%|██████████| 446568/446568 [02:11<00:00, 3387.89it/s]\n"
          ]
        }
      ]
    },
    {
      "cell_type": "code",
      "source": [
        "train_fin1= train_fin1.rename(columns={'HospitalDays':'HospitalWeeks'})\n",
        "cv_fin1= cv_fin1.rename(columns={'HospitalDays':'HospitalWeeks'})"
      ],
      "metadata": {
        "id": "gOWLiRL4HDf2"
      },
      "execution_count": 57,
      "outputs": []
    },
    {
      "cell_type": "code",
      "source": [
        "#Dropping the Admission Date and the Discharge Date columns from the dataset\n",
        "train_fin1.drop(['AdmissionDt','DischargeDt'], axis=1, inplace=True)\n",
        "cv_fin1.drop(['AdmissionDt','DischargeDt'], axis=1, inplace=True)"
      ],
      "metadata": {
        "id": "MRIKgRiyHM1k"
      },
      "execution_count": 58,
      "outputs": []
    },
    {
      "cell_type": "code",
      "source": [
        "#Imputing the Attending Physician with Mode or MostFrequent strategy using SimpleImputer\n",
        "cat_imp= SimpleImputer(missing_values= np.nan, strategy= 'most_frequent')\n",
        "train_fin1[\"AttendingPhysician\"]= cat_imp.fit_transform(train_fin1['AttendingPhysician'].values.reshape(-1,1))[:,0]"
      ],
      "metadata": {
        "id": "gsGa1Lz_HSkA"
      },
      "execution_count": 59,
      "outputs": []
    },
    {
      "cell_type": "code",
      "source": [
        "train_fin1[\"AttendingPhysician\"].isna().sum()"
      ],
      "metadata": {
        "colab": {
          "base_uri": "https://localhost:8080/"
        },
        "id": "NFUnHW-nHyZW",
        "outputId": "273d6aa1-e1a8-45ac-b2fc-411182022c6a"
      },
      "execution_count": 60,
      "outputs": [
        {
          "output_type": "execute_result",
          "data": {
            "text/plain": [
              "0"
            ]
          },
          "metadata": {},
          "execution_count": 60
        }
      ]
    },
    {
      "cell_type": "code",
      "source": [
        "for i in tqdm(range(len(train_fin1[\"AttendingPhysician\"]))):\n",
        "    if pd.isnull(train_fin1[\"OperatingPhysician\"][i])==True and pd.isnull(train_fin1[\"OtherPhysician\"][i])==True:\n",
        "        train_fin1[\"IllnessNature\"][i]= \"simple\"\n",
        "    elif pd.isnull(train_fin1[\"OperatingPhysician\"][i])==True and pd.isnull(train_fin1[\"OtherPhysician\"][i])==False:\n",
        "        train_fin1[\"IllnessNature\"][i]= \"operating\"\n",
        "    elif pd.isnull(train_fin1[\"OperatingPhysician\"][i])==False and pd.isnull(train_fin1[\"OtherPhysician\"][i])==True:\n",
        "        train_fin1[\"IllnessNature\"][i]= \"comorbid\"\n",
        "    elif pd.isnull(train_fin1[\"OperatingPhysician\"][i])==False and pd.isnull(train_fin1[\"OtherPhysician\"][i])==False:\n",
        "        train_fin1[\"IllnessNature\"][i]= \"operating&comorbid\""
      ],
      "metadata": {
        "colab": {
          "base_uri": "https://localhost:8080/"
        },
        "id": "PLmsGZIVIUq1",
        "outputId": "d05be2f0-a5b3-44ab-8406-d43fd5b23b73"
      },
      "execution_count": 63,
      "outputs": [
        {
          "output_type": "stream",
          "name": "stderr",
          "text": [
            "100%|██████████| 446568/446568 [00:12<00:00, 35662.81it/s]\n"
          ]
        }
      ]
    },
    {
      "cell_type": "code",
      "source": [
        "for i in tqdm(range(len(cv_fin1[\"AttendingPhysician\"]))):\n",
        "    if pd.isnull(cv_fin1[\"OperatingPhysician\"][i])==True and pd.isnull(cv_fin1[\"OtherPhysician\"][i])==True:\n",
        "        cv_fin1[\"IllnessNature\"][i]= \"simple\"\n",
        "    elif pd.isnull(cv_fin1[\"OperatingPhysician\"][i])==True and pd.isnull(cv_fin1[\"OtherPhysician\"][i])==False:\n",
        "        cv_fin1[\"IllnessNature\"][i]= \"operating\"\n",
        "    elif pd.isnull(cv_fin1[\"OperatingPhysician\"][i])==False and pd.isnull(cv_fin1[\"OtherPhysician\"][i])==True:\n",
        "        cv_fin1[\"IllnessNature\"][i]= \"comorbid\"\n",
        "    elif pd.isnull(cv_fin1[\"OperatingPhysician\"][i])==False and pd.isnull(cv_fin1[\"OtherPhysician\"][i])==False:\n",
        "        cv_fin1[\"IllnessNature\"][i]= \"operating&comorbid\""
      ],
      "metadata": {
        "colab": {
          "base_uri": "https://localhost:8080/"
        },
        "id": "wB0pAvwxInPC",
        "outputId": "49231595-994d-49d2-c866-197caa0aeb49"
      },
      "execution_count": 64,
      "outputs": [
        {
          "output_type": "stream",
          "name": "stderr",
          "text": [
            "100%|██████████| 111643/111643 [00:03<00:00, 35728.71it/s]\n"
          ]
        }
      ]
    },
    {
      "cell_type": "code",
      "source": [
        "print(np.unique(train_fin1[\"IllnessNature\"]))\n",
        "print(np.unique(cv_fin1[\"IllnessNature\"]))"
      ],
      "metadata": {
        "colab": {
          "base_uri": "https://localhost:8080/"
        },
        "id": "J35h-dS2Is8D",
        "outputId": "66ce698c-4880-483e-f514-5a1ffbc06ea1"
      },
      "execution_count": 65,
      "outputs": [
        {
          "output_type": "stream",
          "name": "stdout",
          "text": [
            "['comorbid' 'operating' 'operating&comorbid' 'simple']\n",
            "['comorbid' 'operating' 'operating&comorbid' 'simple']\n"
          ]
        }
      ]
    },
    {
      "cell_type": "code",
      "source": [
        "train_fin1.drop(['OperatingPhysician','OtherPhysician'], axis=1,inplace=True)\n",
        "cv_fin1.drop(['OperatingPhysician','OtherPhysician'], axis=1,inplace=True)"
      ],
      "metadata": {
        "id": "Whh1ksPdI1vl"
      },
      "execution_count": 66,
      "outputs": []
    },
    {
      "cell_type": "code",
      "source": [
        "train_fin1.head()"
      ],
      "metadata": {
        "colab": {
          "base_uri": "https://localhost:8080/",
          "height": 300
        },
        "id": "baxxkm41I6xM",
        "outputId": "7003f7bc-758c-4e34-fd34-81b6258117a1"
      },
      "execution_count": 68,
      "outputs": [
        {
          "output_type": "execute_result",
          "data": {
            "text/plain": [
              "       BeneID    ClaimID ClaimStartDt  ClaimEndDt  Provider  \\\n",
              "0   BENE22189  CLM164897   2009-01-29  2009-01-29  PRV54273   \n",
              "1  BENE156743   CLM79687   2009-12-15  2009-12-21  PRV56438   \n",
              "2  BENE157334  CLM724410   2009-12-11  2009-12-31  PRV53918   \n",
              "3   BENE30606  CLM580231   2009-09-15  2009-09-15  PRV55004   \n",
              "4   BENE11648   CLM76557   2009-11-19  2009-11-22  PRV51149   \n",
              "\n",
              "   InscClaimAmtReimbursed AttendingPhysician ClmAdmitDiagnosisCode  \\\n",
              "0                      90          PHY419362                 25000   \n",
              "1                    5000          PHY410043                   486   \n",
              "2                     400          PHY351111                   NaN   \n",
              "3                      30          PHY342769                   NaN   \n",
              "4                    2000          PHY332294                 42823   \n",
              "\n",
              "   DeductibleAmtPaid DiagnosisGroupCode  ... ChronicCond_rheumatoidarthritis  \\\n",
              "0                0.0                NaN  ...                               2   \n",
              "1             1068.0                628  ...                               2   \n",
              "2                0.0                NaN  ...                               1   \n",
              "3                0.0                NaN  ...                               2   \n",
              "4             1068.0                236  ...                               2   \n",
              "\n",
              "  ChronicCond_stroke  IPAnnualReimbursementAmt  IPAnnualDeductibleAmt  \\\n",
              "0                  2                      5030                   1068   \n",
              "1                  2                      5000                   1068   \n",
              "2                  1                         0                      0   \n",
              "3                  2                      3000                   1068   \n",
              "4                  2                      2000                   1068   \n",
              "\n",
              "  OPAnnualReimbursementAmt  OPAnnualDeductibleAmt  #_Procedures  \\\n",
              "0                     1090                    560           0.0   \n",
              "1                       70                      0           0.0   \n",
              "2                     3870                    540           0.0   \n",
              "3                     1680                    140           0.0   \n",
              "4                     1160                    650           1.0   \n",
              "\n",
              "   #_DiagnosisCodes  HospitalWeeks  IllnessNature  \n",
              "0               1.0            0.0      operating  \n",
              "1               9.0            1.0         simple  \n",
              "2               3.0            0.0         simple  \n",
              "3               5.0            0.0      operating  \n",
              "4               9.0            1.0       comorbid  \n",
              "\n",
              "[5 rows x 38 columns]"
            ],
            "text/html": [
              "\n",
              "  <div id=\"df-d0cb6066-c354-4d32-a332-9ab8a30a17dd\">\n",
              "    <div class=\"colab-df-container\">\n",
              "      <div>\n",
              "<style scoped>\n",
              "    .dataframe tbody tr th:only-of-type {\n",
              "        vertical-align: middle;\n",
              "    }\n",
              "\n",
              "    .dataframe tbody tr th {\n",
              "        vertical-align: top;\n",
              "    }\n",
              "\n",
              "    .dataframe thead th {\n",
              "        text-align: right;\n",
              "    }\n",
              "</style>\n",
              "<table border=\"1\" class=\"dataframe\">\n",
              "  <thead>\n",
              "    <tr style=\"text-align: right;\">\n",
              "      <th></th>\n",
              "      <th>BeneID</th>\n",
              "      <th>ClaimID</th>\n",
              "      <th>ClaimStartDt</th>\n",
              "      <th>ClaimEndDt</th>\n",
              "      <th>Provider</th>\n",
              "      <th>InscClaimAmtReimbursed</th>\n",
              "      <th>AttendingPhysician</th>\n",
              "      <th>ClmAdmitDiagnosisCode</th>\n",
              "      <th>DeductibleAmtPaid</th>\n",
              "      <th>DiagnosisGroupCode</th>\n",
              "      <th>...</th>\n",
              "      <th>ChronicCond_rheumatoidarthritis</th>\n",
              "      <th>ChronicCond_stroke</th>\n",
              "      <th>IPAnnualReimbursementAmt</th>\n",
              "      <th>IPAnnualDeductibleAmt</th>\n",
              "      <th>OPAnnualReimbursementAmt</th>\n",
              "      <th>OPAnnualDeductibleAmt</th>\n",
              "      <th>#_Procedures</th>\n",
              "      <th>#_DiagnosisCodes</th>\n",
              "      <th>HospitalWeeks</th>\n",
              "      <th>IllnessNature</th>\n",
              "    </tr>\n",
              "  </thead>\n",
              "  <tbody>\n",
              "    <tr>\n",
              "      <th>0</th>\n",
              "      <td>BENE22189</td>\n",
              "      <td>CLM164897</td>\n",
              "      <td>2009-01-29</td>\n",
              "      <td>2009-01-29</td>\n",
              "      <td>PRV54273</td>\n",
              "      <td>90</td>\n",
              "      <td>PHY419362</td>\n",
              "      <td>25000</td>\n",
              "      <td>0.0</td>\n",
              "      <td>NaN</td>\n",
              "      <td>...</td>\n",
              "      <td>2</td>\n",
              "      <td>2</td>\n",
              "      <td>5030</td>\n",
              "      <td>1068</td>\n",
              "      <td>1090</td>\n",
              "      <td>560</td>\n",
              "      <td>0.0</td>\n",
              "      <td>1.0</td>\n",
              "      <td>0.0</td>\n",
              "      <td>operating</td>\n",
              "    </tr>\n",
              "    <tr>\n",
              "      <th>1</th>\n",
              "      <td>BENE156743</td>\n",
              "      <td>CLM79687</td>\n",
              "      <td>2009-12-15</td>\n",
              "      <td>2009-12-21</td>\n",
              "      <td>PRV56438</td>\n",
              "      <td>5000</td>\n",
              "      <td>PHY410043</td>\n",
              "      <td>486</td>\n",
              "      <td>1068.0</td>\n",
              "      <td>628</td>\n",
              "      <td>...</td>\n",
              "      <td>2</td>\n",
              "      <td>2</td>\n",
              "      <td>5000</td>\n",
              "      <td>1068</td>\n",
              "      <td>70</td>\n",
              "      <td>0</td>\n",
              "      <td>0.0</td>\n",
              "      <td>9.0</td>\n",
              "      <td>1.0</td>\n",
              "      <td>simple</td>\n",
              "    </tr>\n",
              "    <tr>\n",
              "      <th>2</th>\n",
              "      <td>BENE157334</td>\n",
              "      <td>CLM724410</td>\n",
              "      <td>2009-12-11</td>\n",
              "      <td>2009-12-31</td>\n",
              "      <td>PRV53918</td>\n",
              "      <td>400</td>\n",
              "      <td>PHY351111</td>\n",
              "      <td>NaN</td>\n",
              "      <td>0.0</td>\n",
              "      <td>NaN</td>\n",
              "      <td>...</td>\n",
              "      <td>1</td>\n",
              "      <td>1</td>\n",
              "      <td>0</td>\n",
              "      <td>0</td>\n",
              "      <td>3870</td>\n",
              "      <td>540</td>\n",
              "      <td>0.0</td>\n",
              "      <td>3.0</td>\n",
              "      <td>0.0</td>\n",
              "      <td>simple</td>\n",
              "    </tr>\n",
              "    <tr>\n",
              "      <th>3</th>\n",
              "      <td>BENE30606</td>\n",
              "      <td>CLM580231</td>\n",
              "      <td>2009-09-15</td>\n",
              "      <td>2009-09-15</td>\n",
              "      <td>PRV55004</td>\n",
              "      <td>30</td>\n",
              "      <td>PHY342769</td>\n",
              "      <td>NaN</td>\n",
              "      <td>0.0</td>\n",
              "      <td>NaN</td>\n",
              "      <td>...</td>\n",
              "      <td>2</td>\n",
              "      <td>2</td>\n",
              "      <td>3000</td>\n",
              "      <td>1068</td>\n",
              "      <td>1680</td>\n",
              "      <td>140</td>\n",
              "      <td>0.0</td>\n",
              "      <td>5.0</td>\n",
              "      <td>0.0</td>\n",
              "      <td>operating</td>\n",
              "    </tr>\n",
              "    <tr>\n",
              "      <th>4</th>\n",
              "      <td>BENE11648</td>\n",
              "      <td>CLM76557</td>\n",
              "      <td>2009-11-19</td>\n",
              "      <td>2009-11-22</td>\n",
              "      <td>PRV51149</td>\n",
              "      <td>2000</td>\n",
              "      <td>PHY332294</td>\n",
              "      <td>42823</td>\n",
              "      <td>1068.0</td>\n",
              "      <td>236</td>\n",
              "      <td>...</td>\n",
              "      <td>2</td>\n",
              "      <td>2</td>\n",
              "      <td>2000</td>\n",
              "      <td>1068</td>\n",
              "      <td>1160</td>\n",
              "      <td>650</td>\n",
              "      <td>1.0</td>\n",
              "      <td>9.0</td>\n",
              "      <td>1.0</td>\n",
              "      <td>comorbid</td>\n",
              "    </tr>\n",
              "  </tbody>\n",
              "</table>\n",
              "<p>5 rows × 38 columns</p>\n",
              "</div>\n",
              "      <button class=\"colab-df-convert\" onclick=\"convertToInteractive('df-d0cb6066-c354-4d32-a332-9ab8a30a17dd')\"\n",
              "              title=\"Convert this dataframe to an interactive table.\"\n",
              "              style=\"display:none;\">\n",
              "        \n",
              "  <svg xmlns=\"http://www.w3.org/2000/svg\" height=\"24px\"viewBox=\"0 0 24 24\"\n",
              "       width=\"24px\">\n",
              "    <path d=\"M0 0h24v24H0V0z\" fill=\"none\"/>\n",
              "    <path d=\"M18.56 5.44l.94 2.06.94-2.06 2.06-.94-2.06-.94-.94-2.06-.94 2.06-2.06.94zm-11 1L8.5 8.5l.94-2.06 2.06-.94-2.06-.94L8.5 2.5l-.94 2.06-2.06.94zm10 10l.94 2.06.94-2.06 2.06-.94-2.06-.94-.94-2.06-.94 2.06-2.06.94z\"/><path d=\"M17.41 7.96l-1.37-1.37c-.4-.4-.92-.59-1.43-.59-.52 0-1.04.2-1.43.59L10.3 9.45l-7.72 7.72c-.78.78-.78 2.05 0 2.83L4 21.41c.39.39.9.59 1.41.59.51 0 1.02-.2 1.41-.59l7.78-7.78 2.81-2.81c.8-.78.8-2.07 0-2.86zM5.41 20L4 18.59l7.72-7.72 1.47 1.35L5.41 20z\"/>\n",
              "  </svg>\n",
              "      </button>\n",
              "      \n",
              "  <style>\n",
              "    .colab-df-container {\n",
              "      display:flex;\n",
              "      flex-wrap:wrap;\n",
              "      gap: 12px;\n",
              "    }\n",
              "\n",
              "    .colab-df-convert {\n",
              "      background-color: #E8F0FE;\n",
              "      border: none;\n",
              "      border-radius: 50%;\n",
              "      cursor: pointer;\n",
              "      display: none;\n",
              "      fill: #1967D2;\n",
              "      height: 32px;\n",
              "      padding: 0 0 0 0;\n",
              "      width: 32px;\n",
              "    }\n",
              "\n",
              "    .colab-df-convert:hover {\n",
              "      background-color: #E2EBFA;\n",
              "      box-shadow: 0px 1px 2px rgba(60, 64, 67, 0.3), 0px 1px 3px 1px rgba(60, 64, 67, 0.15);\n",
              "      fill: #174EA6;\n",
              "    }\n",
              "\n",
              "    [theme=dark] .colab-df-convert {\n",
              "      background-color: #3B4455;\n",
              "      fill: #D2E3FC;\n",
              "    }\n",
              "\n",
              "    [theme=dark] .colab-df-convert:hover {\n",
              "      background-color: #434B5C;\n",
              "      box-shadow: 0px 1px 3px 1px rgba(0, 0, 0, 0.15);\n",
              "      filter: drop-shadow(0px 1px 2px rgba(0, 0, 0, 0.3));\n",
              "      fill: #FFFFFF;\n",
              "    }\n",
              "  </style>\n",
              "\n",
              "      <script>\n",
              "        const buttonEl =\n",
              "          document.querySelector('#df-d0cb6066-c354-4d32-a332-9ab8a30a17dd button.colab-df-convert');\n",
              "        buttonEl.style.display =\n",
              "          google.colab.kernel.accessAllowed ? 'block' : 'none';\n",
              "\n",
              "        async function convertToInteractive(key) {\n",
              "          const element = document.querySelector('#df-d0cb6066-c354-4d32-a332-9ab8a30a17dd');\n",
              "          const dataTable =\n",
              "            await google.colab.kernel.invokeFunction('convertToInteractive',\n",
              "                                                     [key], {});\n",
              "          if (!dataTable) return;\n",
              "\n",
              "          const docLinkHtml = 'Like what you see? Visit the ' +\n",
              "            '<a target=\"_blank\" href=https://colab.research.google.com/notebooks/data_table.ipynb>data table notebook</a>'\n",
              "            + ' to learn more about interactive tables.';\n",
              "          element.innerHTML = '';\n",
              "          dataTable['output_type'] = 'display_data';\n",
              "          await google.colab.output.renderOutput(dataTable, element);\n",
              "          const docLink = document.createElement('div');\n",
              "          docLink.innerHTML = docLinkHtml;\n",
              "          element.appendChild(docLink);\n",
              "        }\n",
              "      </script>\n",
              "    </div>\n",
              "  </div>\n",
              "  "
            ]
          },
          "metadata": {},
          "execution_count": 68
        }
      ]
    },
    {
      "cell_type": "code",
      "source": [
        "#Extracting the number of days from the claim start date and the claim end dates by taking a difference\n",
        "#Converting the number of days during which the claim was in process into number of weeks\n",
        "\n",
        "train_fin1[\"ClaimDays\"]= (pd.to_datetime(train_fin1['ClaimEndDt']) - pd.to_datetime(train_fin1['ClaimStartDt'])).dt.days\n",
        "cv_fin1[\"ClaimDays\"]= (pd.to_datetime(cv_fin1['ClaimEndDt']) - pd.to_datetime(cv_fin1['ClaimStartDt'])).dt.days"
      ],
      "metadata": {
        "id": "s89fv9MGI9S7"
      },
      "execution_count": 69,
      "outputs": []
    },
    {
      "cell_type": "code",
      "source": [
        "train_fin1.drop(['ClaimEndDt','ClaimStartDt'],axis=1, inplace=True)\n",
        "cv_fin1.drop(['ClaimEndDt','ClaimStartDt'],axis=1, inplace=True)"
      ],
      "metadata": {
        "id": "LF-BzfCIJaro"
      },
      "execution_count": 70,
      "outputs": []
    },
    {
      "cell_type": "code",
      "source": [
        "for i in tqdm(range(len(train_fin1['ClaimDays']))):\n",
        "    if train_fin1['ClaimDays'][i]==0:\n",
        "        train_fin1['ClaimDays'][i]=0 \n",
        "    elif train_fin1['ClaimDays'][i]>0 and train_fin1['ClaimDays'][i]<=7:\n",
        "        train_fin1['ClaimDays'][i]= 1\n",
        "    elif train_fin1['ClaimDays'][i]>7 and train_fin1['ClaimDays'][i]<=14:\n",
        "        train_fin1['ClaimDays'][i]= 2\n",
        "    elif train_fin1['ClaimDays'][i]> 14 and train_fin1['ClaimDays'][i]<=21:\n",
        "        train_fin1['ClaimDays'][i]= 3\n",
        "    elif train_fin1['ClaimDays'][i]>21 and train_fin1['ClaimDays'][i]<=28:\n",
        "        train_fin1['ClaimDays'][i]= 4\n",
        "    elif train_fin1['ClaimDays'][i]>28 and train_fin1['ClaimDays'][i]<=35:\n",
        "        train_fin1['ClaimDays'][i]=5\n",
        "    elif train_fin1['ClaimDays'][i]>35:\n",
        "        train_fin1['ClaimDays'][i]=6\n"
      ],
      "metadata": {
        "colab": {
          "base_uri": "https://localhost:8080/"
        },
        "id": "SYjmX5fwJnUd",
        "outputId": "5b2125f2-94be-45d0-e666-b223bec1526d"
      },
      "execution_count": 71,
      "outputs": [
        {
          "output_type": "stream",
          "name": "stderr",
          "text": [
            "100%|██████████| 446568/446568 [01:57<00:00, 3814.56it/s]\n"
          ]
        }
      ]
    },
    {
      "cell_type": "code",
      "source": [
        "for i in tqdm(range(len(cv_fin1['ClaimDays']))):\n",
        "    if cv_fin1['ClaimDays'][i]==0:\n",
        "        cv_fin1['ClaimDays'][i]=0 \n",
        "    elif cv_fin1['ClaimDays'][i]>0 and cv_fin1['ClaimDays'][i]<=7:\n",
        "        cv_fin1['ClaimDays'][i]= 1\n",
        "    elif cv_fin1['ClaimDays'][i]>7 and cv_fin1['ClaimDays'][i]<=14:\n",
        "        cv_fin1['ClaimDays'][i]= 2\n",
        "    elif cv_fin1['ClaimDays'][i]> 14 and cv_fin1['ClaimDays'][i]<=21:\n",
        "        cv_fin1['ClaimDays'][i]= 3\n",
        "    elif cv_fin1['ClaimDays'][i]>21 and cv_fin1['ClaimDays'][i]<=28:\n",
        "        cv_fin1['ClaimDays'][i]= 4\n",
        "    elif cv_fin1['ClaimDays'][i]>28 and cv_fin1['ClaimDays'][i]<=35:\n",
        "        cv_fin1['ClaimDays'][i]=5\n",
        "    elif cv_fin1['ClaimDays'][i]>35:\n",
        "        cv_fin1['ClaimDays'][i]=6"
      ],
      "metadata": {
        "colab": {
          "base_uri": "https://localhost:8080/"
        },
        "id": "L0bPH57BKWgd",
        "outputId": "f41b0096-c904-4891-9e76-cce582ea4d30"
      },
      "execution_count": 72,
      "outputs": [
        {
          "output_type": "stream",
          "name": "stderr",
          "text": [
            "100%|██████████| 111643/111643 [00:29<00:00, 3780.53it/s]\n"
          ]
        }
      ]
    },
    {
      "cell_type": "code",
      "source": [
        "train_fin1= train_fin1.rename(columns={'ClaimDays':'ClaimWeeks'})\n",
        "cv_fin1= cv_fin1.rename(columns={'ClaimDays':'ClaimWeeks'})"
      ],
      "metadata": {
        "id": "TnuwOzOhKfvk"
      },
      "execution_count": 73,
      "outputs": []
    },
    {
      "cell_type": "code",
      "source": [
        "with open('/content/drive/MyDrive/Colab Notebooks/train_fin_n2.pkl','wb') as tr_df:\n",
        "    pickle.dump(train_fin1,tr_df)\n",
        "with open('/content/drive/MyDrive/Colab Notebooks/cv_fin_n2.pkl','wb') as cv_df:\n",
        "    pickle.dump(cv_fin1,cv_df)"
      ],
      "metadata": {
        "id": "a_KkN6DRKXhi"
      },
      "execution_count": 74,
      "outputs": []
    },
    {
      "cell_type": "code",
      "source": [
        "with open('/content/drive/MyDrive/Colab Notebooks/train_fin_n2.pkl','rb') as tr_df:\n",
        "    train_fin2= pickle.load(tr_df)\n",
        "with open('/content/drive/MyDrive/Colab Notebooks/cv_fin_n2.pkl','rb') as cv_df:\n",
        "    cv_fin2= pickle.load(cv_df)"
      ],
      "metadata": {
        "id": "oyZHX-yrKp8E"
      },
      "execution_count": 75,
      "outputs": []
    },
    {
      "cell_type": "code",
      "source": [
        "train_fin2['DiagnosisGroupCode']= train_fin2['DiagnosisGroupCode'].fillna(0)\n",
        "cv_fin2['DiagnosisGroupCode']= cv_fin2['DiagnosisGroupCode'].fillna(0)"
      ],
      "metadata": {
        "id": "3DG1dPMyK7H_"
      },
      "execution_count": 76,
      "outputs": []
    },
    {
      "cell_type": "code",
      "source": [
        "train_fin2['DiagnosisGroupCode']= train_fin2['DiagnosisGroupCode'].astype('str')\n",
        "train_fin2['DiagnosisGroupCode']= train_fin2['DiagnosisGroupCode'].astype('str')\n",
        "\n",
        "train_fin2['DiagnosisGroupCode'].describe()"
      ],
      "metadata": {
        "colab": {
          "base_uri": "https://localhost:8080/"
        },
        "id": "kHUrBwNDK9IQ",
        "outputId": "1af4ad7b-0359-475a-8162-e849f5576b89"
      },
      "execution_count": 77,
      "outputs": [
        {
          "output_type": "execute_result",
          "data": {
            "text/plain": [
              "count     446568\n",
              "unique       735\n",
              "top            0\n",
              "freq      414039\n",
              "Name: DiagnosisGroupCode, dtype: object"
            ]
          },
          "metadata": {},
          "execution_count": 77
        }
      ]
    },
    {
      "cell_type": "code",
      "source": [
        "train_fin2['PotentialFraud']= train_y\n",
        "cv_fin2['PotentialFraud']= cv_y"
      ],
      "metadata": {
        "id": "SyBoD3lSLFLV"
      },
      "execution_count": 78,
      "outputs": []
    },
    {
      "cell_type": "code",
      "source": [
        "#Calculating the proabilities of each of the categories in a column\n",
        "def response_coding(tr_data,cv_data,col,y):\n",
        "    tr_yes_list=[]\n",
        "    tr_no_list=[]\n",
        "    cv_yes_list=[]\n",
        "    cv_no_list=[]\n",
        "    \n",
        "    val_dict= dict(tr_data.groupby([col])[y].value_counts())\n",
        "    \n",
        "    for i in range(len(tr_data[col])):\n",
        "        t_y= val_dict.get((tr_data[col][i],'Yes'),0.1)\n",
        "        t_n= val_dict.get((tr_data[col][i],'No'),0.1)\n",
        "        tr_yes_list.append(t_y/(t_y+t_n))\n",
        "        tr_no_list.append(t_n/(t_y+t_n))\n",
        "\n",
        "    for j in range(len(cv_data[col])):\n",
        "        c_y= val_dict.get((cv_data[col][j],'Yes'),0.1)\n",
        "        c_n= val_dict.get((cv_data[col][j],'No'),0.1)\n",
        "        cv_yes_list.append(c_y/(c_y+c_n))\n",
        "        cv_no_list.append(c_n/(c_y+c_n))  \n",
        "    \n",
        "    return tr_yes_list,tr_no_list,cv_yes_list,cv_no_list,val_dict"
      ],
      "metadata": {
        "id": "KQqsYcLVLSfX"
      },
      "execution_count": 79,
      "outputs": []
    },
    {
      "cell_type": "code",
      "source": [
        "train_fin2['State_Yes']= np.zeros(len(train_fin2['State']))\n",
        "train_fin2['State_No']= np.zeros(len(train_fin2['State']))\n",
        "\n",
        "cv_fin2['State_Yes']= np.zeros(len(cv_fin2['State']))\n",
        "cv_fin2['State_No']= np.zeros(len(cv_fin2['State']))\n",
        "\n",
        "train_fin2['State_Yes'],train_fin2['State_No'],cv_fin2['State_Yes'],cv_fin2['State_No'],state_dict= response_coding(train_fin2,cv_fin2,'State','PotentialFraud')\n",
        "print(state_dict)"
      ],
      "metadata": {
        "colab": {
          "base_uri": "https://localhost:8080/"
        },
        "id": "xDIyDVeuLb44",
        "outputId": "f6edb720-a204-4a7f-9523-9fd101c00fd0"
      },
      "execution_count": 80,
      "outputs": [
        {
          "output_type": "stream",
          "name": "stdout",
          "text": [
            "{(1, 'No'): 5427, (1, 'Yes'): 2822, (2, 'No'): 430, (2, 'Yes'): 161, (3, 'No'): 5845, (3, 'Yes'): 1619, (4, 'No'): 4482, (4, 'Yes'): 1562, (5, 'Yes'): 24244, (5, 'No'): 16819, (6, 'Yes'): 2922, (6, 'No'): 2862, (7, 'No'): 3340, (7, 'Yes'): 1186, (8, 'No'): 728, (8, 'Yes'): 492, (9, 'No'): 364, (9, 'Yes'): 145, (10, 'No'): 17273, (10, 'Yes'): 14020, (11, 'No'): 10273, (11, 'Yes'): 3299, (12, 'No'): 1093, (12, 'Yes'): 240, (13, 'No'): 1514, (13, 'Yes'): 680, (14, 'No'): 12697, (14, 'Yes'): 6797, (15, 'No'): 7656, (15, 'Yes'): 3729, (16, 'No'): 3753, (16, 'Yes'): 2183, (17, 'No'): 3120, (17, 'Yes'): 805, (18, 'No'): 6924, (18, 'Yes'): 1356, (19, 'No'): 5000, (19, 'Yes'): 1375, (20, 'No'): 2181, (20, 'Yes'): 881, (21, 'No'): 6945, (21, 'Yes'): 2056, (22, 'Yes'): 6220, (22, 'No'): 4690, (23, 'No'): 10253, (23, 'Yes'): 6845, (24, 'No'): 3438, (24, 'Yes'): 2732, (25, 'No'): 4682, (25, 'Yes'): 684, (26, 'No'): 6150, (26, 'Yes'): 4236, (27, 'No'): 1128, (27, 'Yes'): 456, (28, 'No'): 2913, (28, 'Yes'): 396, (29, 'No'): 1259, (29, 'Yes'): 337, (30, 'No'): 1181, (30, 'Yes'): 948, (31, 'Yes'): 7285, (31, 'No'): 5411, (32, 'No'): 1383, (32, 'Yes'): 1382, (33, 'Yes'): 13922, (33, 'No'): 13917, (34, 'No'): 11582, (34, 'Yes'): 3551, (35, 'No'): 693, (35, 'Yes'): 65, (36, 'No'): 11911, (36, 'Yes'): 5111, (37, 'No'): 4145, (37, 'Yes'): 1455, (38, 'No'): 3786, (38, 'Yes'): 619, (39, 'No'): 10257, (39, 'Yes'): 9110, (41, 'No'): 758, (41, 'Yes'): 124, (42, 'No'): 5852, (42, 'Yes'): 2564, (43, 'No'): 1366, (43, 'Yes'): 250, (44, 'No'): 6148, (44, 'Yes'): 5365, (45, 'No'): 19042, (45, 'Yes'): 8137, (46, 'Yes'): 1705, (46, 'No'): 1006, (47, 'No'): 1165, (47, 'Yes'): 305, (49, 'Yes'): 6924, (49, 'No'): 5089, (50, 'No'): 5584, (50, 'Yes'): 3826, (51, 'No'): 3409, (51, 'Yes'): 381, (52, 'No'): 6250, (52, 'Yes'): 1571, (53, 'No'): 517, (53, 'Yes'): 382, (54, 'No'): 2641, (54, 'Yes'): 774}\n"
          ]
        }
      ]
    },
    {
      "cell_type": "code",
      "source": [
        "train_fin2['County_Yes']= np.zeros(len(train_fin2['County']))\n",
        "train_fin2['County_No']= np.zeros(len(train_fin2['County']))\n",
        "\n",
        "cv_fin2['County_Yes']= np.zeros(len(cv_fin2['County']))\n",
        "cv_fin2['County_No']= np.zeros(len(cv_fin2['County']))\n",
        "\n",
        "train_fin2['County_Yes'],train_fin2['County_No'],cv_fin2['County_Yes'],cv_fin2['County_No'],county_dict= response_coding(train_fin2,cv_fin2,'County','PotentialFraud')\n",
        "print(county_dict)"
      ],
      "metadata": {
        "colab": {
          "base_uri": "https://localhost:8080/"
        },
        "id": "ZEHFdldBLl4r",
        "outputId": "a06acc53-2511-4428-fdf4-12f3afb28e9b"
      },
      "execution_count": 81,
      "outputs": [
        {
          "output_type": "stream",
          "name": "stdout",
          "text": [
            "{(0, 'No'): 5333, (0, 'Yes'): 3885, (1, 'No'): 7, (1, 'Yes'): 4, (10, 'No'): 8580, (10, 'Yes'): 2561, (11, 'No'): 156, (11, 'Yes'): 60, (14, 'Yes'): 5, (20, 'No'): 6752, (20, 'Yes'): 3344, (25, 'Yes'): 31, (25, 'No'): 11, (30, 'No'): 3584, (30, 'Yes'): 1401, (34, 'No'): 8, (34, 'Yes'): 2, (40, 'No'): 4264, (40, 'Yes'): 1784, (50, 'No'): 4351, (50, 'Yes'): 1982, (55, 'No'): 17, (55, 'Yes'): 8, (60, 'No'): 7090, (60, 'Yes'): 2535, (70, 'No'): 4353, (70, 'Yes'): 1066, (80, 'No'): 3473, (80, 'Yes'): 1234, (84, 'Yes'): 7, (84, 'No'): 1, (88, 'Yes'): 52, (88, 'No'): 16, (90, 'No'): 5635, (90, 'Yes'): 3250, (100, 'No'): 3985, (100, 'Yes'): 1403, (110, 'No'): 1764, (110, 'Yes'): 1267, (111, 'Yes'): 61, (111, 'No'): 41, (113, 'No'): 9, (113, 'Yes'): 4, (117, 'No'): 9, (117, 'Yes'): 3, (120, 'No'): 3970, (120, 'Yes'): 1844, (130, 'Yes'): 3655, (130, 'No'): 2979, (131, 'No'): 11, (131, 'Yes'): 8, (140, 'No'): 2789, (140, 'Yes'): 1495, (141, 'No'): 4628, (141, 'Yes'): 2550, (150, 'No'): 4653, (150, 'Yes'): 3099, (160, 'No'): 4599, (160, 'Yes'): 3916, (161, 'No'): 17, (170, 'Yes'): 3502, (170, 'No'): 2957, (180, 'No'): 1539, (180, 'Yes'): 1424, (190, 'No'): 2356, (190, 'Yes'): 919, (191, 'Yes'): 42, (191, 'No'): 39, (194, 'Yes'): 193, (194, 'No'): 27, (200, 'Yes'): 8030, (200, 'No'): 4738, (210, 'No'): 2127, (210, 'Yes'): 871, (211, 'No'): 7, (211, 'Yes'): 5, (212, 'Yes'): 12, (212, 'No'): 8, (213, 'Yes'): 23, (213, 'No'): 16, (220, 'No'): 2717, (220, 'Yes'): 1365, (221, 'No'): 19, (222, 'No'): 45, (222, 'Yes'): 27, (223, 'No'): 11, (223, 'Yes'): 4, (224, 'No'): 8, (224, 'Yes'): 2, (230, 'No'): 2322, (230, 'Yes'): 1143, (240, 'No'): 3882, (240, 'Yes'): 1348, (241, 'No'): 114, (241, 'Yes'): 95, (250, 'No'): 4316, (250, 'Yes'): 2400, (251, 'Yes'): 56, (251, 'No'): 38, (260, 'No'): 2589, (260, 'Yes'): 2223, (270, 'No'): 3321, (270, 'Yes'): 1760, (271, 'No'): 16, (271, 'Yes'): 2, (280, 'No'): 2746, (280, 'Yes'): 2060, (281, 'No'): 56, (281, 'Yes'): 6, (288, 'No'): 86, (288, 'Yes'): 83, (290, 'No'): 3485, (290, 'Yes'): 3024, (291, 'No'): 163, (291, 'Yes'): 33, (292, 'No'): 17, (300, 'No'): 2582, (300, 'Yes'): 1378, (301, 'No'): 43, (310, 'No'): 4481, (310, 'Yes'): 2736, (311, 'No'): 27, (311, 'Yes'): 1, (312, 'No'): 45, (312, 'Yes'): 2, (320, 'No'): 2822, (320, 'Yes'): 1060, (321, 'No'): 33, (321, 'Yes'): 1, (328, 'No'): 12, (328, 'Yes'): 5, (330, 'No'): 2776, (330, 'Yes'): 1352, (331, 'Yes'): 2590, (331, 'No'): 622, (340, 'No'): 2480, (340, 'Yes'): 819, (341, 'No'): 110, (341, 'Yes'): 16, (342, 'No'): 52, (342, 'Yes'): 47, (343, 'No'): 37, (343, 'Yes'): 25, (350, 'No'): 2991, (350, 'Yes'): 1432, (360, 'No'): 2581, (360, 'Yes'): 1138, (361, 'No'): 24, (361, 'Yes'): 1, (362, 'No'): 23, (370, 'No'): 2815, (370, 'Yes'): 1404, (380, 'No'): 1824, (380, 'Yes'): 860, (381, 'No'): 33, (381, 'Yes'): 6, (390, 'No'): 3582, (390, 'Yes'): 2752, (391, 'No'): 18, (391, 'Yes'): 1, (392, 'No'): 17, (400, 'Yes'): 4787, (400, 'No'): 4564, (410, 'No'): 2991, (410, 'Yes'): 1181, (411, 'No'): 154, (411, 'Yes'): 83, (412, 'No'): 4, (412, 'Yes'): 2, (420, 'No'): 2901, (420, 'Yes'): 1703, (421, 'No'): 103, (421, 'Yes'): 11, (430, 'No'): 2420, (430, 'Yes'): 1713, (431, 'No'): 23, (431, 'Yes'): 3, (440, 'Yes'): 3473, (440, 'No'): 2561, (441, 'Yes'): 7, (441, 'No'): 5, (450, 'No'): 1843, (450, 'Yes'): 620, (451, 'No'): 386, (451, 'Yes'): 37, (460, 'No'): 3302, (460, 'Yes'): 895, (461, 'No'): 120, (461, 'Yes'): 12, (462, 'No'): 105, (462, 'Yes'): 7, (470, 'Yes'): 5620, (470, 'No'): 4190, (471, 'No'): 52, (471, 'Yes'): 1, (480, 'No'): 4224, (480, 'Yes'): 1958, (490, 'No'): 4033, (490, 'Yes'): 3588, (500, 'No'): 2786, (500, 'Yes'): 1149, (510, 'Yes'): 2835, (510, 'No'): 2704, (511, 'No'): 94, (511, 'Yes'): 2, (520, 'No'): 2096, (520, 'Yes'): 1692, (522, 'Yes'): 18, (522, 'No'): 11, (530, 'No'): 2470, (530, 'Yes'): 2301, (531, 'No'): 21, (531, 'Yes'): 16, (540, 'No'): 2574, (540, 'Yes'): 772, (541, 'No'): 55, (541, 'Yes'): 18, (542, 'No'): 17, (550, 'No'): 3640, (550, 'Yes'): 740, (551, 'No'): 133, (551, 'Yes'): 58, (552, 'Yes'): 32, (552, 'No'): 14, (560, 'No'): 2378, (560, 'Yes'): 791, (561, 'Yes'): 66, (561, 'No'): 47, (562, 'Yes'): 5, (562, 'No'): 4, (563, 'No'): 78, (563, 'Yes'): 74, (564, 'Yes'): 284, (564, 'No'): 24, (570, 'No'): 2278, (570, 'Yes'): 1606, (580, 'No'): 2886, (580, 'Yes'): 897, (581, 'No'): 141, (581, 'Yes'): 46, (582, 'No'): 20, (583, 'No'): 6, (590, 'Yes'): 4648, (590, 'No'): 2716, (591, 'No'): 180, (591, 'Yes'): 34, (592, 'No'): 14, (592, 'Yes'): 2, (600, 'No'): 2115, (600, 'Yes'): 840, (601, 'No'): 48, (601, 'Yes'): 6, (610, 'No'): 3391, (610, 'Yes'): 1426, (611, 'No'): 52, (611, 'Yes'): 3, (612, 'No'): 4, (612, 'Yes'): 2, (620, 'Yes'): 3770, (620, 'No'): 2748, (621, 'Yes'): 40, (621, 'No'): 8, (622, 'No'): 166, (622, 'Yes'): 150, (630, 'No'): 1577, (630, 'Yes'): 1396, (631, 'No'): 92, (631, 'Yes'): 15, (632, 'No'): 12, (632, 'Yes'): 1, (640, 'No'): 1900, (640, 'Yes'): 676, (641, 'Yes'): 228, (641, 'No'): 32, (650, 'No'): 2678, (650, 'Yes'): 692, (651, 'No'): 73, (651, 'Yes'): 8, (652, 'No'): 29, (653, 'No'): 147, (653, 'Yes'): 26, (654, 'No'): 45, (654, 'Yes'): 42, (660, 'No'): 1700, (660, 'Yes'): 750, (661, 'No'): 19, (662, 'No'): 6, (662, 'Yes'): 3, (670, 'No'): 1011, (670, 'Yes'): 476, (671, 'No'): 48, (671, 'Yes'): 3, (672, 'No'): 7, (680, 'No'): 1738, (680, 'Yes'): 508, (681, 'No'): 30, (690, 'No'): 1324, (690, 'Yes'): 506, (691, 'No'): 23, (700, 'Yes'): 2356, (700, 'No'): 1974, (701, 'No'): 47, (701, 'Yes'): 27, (702, 'No'): 53, (702, 'Yes'): 2, (703, 'No'): 30, (710, 'No'): 1204, (710, 'Yes'): 574, (711, 'Yes'): 174, (711, 'No'): 50, (712, 'Yes'): 2, (712, 'No'): 1, (720, 'No'): 1039, (720, 'Yes'): 913, (722, 'No'): 41, (722, 'Yes'): 8, (730, 'No'): 1368, (730, 'Yes'): 368, (731, 'Yes'): 95, (731, 'No'): 34, (734, 'No'): 74, (734, 'Yes'): 40, (740, 'No'): 824, (740, 'Yes'): 675, (741, 'No'): 19, (742, 'No'): 1, (743, 'No'): 79, (743, 'Yes'): 3, (744, 'No'): 6, (750, 'No'): 1263, (750, 'Yes'): 892, (751, 'Yes'): 33, (751, 'No'): 23, (752, 'No'): 29, (752, 'Yes'): 4, (753, 'No'): 3, (754, 'No'): 46, (754, 'Yes'): 1, (755, 'No'): 6, (756, 'No'): 69, (756, 'Yes'): 2, (757, 'No'): 104, (757, 'Yes'): 4, (758, 'No'): 58, (760, 'Yes'): 850, (760, 'No'): 817, (761, 'No'): 19, (761, 'Yes'): 4, (770, 'No'): 2238, (770, 'Yes'): 1254, (771, 'No'): 92, (771, 'Yes'): 16, (772, 'No'): 81, (772, 'Yes'): 3, (780, 'Yes'): 2290, (780, 'No'): 1509, (782, 'No'): 40, (783, 'No'): 24, (783, 'Yes'): 1, (784, 'No'): 6, (785, 'No'): 18, (790, 'No'): 844, (790, 'Yes'): 378, (791, 'Yes'): 438, (791, 'No'): 162, (792, 'No'): 64, (792, 'Yes'): 11, (793, 'No'): 9, (794, 'No'): 185, (794, 'Yes'): 4, (795, 'No'): 26, (796, 'No'): 3, (797, 'No'): 16, (800, 'No'): 1839, (800, 'Yes'): 827, (801, 'No'): 296, (801, 'Yes'): 238, (802, 'No'): 52, (802, 'Yes'): 18, (803, 'No'): 32, (803, 'Yes'): 4, (810, 'No'): 2787, (810, 'Yes'): 2072, (811, 'No'): 54, (812, 'No'): 82, (812, 'Yes'): 8, (820, 'No'): 520, (820, 'Yes'): 284, (821, 'No'): 79, (821, 'Yes'): 23, (822, 'No'): 20, (830, 'No'): 1045, (830, 'Yes'): 178, (831, 'No'): 73, (831, 'Yes'): 1, (832, 'No'): 62, (832, 'Yes'): 11, (835, 'No'): 9, (835, 'Yes'): 1, (838, 'Yes'): 46, (838, 'No'): 41, (840, 'No'): 1017, (840, 'Yes'): 250, (841, 'No'): 47, (841, 'Yes'): 44, (842, 'No'): 41, (842, 'Yes'): 6, (843, 'No'): 212, (843, 'Yes'): 6, (844, 'No'): 13, (845, 'No'): 17, (845, 'Yes'): 2, (850, 'No'): 588, (850, 'Yes'): 145, (851, 'No'): 18, (851, 'Yes'): 1, (860, 'No'): 1254, (860, 'Yes'): 625, (861, 'No'): 94, (861, 'Yes'): 4, (862, 'No'): 13, (862, 'Yes'): 4, (867, 'No'): 31, (867, 'Yes'): 6, (870, 'No'): 380, (870, 'Yes'): 94, (871, 'No'): 37, (871, 'Yes'): 5, (873, 'No'): 2, (873, 'Yes'): 1, (874, 'Yes'): 31, (874, 'No'): 7, (875, 'No'): 8, (876, 'Yes'): 2, (878, 'No'): 10, (879, 'No'): 61, (879, 'Yes'): 25, (880, 'No'): 764, (880, 'Yes'): 207, (881, 'Yes'): 64, (881, 'No'): 37, (882, 'No'): 68, (882, 'Yes'): 2, (883, 'No'): 53, (883, 'Yes'): 8, (884, 'No'): 38, (885, 'No'): 122, (885, 'Yes'): 12, (886, 'No'): 10, (887, 'No'): 13, (888, 'No'): 36, (890, 'No'): 1050, (890, 'Yes'): 194, (891, 'Yes'): 95, (891, 'No'): 4, (892, 'Yes'): 393, (892, 'No'): 108, (893, 'No'): 19, (893, 'Yes'): 1, (900, 'No'): 531, (900, 'Yes'): 225, (901, 'No'): 19, (901, 'Yes'): 5, (902, 'No'): 36, (902, 'Yes'): 1, (903, 'No'): 5, (903, 'Yes'): 1, (904, 'No'): 10, (905, 'No'): 21, (910, 'No'): 2369, (910, 'Yes'): 1433, (911, 'No'): 259, (911, 'Yes'): 7, (912, 'No'): 6, (913, 'No'): 80, (913, 'Yes'): 2, (920, 'No'): 761, (920, 'Yes'): 90, (921, 'No'): 400, (921, 'Yes'): 396, (930, 'No'): 441, (930, 'Yes'): 208, (931, 'No'): 2, (931, 'Yes'): 1, (932, 'No'): 9, (932, 'Yes'): 6, (940, 'No'): 1687, (940, 'Yes'): 1268, (941, 'No'): 30, (941, 'Yes'): 8, (942, 'No'): 73, (942, 'Yes'): 1, (943, 'No'): 36, (943, 'Yes'): 19, (944, 'No'): 2, (945, 'No'): 66, (945, 'Yes'): 5, (946, 'No'): 93, (946, 'Yes'): 4, (947, 'Yes'): 51, (947, 'No'): 16, (948, 'No'): 111, (948, 'Yes'): 9, (949, 'Yes'): 8, (949, 'No'): 7, (950, 'No'): 487, (950, 'Yes'): 220, (951, 'Yes'): 66, (951, 'No'): 40, (952, 'No'): 44, (953, 'No'): 172, (953, 'Yes'): 48, (954, 'No'): 44, (954, 'Yes'): 6, (955, 'No'): 16, (955, 'Yes'): 1, (960, 'No'): 615, (960, 'Yes'): 194, (961, 'Yes'): 81, (961, 'No'): 15, (962, 'No'): 81, (962, 'Yes'): 32, (963, 'No'): 9, (963, 'Yes'): 1, (970, 'No'): 891, (970, 'Yes'): 103, (971, 'No'): 139, (971, 'Yes'): 18, (972, 'No'): 51, (972, 'Yes'): 13, (973, 'No'): 152, (973, 'Yes'): 5, (974, 'Yes'): 135, (974, 'No'): 49, (975, 'No'): 25, (975, 'Yes'): 4, (976, 'No'): 48, (976, 'Yes'): 2, (977, 'No'): 79, (977, 'Yes'): 4, (978, 'No'): 58, (978, 'Yes'): 15, (979, 'No'): 48, (979, 'Yes'): 1, (980, 'No'): 245, (980, 'Yes'): 41, (981, 'No'): 247, (981, 'Yes'): 149, (982, 'No'): 277, (982, 'Yes'): 23, (983, 'No'): 92, (983, 'Yes'): 5, (984, 'No'): 139, (984, 'Yes'): 20, (985, 'No'): 24, (985, 'Yes'): 21, (986, 'No'): 325, (986, 'Yes'): 115, (987, 'No'): 41, (987, 'Yes'): 3, (988, 'No'): 178, (988, 'Yes'): 164, (989, 'Yes'): 484, (989, 'No'): 476, (990, 'No'): 278, (990, 'Yes'): 32, (991, 'Yes'): 597, (991, 'No'): 103, (992, 'No'): 145, (992, 'Yes'): 24, (993, 'No'): 34, (993, 'Yes'): 10, (994, 'Yes'): 69, (994, 'No'): 21, (996, 'Yes'): 40, (996, 'No'): 12, (999, 'No'): 530, (999, 'Yes'): 234}\n"
          ]
        }
      ]
    },
    {
      "cell_type": "code",
      "source": [
        "train_fin2['DGC_Yes']= np.zeros(len(train_fin2['DiagnosisGroupCode']))\n",
        "train_fin2['DGC_No']= np.zeros(len(train_fin2['DiagnosisGroupCode']))\n",
        "\n",
        "cv_fin2['DGC_Yes']= np.zeros(len(cv_fin2['DiagnosisGroupCode']))\n",
        "cv_fin2['DGC_No']= np.zeros(len(cv_fin2['DiagnosisGroupCode']))\n",
        "\n",
        "train_fin2['DGC_Yes'],train_fin2['DGC_No'],cv_fin2['DGC_Yes'],cv_fin2['DGC_No'],dgc_dict= response_coding(train_fin2,cv_fin2,'DiagnosisGroupCode','PotentialFraud')\n",
        "print(dgc_dict)"
      ],
      "metadata": {
        "colab": {
          "base_uri": "https://localhost:8080/"
        },
        "id": "PgR2Viq-Lwj_",
        "outputId": "0c50d490-e103-4b99-a133-e6df81acad4f"
      },
      "execution_count": 82,
      "outputs": [
        {
          "output_type": "stream",
          "name": "stdout",
          "text": [
            "{('0', 'No'): 262599, ('0', 'Yes'): 151440, ('000', 'Yes'): 65, ('000', 'No'): 43, ('001', 'Yes'): 6, ('001', 'No'): 2, ('002', 'No'): 9, ('002', 'Yes'): 6, ('003', 'Yes'): 8, ('003', 'No'): 5, ('004', 'Yes'): 9, ('004', 'No'): 5, ('005', 'Yes'): 6, ('005', 'No'): 5, ('006', 'No'): 5, ('006', 'Yes'): 3, ('007', 'Yes'): 5, ('007', 'No'): 2, ('008', 'Yes'): 9, ('008', 'No'): 3, ('009', 'No'): 4, ('009', 'Yes'): 4, ('010', 'No'): 5, ('010', 'Yes'): 2, ('011', 'No'): 8, ('011', 'Yes'): 5, ('012', 'Yes'): 10, ('012', 'No'): 3, ('013', 'Yes'): 7, ('013', 'No'): 1, ('020', 'Yes'): 18, ('020', 'No'): 7, ('021', 'Yes'): 20, ('021', 'No'): 7, ('022', 'Yes'): 22, ('022', 'No'): 10, ('023', 'Yes'): 10, ('023', 'No'): 8, ('024', 'Yes'): 18, ('024', 'No'): 5, ('025', 'No'): 18, ('025', 'Yes'): 16, ('026', 'Yes'): 19, ('026', 'No'): 10, ('027', 'No'): 18, ('027', 'Yes'): 12, ('028', 'Yes'): 23, ('028', 'No'): 14, ('029', 'Yes'): 21, ('029', 'No'): 18, ('030', 'Yes'): 17, ('030', 'No'): 15, ('031', 'Yes'): 18, ('031', 'No'): 16, ('032', 'Yes'): 20, ('032', 'No'): 18, ('033', 'Yes'): 15, ('033', 'No'): 8, ('034', 'Yes'): 22, ('034', 'No'): 15, ('035', 'No'): 21, ('035', 'Yes'): 20, ('036', 'Yes'): 19, ('036', 'No'): 13, ('037', 'No'): 19, ('037', 'Yes'): 18, ('038', 'Yes'): 21, ('038', 'No'): 14, ('039', 'Yes'): 28, ('039', 'No'): 17, ('040', 'Yes'): 20, ('040', 'No'): 15, ('041', 'Yes'): 17, ('041', 'No'): 15, ('042', 'Yes'): 21, ('042', 'No'): 14, ('052', 'Yes'): 18, ('052', 'No'): 13, ('053', 'Yes'): 27, ('053', 'No'): 20, ('054', 'Yes'): 22, ('054', 'No'): 18, ('055', 'No'): 20, ('055', 'Yes'): 20, ('056', 'No'): 15, ('056', 'Yes'): 15, ('057', 'Yes'): 16, ('057', 'No'): 15, ('058', 'Yes'): 18, ('058', 'No'): 15, ('059', 'Yes'): 15, ('059', 'No'): 4, ('060', 'Yes'): 22, ('060', 'No'): 13, ('061', 'No'): 13, ('061', 'Yes'): 12, ('062', 'Yes'): 17, ('062', 'No'): 12, ('063', 'No'): 19, ('063', 'Yes'): 16, ('064', 'Yes'): 19, ('064', 'No'): 13, ('065', 'Yes'): 18, ('065', 'No'): 16, ('066', 'Yes'): 18, ('066', 'No'): 12, ('067', 'Yes'): 20, ('067', 'No'): 13, ('068', 'Yes'): 17, ('068', 'No'): 13, ('069', 'Yes'): 20, ('069', 'No'): 17, ('070', 'Yes'): 30, ('070', 'No'): 11, ('071', 'No'): 15, ('071', 'Yes'): 15, ('072', 'Yes'): 16, ('072', 'No'): 14, ('073', 'Yes'): 17, ('073', 'No'): 15, ('074', 'Yes'): 19, ('074', 'No'): 12, ('075', 'Yes'): 21, ('075', 'No'): 16, ('076', 'Yes'): 19, ('076', 'No'): 12, ('077', 'No'): 18, ('077', 'Yes'): 15, ('078', 'Yes'): 26, ('078', 'No'): 9, ('079', 'Yes'): 16, ('079', 'No'): 14, ('080', 'Yes'): 18, ('080', 'No'): 16, ('081', 'Yes'): 21, ('081', 'No'): 5, ('082', 'Yes'): 16, ('082', 'No'): 15, ('083', 'Yes'): 15, ('083', 'No'): 6, ('084', 'Yes'): 19, ('084', 'No'): 10, ('085', 'Yes'): 17, ('085', 'No'): 10, ('086', 'No'): 18, ('086', 'Yes'): 15, ('087', 'No'): 23, ('087', 'Yes'): 16, ('088', 'Yes'): 21, ('088', 'No'): 14, ('089', 'Yes'): 27, ('089', 'No'): 8, ('090', 'No'): 19, ('090', 'Yes'): 14, ('091', 'No'): 17, ('091', 'Yes'): 15, ('092', 'Yes'): 17, ('092', 'No'): 11, ('093', 'Yes'): 18, ('093', 'No'): 16, ('094', 'No'): 11, ('094', 'Yes'): 10, ('095', 'Yes'): 24, ('095', 'No'): 13, ('096', 'Yes'): 14, ('096', 'No'): 8, ('097', 'Yes'): 20, ('097', 'No'): 19, ('098', 'No'): 15, ('098', 'Yes'): 15, ('099', 'Yes'): 21, ('099', 'No'): 6, ('100', 'No'): 18, ('100', 'Yes'): 18, ('101', 'No'): 14, ('101', 'Yes'): 9, ('102', 'Yes'): 22, ('102', 'No'): 14, ('103', 'Yes'): 14, ('103', 'No'): 9, ('113', 'Yes'): 3, ('114', 'No'): 1, ('114', 'Yes'): 1, ('115', 'Yes'): 2, ('116', 'Yes'): 2, ('117', 'Yes'): 2, ('122', 'Yes'): 4, ('122', 'No'): 1, ('124', 'Yes'): 3, ('125', 'Yes'): 3, ('125', 'No'): 1, ('129', 'Yes'): 7, ('129', 'No'): 2, ('130', 'Yes'): 8, ('130', 'No'): 5, ('131', 'Yes'): 7, ('131', 'No'): 2, ('132', 'No'): 4, ('132', 'Yes'): 3, ('133', 'Yes'): 4, ('133', 'No'): 3, ('134', 'No'): 8, ('134', 'Yes'): 4, ('135', 'Yes'): 10, ('135', 'No'): 4, ('136', 'Yes'): 4, ('136', 'No'): 1, ('137', 'Yes'): 10, ('137', 'No'): 1, ('138', 'Yes'): 11, ('138', 'No'): 4, ('139', 'Yes'): 4, ('139', 'No'): 1, ('146', 'Yes'): 8, ('146', 'No'): 3, ('147', 'No'): 7, ('147', 'Yes'): 5, ('148', 'No'): 4, ('148', 'Yes'): 3, ('149', 'Yes'): 5, ('149', 'No'): 1, ('150', 'Yes'): 10, ('150', 'No'): 3, ('151', 'Yes'): 4, ('151', 'No'): 3, ('152', 'No'): 5, ('152', 'Yes'): 4, ('153', 'Yes'): 7, ('153', 'No'): 4, ('154', 'No'): 4, ('154', 'Yes'): 1, ('155', 'Yes'): 5, ('155', 'No'): 2, ('156', 'No'): 6, ('156', 'Yes'): 6, ('157', 'No'): 8, ('157', 'Yes'): 6, ('158', 'Yes'): 6, ('158', 'No'): 4, ('159', 'No'): 7, ('159', 'Yes'): 2, ('163', 'Yes'): 59, ('163', 'No'): 40, ('164', 'Yes'): 72, ('164', 'No'): 45, ('165', 'Yes'): 70, ('165', 'No'): 34, ('166', 'Yes'): 83, ('166', 'No'): 47, ('167', 'No'): 62, ('167', 'Yes'): 55, ('168', 'Yes'): 74, ('168', 'No'): 52, ('175', 'Yes'): 70, ('175', 'No'): 52, ('176', 'Yes'): 58, ('176', 'No'): 47, ('177', 'Yes'): 75, ('177', 'No'): 51, ('178', 'No'): 50, ('178', 'Yes'): 48, ('179', 'Yes'): 66, ('179', 'No'): 37, ('180', 'Yes'): 70, ('180', 'No'): 49, ('181', 'Yes'): 73, ('181', 'No'): 52, ('182', 'Yes'): 60, ('182', 'No'): 53, ('183', 'Yes'): 68, ('183', 'No'): 63, ('184', 'Yes'): 73, ('184', 'No'): 47, ('185', 'Yes'): 71, ('185', 'No'): 41, ('186', 'Yes'): 81, ('186', 'No'): 38, ('187', 'Yes'): 59, ('187', 'No'): 51, ('188', 'Yes'): 71, ('188', 'No'): 38, ('189', 'Yes'): 60, ('189', 'No'): 42, ('190', 'Yes'): 57, ('190', 'No'): 48, ('191', 'Yes'): 59, ('191', 'No'): 45, ('192', 'Yes'): 74, ('192', 'No'): 40, ('193', 'Yes'): 68, ('193', 'No'): 53, ('194', 'Yes'): 50, ('194', 'No'): 44, ('195', 'Yes'): 61, ('195', 'No'): 35, ('196', 'Yes'): 74, ('196', 'No'): 43, ('197', 'Yes'): 69, ('197', 'No'): 47, ('198', 'Yes'): 62, ('198', 'No'): 47, ('199', 'Yes'): 57, ('199', 'No'): 41, ('200', 'Yes'): 63, ('200', 'No'): 42, ('201', 'Yes'): 62, ('201', 'No'): 42, ('202', 'Yes'): 78, ('202', 'No'): 49, ('203', 'Yes'): 72, ('203', 'No'): 42, ('204', 'Yes'): 74, ('204', 'No'): 56, ('205', 'Yes'): 64, ('205', 'No'): 54, ('206', 'Yes'): 56, ('206', 'No'): 54, ('207', 'Yes'): 55, ('207', 'No'): 51, ('208', 'No'): 65, ('208', 'Yes'): 65, ('215', 'Yes'): 48, ('215', 'No'): 38, ('216', 'Yes'): 50, ('216', 'No'): 33, ('217', 'Yes'): 54, ('217', 'No'): 35, ('218', 'Yes'): 47, ('218', 'No'): 32, ('219', 'Yes'): 43, ('219', 'No'): 35, ('220', 'Yes'): 44, ('220', 'No'): 39, ('221', 'Yes'): 47, ('221', 'No'): 40, ('222', 'Yes'): 42, ('222', 'No'): 31, ('223', 'Yes'): 61, ('223', 'No'): 41, ('224', 'Yes'): 48, ('224', 'No'): 36, ('225', 'Yes'): 46, ('225', 'No'): 32, ('226', 'Yes'): 48, ('226', 'No'): 32, ('227', 'Yes'): 42, ('227', 'No'): 29, ('228', 'Yes'): 49, ('228', 'No'): 35, ('229', 'Yes'): 57, ('229', 'No'): 37, ('230', 'No'): 52, ('230', 'Yes'): 48, ('231', 'Yes'): 53, ('231', 'No'): 37, ('232', 'Yes'): 46, ('232', 'No'): 34, ('233', 'Yes'): 45, ('233', 'No'): 38, ('234', 'Yes'): 48, ('234', 'No'): 37, ('235', 'Yes'): 55, ('235', 'No'): 44, ('236', 'Yes'): 44, ('236', 'No'): 32, ('237', 'Yes'): 50, ('237', 'No'): 34, ('238', 'Yes'): 56, ('238', 'No'): 35, ('239', 'Yes'): 52, ('239', 'No'): 34, ('240', 'Yes'): 56, ('240', 'No'): 41, ('241', 'Yes'): 51, ('241', 'No'): 39, ('242', 'Yes'): 61, ('242', 'No'): 43, ('243', 'Yes'): 48, ('243', 'No'): 30, ('244', 'Yes'): 53, ('244', 'No'): 35, ('245', 'No'): 36, ('245', 'Yes'): 36, ('246', 'Yes'): 52, ('246', 'No'): 40, ('247', 'No'): 39, ('247', 'Yes'): 38, ('248', 'Yes'): 51, ('248', 'No'): 25, ('249', 'Yes'): 55, ('249', 'No'): 40, ('250', 'No'): 42, ('250', 'Yes'): 41, ('251', 'Yes'): 50, ('251', 'No'): 29, ('252', 'Yes'): 58, ('252', 'No'): 40, ('253', 'Yes'): 50, ('253', 'No'): 31, ('254', 'Yes'): 43, ('254', 'No'): 31, ('255', 'Yes'): 61, ('255', 'No'): 31, ('256', 'No'): 58, ('256', 'Yes'): 50, ('257', 'Yes'): 49, ('257', 'No'): 37, ('258', 'Yes'): 37, ('258', 'No'): 28, ('259', 'Yes'): 46, ('259', 'No'): 34, ('260', 'Yes'): 47, ('260', 'No'): 36, ('261', 'No'): 39, ('261', 'Yes'): 36, ('262', 'Yes'): 49, ('262', 'No'): 31, ('263', 'Yes'): 44, ('263', 'No'): 35, ('264', 'Yes'): 53, ('264', 'No'): 31, ('280', 'Yes'): 56, ('280', 'No'): 43, ('281', 'Yes'): 56, ('281', 'No'): 33, ('282', 'Yes'): 46, ('282', 'No'): 33, ('283', 'No'): 53, ('283', 'Yes'): 37, ('284', 'Yes'): 44, ('284', 'No'): 43, ('285', 'No'): 40, ('285', 'Yes'): 40, ('286', 'Yes'): 58, ('286', 'No'): 32, ('287', 'Yes'): 40, ('287', 'No'): 25, ('288', 'Yes'): 50, ('288', 'No'): 36, ('289', 'Yes'): 42, ('289', 'No'): 40, ('290', 'Yes'): 52, ('290', 'No'): 28, ('291', 'Yes'): 44, ('291', 'No'): 29, ('292', 'Yes'): 48, ('292', 'No'): 38, ('293', 'Yes'): 48, ('293', 'No'): 40, ('294', 'Yes'): 56, ('294', 'No'): 45, ('295', 'Yes'): 57, ('295', 'No'): 42, ('296', 'Yes'): 42, ('296', 'No'): 38, ('297', 'Yes'): 36, ('297', 'No'): 22, ('298', 'Yes'): 46, ('298', 'No'): 29, ('299', 'Yes'): 46, ('299', 'No'): 30, ('300', 'Yes'): 45, ('300', 'No'): 25, ('301', 'Yes'): 51, ('301', 'No'): 35, ('302', 'Yes'): 49, ('302', 'No'): 36, ('303', 'Yes'): 64, ('303', 'No'): 36, ('304', 'Yes'): 43, ('304', 'No'): 31, ('305', 'Yes'): 42, ('305', 'No'): 36, ('306', 'Yes'): 38, ('306', 'No'): 31, ('307', 'Yes'): 47, ('307', 'No'): 36, ('308', 'Yes'): 46, ('308', 'No'): 35, ('309', 'Yes'): 62, ('309', 'No'): 32, ('310', 'Yes'): 50, ('310', 'No'): 28, ('311', 'Yes'): 42, ('311', 'No'): 37, ('312', 'Yes'): 48, ('312', 'No'): 35, ('313', 'Yes'): 54, ('313', 'No'): 31, ('314', 'Yes'): 42, ('314', 'No'): 35, ('315', 'Yes'): 54, ('315', 'No'): 33, ('316', 'Yes'): 62, ('316', 'No'): 39, ('326', 'Yes'): 34, ('326', 'No'): 25, ('327', 'Yes'): 45, ('327', 'No'): 17, ('328', 'Yes'): 34, ('328', 'No'): 17, ('329', 'Yes'): 29, ('329', 'No'): 25, ('330', 'Yes'): 35, ('330', 'No'): 23, ('331', 'No'): 25, ('331', 'Yes'): 24, ('332', 'Yes'): 28, ('332', 'No'): 21, ('333', 'Yes'): 26, ('333', 'No'): 19, ('334', 'Yes'): 33, ('334', 'No'): 21, ('335', 'Yes'): 38, ('335', 'No'): 30, ('336', 'Yes'): 37, ('336', 'No'): 19, ('337', 'Yes'): 37, ('337', 'No'): 24, ('338', 'Yes'): 33, ('338', 'No'): 22, ('339', 'Yes'): 26, ('339', 'No'): 19, ('340', 'Yes'): 32, ('340', 'No'): 27, ('341', 'Yes'): 34, ('341', 'No'): 22, ('342', 'Yes'): 31, ('342', 'No'): 19, ('343', 'No'): 30, ('343', 'Yes'): 30, ('344', 'Yes'): 45, ('344', 'No'): 21, ('345', 'Yes'): 29, ('345', 'No'): 22, ('346', 'No'): 24, ('346', 'Yes'): 23, ('347', 'No'): 26, ('347', 'Yes'): 24, ('348', 'Yes'): 37, ('348', 'No'): 28, ('349', 'Yes'): 28, ('349', 'No'): 26, ('350', 'Yes'): 34, ('350', 'No'): 21, ('351', 'No'): 25, ('351', 'Yes'): 21, ('352', 'No'): 22, ('352', 'Yes'): 22, ('353', 'Yes'): 33, ('353', 'No'): 29, ('354', 'Yes'): 30, ('354', 'No'): 28, ('355', 'Yes'): 32, ('355', 'No'): 16, ('356', 'Yes'): 27, ('356', 'No'): 26, ('357', 'Yes'): 34, ('357', 'No'): 26, ('358', 'No'): 28, ('358', 'Yes'): 25, ('368', 'Yes'): 36, ('368', 'No'): 30, ('369', 'Yes'): 25, ('369', 'No'): 22, ('370', 'Yes'): 33, ('370', 'No'): 25, ('371', 'Yes'): 27, ('371', 'No'): 18, ('372', 'Yes'): 26, ('372', 'No'): 22, ('373', 'No'): 33, ('373', 'Yes'): 27, ('374', 'Yes'): 35, ('374', 'No'): 33, ('375', 'Yes'): 28, ('375', 'No'): 22, ('376', 'Yes'): 31, ('376', 'No'): 22, ('377', 'Yes'): 30, ('377', 'No'): 24, ('378', 'Yes'): 26, ('378', 'No'): 23, ('379', 'No'): 37, ('379', 'Yes'): 23, ('380', 'Yes'): 28, ('380', 'No'): 21, ('381', 'No'): 25, ('381', 'Yes'): 20, ('382', 'Yes'): 26, ('382', 'No'): 21, ('383', 'Yes'): 33, ('383', 'No'): 28, ('384', 'Yes'): 27, ('384', 'No'): 24, ('385', 'Yes'): 38, ('385', 'No'): 23, ('386', 'Yes'): 39, ('386', 'No'): 37, ('387', 'Yes'): 31, ('387', 'No'): 11, ('388', 'Yes'): 33, ('388', 'No'): 18, ('389', 'Yes'): 31, ('389', 'No'): 17, ('390', 'No'): 27, ('390', 'Yes'): 25, ('391', 'Yes'): 25, ('391', 'No'): 17, ('392', 'No'): 36, ('392', 'Yes'): 29, ('393', 'Yes'): 27, ('393', 'No'): 25, ('394', 'Yes'): 26, ('394', 'No'): 24, ('395', 'Yes'): 39, ('395', 'No'): 28, ('405', 'Yes'): 13, ('405', 'No'): 12, ('406', 'Yes'): 10, ('406', 'No'): 6, ('407', 'No'): 16, ('407', 'Yes'): 15, ('408', 'No'): 16, ('408', 'Yes'): 11, ('409', 'No'): 16, ('409', 'Yes'): 15, ('410', 'Yes'): 16, ('410', 'No'): 9, ('411', 'Yes'): 16, ('411', 'No'): 14, ('412', 'Yes'): 17, ('412', 'No'): 11, ('413', 'Yes'): 12, ('413', 'No'): 11, ('414', 'Yes'): 17, ('414', 'No'): 14, ('415', 'No'): 14, ('415', 'Yes'): 11, ('416', 'Yes'): 19, ('416', 'No'): 11, ('417', 'No'): 13, ('417', 'Yes'): 9, ('418', 'Yes'): 13, ('418', 'No'): 11, ('419', 'Yes'): 14, ('419', 'No'): 12, ('420', 'No'): 19, ('420', 'Yes'): 12, ('421', 'Yes'): 15, ('421', 'No'): 6, ('422', 'Yes'): 19, ('422', 'No'): 16, ('423', 'No'): 12, ('423', 'Yes'): 7, ('424', 'Yes'): 24, ('424', 'No'): 9, ('425', 'Yes'): 16, ('425', 'No'): 11, ('432', 'Yes'): 16, ('432', 'No'): 15, ('433', 'No'): 13, ('433', 'Yes'): 13, ('434', 'Yes'): 19, ('434', 'No'): 7, ('435', 'Yes'): 14, ('435', 'No'): 12, ('436', 'Yes'): 14, ('436', 'No'): 5, ('437', 'Yes'): 11, ('437', 'No'): 9, ('438', 'Yes'): 13, ('438', 'No'): 9, ('439', 'Yes'): 19, ('439', 'No'): 8, ('440', 'No'): 13, ('440', 'Yes'): 6, ('441', 'Yes'): 15, ('441', 'No'): 10, ('442', 'Yes'): 15, ('442', 'No'): 6, ('443', 'No'): 11, ('443', 'Yes'): 10, ('444', 'No'): 12, ('444', 'Yes'): 11, ('445', 'Yes'): 14, ('445', 'No'): 8, ('446', 'No'): 14, ('446', 'Yes'): 11, ('453', 'Yes'): 25, ('453', 'No'): 21, ('454', 'Yes'): 23, ('454', 'No'): 22, ('455', 'Yes'): 34, ('455', 'No'): 7, ('456', 'Yes'): 31, ('456', 'No'): 13, ('457', 'Yes'): 22, ('457', 'No'): 14, ('458', 'Yes'): 22, ('458', 'No'): 16, ('459', 'Yes'): 23, ('459', 'No'): 19, ('460', 'Yes'): 18, ('460', 'No'): 17, ('461', 'Yes'): 24, ('461', 'No'): 18, ('462', 'Yes'): 18, ('462', 'No'): 13, ('463', 'Yes'): 26, ('463', 'No'): 23, ('464', 'Yes'): 29, ('464', 'No'): 18, ('465', 'Yes'): 21, ('465', 'No'): 14, ('466', 'Yes'): 25, ('466', 'No'): 11, ('467', 'Yes'): 26, ('467', 'No'): 17, ('468', 'Yes'): 24, ('468', 'No'): 17, ('469', 'Yes'): 27, ('469', 'No'): 18, ('470', 'Yes'): 30, ('470', 'No'): 15, ('471', 'Yes'): 30, ('471', 'No'): 15, ('472', 'Yes'): 18, ('472', 'No'): 14, ('473', 'Yes'): 25, ('473', 'No'): 12, ('474', 'Yes'): 18, ('474', 'No'): 15, ('475', 'Yes'): 14, ('475', 'No'): 12, ('476', 'Yes'): 25, ('476', 'No'): 17, ('477', 'Yes'): 24, ('477', 'No'): 14, ('478', 'Yes'): 22, ('478', 'No'): 21, ('479', 'Yes'): 21, ('479', 'No'): 19, ('480', 'No'): 25, ('480', 'Yes'): 19, ('481', 'Yes'): 15, ('481', 'No'): 14, ('482', 'Yes'): 32, ('482', 'No'): 13, ('483', 'Yes'): 23, ('483', 'No'): 11, ('484', 'Yes'): 31, ('484', 'No'): 26, ('485', 'Yes'): 22, ('485', 'No'): 13, ('486', 'Yes'): 16, ('486', 'No'): 15, ('487', 'Yes'): 25, ('487', 'No'): 14, ('488', 'Yes'): 24, ('488', 'No'): 20, ('489', 'Yes'): 20, ('489', 'No'): 16, ('490', 'Yes'): 15, ('490', 'No'): 14, ('491', 'Yes'): 20, ('491', 'No'): 16, ('492', 'No'): 18, ('492', 'Yes'): 17, ('493', 'Yes'): 24, ('493', 'No'): 19, ('494', 'Yes'): 29, ('494', 'No'): 11, ('495', 'Yes'): 24, ('495', 'No'): 15, ('496', 'Yes'): 22, ('496', 'No'): 19, ('497', 'Yes'): 26, ('497', 'No'): 14, ('498', 'Yes'): 22, ('498', 'No'): 9, ('499', 'Yes'): 22, ('499', 'No'): 8, ('500', 'Yes'): 27, ('500', 'No'): 12, ('501', 'Yes'): 26, ('501', 'No'): 16, ('502', 'Yes'): 25, ('502', 'No'): 16, ('503', 'Yes'): 29, ('503', 'No'): 10, ('504', 'Yes'): 23, ('504', 'No'): 20, ('505', 'Yes'): 9, ('505', 'No'): 8, ('506', 'Yes'): 32, ('506', 'No'): 17, ('507', 'Yes'): 21, ('507', 'No'): 14, ('508', 'Yes'): 22, ('508', 'No'): 18, ('509', 'Yes'): 25, ('509', 'No'): 14, ('510', 'Yes'): 20, ('510', 'No'): 12, ('511', 'Yes'): 25, ('511', 'No'): 14, ('512', 'Yes'): 26, ('512', 'No'): 17, ('513', 'Yes'): 17, ('513', 'No'): 14, ('514', 'No'): 18, ('514', 'Yes'): 12, ('515', 'Yes'): 22, ('515', 'No'): 13, ('516', 'No'): 20, ('516', 'Yes'): 20, ('517', 'Yes'): 24, ('517', 'No'): 15, ('533', 'No'): 22, ('533', 'Yes'): 18, ('534', 'Yes'): 32, ('534', 'No'): 14, ('535', 'Yes'): 24, ('535', 'No'): 19, ('536', 'Yes'): 22, ('536', 'No'): 20, ('537', 'Yes'): 21, ('537', 'No'): 16, ('538', 'Yes'): 33, ('538', 'No'): 19, ('539', 'Yes'): 25, ('539', 'No'): 24, ('540', 'Yes'): 21, ('540', 'No'): 12, ('541', 'Yes'): 23, ('541', 'No'): 16, ('542', 'Yes'): 21, ('542', 'No'): 12, ('543', 'No'): 25, ('543', 'Yes'): 23, ('544', 'Yes'): 26, ('544', 'No'): 14, ('545', 'Yes'): 27, ('545', 'No'): 17, ('546', 'Yes'): 31, ('546', 'No'): 17, ('547', 'No'): 26, ('547', 'Yes'): 21, ('548', 'No'): 20, ('548', 'Yes'): 19, ('549', 'Yes'): 27, ('549', 'No'): 13, ('550', 'Yes'): 21, ('550', 'No'): 12, ('551', 'Yes'): 24, ('551', 'No'): 17, ('552', 'Yes'): 27, ('552', 'No'): 21, ('553', 'Yes'): 17, ('553', 'No'): 15, ('554', 'Yes'): 22, ('554', 'No'): 15, ('555', 'Yes'): 19, ('555', 'No'): 12, ('556', 'Yes'): 26, ('556', 'No'): 14, ('557', 'Yes'): 19, ('557', 'No'): 16, ('558', 'No'): 20, ('558', 'Yes'): 20, ('559', 'Yes'): 23, ('559', 'No'): 8, ('560', 'Yes'): 16, ('560', 'No'): 10, ('561', 'No'): 19, ('561', 'Yes'): 17, ('562', 'No'): 16, ('562', 'Yes'): 14, ('563', 'Yes'): 24, ('563', 'No'): 21, ('564', 'Yes'): 21, ('564', 'No'): 17, ('565', 'Yes'): 19, ('565', 'No'): 14, ('566', 'Yes'): 22, ('566', 'No'): 9, ('573', 'Yes'): 23, ('573', 'No'): 15, ('574', 'No'): 14, ('574', 'Yes'): 14, ('575', 'Yes'): 21, ('575', 'No'): 9, ('576', 'No'): 12, ('576', 'Yes'): 11, ('577', 'Yes'): 20, ('577', 'No'): 12, ('578', 'Yes'): 19, ('578', 'No'): 11, ('579', 'Yes'): 20, ('579', 'No'): 9, ('580', 'Yes'): 21, ('580', 'No'): 14, ('581', 'Yes'): 12, ('581', 'No'): 10, ('582', 'No'): 7, ('582', 'Yes'): 7, ('583', 'Yes'): 14, ('583', 'No'): 8, ('584', 'Yes'): 21, ('584', 'No'): 13, ('585', 'Yes'): 24, ('585', 'No'): 22, ('592', 'Yes'): 10, ('592', 'No'): 7, ('593', 'Yes'): 14, ('593', 'No'): 9, ('594', 'Yes'): 20, ('594', 'No'): 9, ('595', 'Yes'): 15, ('595', 'No'): 7, ('596', 'Yes'): 14, ('596', 'No'): 13, ('597', 'No'): 18, ('597', 'Yes'): 11, ('598', 'Yes'): 13, ('598', 'No'): 11, ('599', 'Yes'): 19, ('599', 'No'): 9, ('600', 'Yes'): 13, ('600', 'No'): 5, ('601', 'Yes'): 13, ('601', 'No'): 8, ('602', 'Yes'): 11, ('602', 'No'): 6, ('603', 'No'): 17, ('603', 'Yes'): 15, ('604', 'Yes'): 19, ('604', 'No'): 10, ('605', 'No'): 16, ('605', 'Yes'): 8, ('606', 'Yes'): 13, ('606', 'No'): 9, ('607', 'Yes'): 15, ('607', 'No'): 9, ('614', 'Yes'): 25, ('614', 'No'): 18, ('615', 'Yes'): 27, ('615', 'No'): 22, ('616', 'Yes'): 27, ('616', 'No'): 21, ('617', 'No'): 27, ('617', 'Yes'): 24, ('618', 'Yes'): 30, ('618', 'No'): 16, ('619', 'Yes'): 27, ('619', 'No'): 23, ('620', 'Yes'): 33, ('620', 'No'): 21, ('621', 'Yes'): 18, ('621', 'No'): 15, ('622', 'Yes'): 24, ('622', 'No'): 20, ('623', 'Yes'): 20, ('623', 'No'): 17, ('624', 'Yes'): 25, ('624', 'No'): 18, ('625', 'Yes'): 25, ('625', 'No'): 17, ('626', 'Yes'): 25, ('626', 'No'): 19, ('627', 'Yes'): 31, ('627', 'No'): 16, ('628', 'Yes'): 29, ('628', 'No'): 20, ('629', 'Yes'): 25, ('629', 'No'): 19, ('630', 'Yes'): 22, ('630', 'No'): 14, ('637', 'Yes'): 30, ('637', 'No'): 16, ('638', 'No'): 24, ('638', 'Yes'): 21, ('639', 'Yes'): 23, ('639', 'No'): 22, ('640', 'Yes'): 31, ('640', 'No'): 16, ('641', 'Yes'): 34, ('641', 'No'): 19, ('642', 'No'): 21, ('642', 'Yes'): 16, ('643', 'Yes'): 29, ('643', 'No'): 22, ('644', 'Yes'): 22, ('644', 'No'): 17, ('645', 'Yes'): 22, ('645', 'No'): 17, ('652', 'Yes'): 32, ('652', 'No'): 30, ('653', 'Yes'): 28, ('653', 'No'): 19, ('654', 'Yes'): 18, ('654', 'No'): 17, ('655', 'No'): 25, ('655', 'Yes'): 23, ('656', 'Yes'): 15, ('656', 'No'): 11, ('657', 'Yes'): 25, ('657', 'No'): 17, ('658', 'No'): 22, ('658', 'Yes'): 20, ('659', 'Yes'): 31, ('659', 'No'): 16, ('660', 'Yes'): 23, ('660', 'No'): 20, ('661', 'Yes'): 24, ('661', 'No'): 14, ('662', 'Yes'): 30, ('662', 'No'): 12, ('663', 'Yes'): 25, ('663', 'No'): 22, ('664', 'Yes'): 34, ('664', 'No'): 23, ('665', 'Yes'): 25, ('665', 'No'): 22, ('666', 'Yes'): 39, ('666', 'No'): 30, ('667', 'Yes'): 34, ('667', 'No'): 17, ('668', 'Yes'): 21, ('668', 'No'): 16, ('669', 'Yes'): 29, ('669', 'No'): 24, ('670', 'Yes'): 28, ('670', 'No'): 15, ('671', 'No'): 23, ('671', 'Yes'): 21, ('672', 'Yes'): 25, ('672', 'No'): 24, ('673', 'Yes'): 33, ('673', 'No'): 24, ('674', 'Yes'): 35, ('674', 'No'): 20, ('675', 'No'): 21, ('675', 'Yes'): 21, ('682', 'Yes'): 32, ('682', 'No'): 21, ('683', 'Yes'): 29, ('683', 'No'): 22, ('684', 'Yes'): 30, ('684', 'No'): 19, ('685', 'Yes'): 27, ('685', 'No'): 26, ('686', 'Yes'): 39, ('686', 'No'): 17, ('687', 'Yes'): 34, ('687', 'No'): 12, ('688', 'Yes'): 30, ('688', 'No'): 16, ('689', 'Yes'): 24, ('689', 'No'): 15, ('690', 'Yes'): 30, ('690', 'No'): 20, ('691', 'Yes'): 27, ('691', 'No'): 14, ('692', 'No'): 23, ('692', 'Yes'): 20, ('693', 'Yes'): 31, ('693', 'No'): 27, ('694', 'Yes'): 27, ('694', 'No'): 16, ('695', 'Yes'): 28, ('695', 'No'): 27, ('696', 'Yes'): 27, ('696', 'No'): 16, ('697', 'No'): 23, ('697', 'Yes'): 21, ('698', 'No'): 24, ('698', 'Yes'): 22, ('699', 'Yes'): 26, ('699', 'No'): 20, ('700', 'Yes'): 26, ('700', 'No'): 12, ('707', 'Yes'): 5, ('707', 'No'): 4, ('708', 'Yes'): 8, ('708', 'No'): 4, ('709', 'Yes'): 6, ('709', 'No'): 3, ('710', 'No'): 5, ('710', 'Yes'): 3, ('711', 'Yes'): 7, ('711', 'No'): 3, ('712', 'No'): 7, ('712', 'Yes'): 6, ('713', 'No'): 8, ('713', 'Yes'): 8, ('714', 'Yes'): 4, ('714', 'No'): 3, ('715', 'No'): 4, ('715', 'Yes'): 3, ('716', 'No'): 6, ('716', 'Yes'): 4, ('717', 'Yes'): 8, ('717', 'No'): 3, ('718', 'Yes'): 8, ('718', 'No'): 6, ('722', 'Yes'): 13, ('722', 'No'): 2, ('723', 'Yes'): 9, ('723', 'No'): 7, ('724', 'Yes'): 4, ('724', 'No'): 3, ('725', 'Yes'): 5, ('725', 'No'): 2, ('726', 'No'): 7, ('726', 'Yes'): 5, ('727', 'Yes'): 10, ('727', 'No'): 3, ('728', 'Yes'): 7, ('728', 'No'): 3, ('729', 'No'): 6, ('729', 'Yes'): 3, ('730', 'No'): 8, ('730', 'Yes'): 6, ('734', 'No'): 4, ('734', 'Yes'): 4, ('735', 'Yes'): 7, ('735', 'No'): 1, ('736', 'Yes'): 9, ('736', 'No'): 6, ('737', 'No'): 6, ('737', 'Yes'): 6, ('738', 'No'): 7, ('738', 'Yes'): 5, ('739', 'No'): 6, ('739', 'Yes'): 5, ('740', 'No'): 7, ('740', 'Yes'): 5, ('741', 'Yes'): 6, ('741', 'No'): 3, ('742', 'No'): 6, ('742', 'Yes'): 4, ('743', 'Yes'): 11, ('743', 'No'): 1, ('744', 'Yes'): 6, ('744', 'No'): 5, ('745', 'Yes'): 9, ('745', 'No'): 5, ('746', 'No'): 8, ('746', 'Yes'): 6, ('747', 'Yes'): 9, ('747', 'No'): 2, ('748', 'No'): 4, ('748', 'Yes'): 4, ('749', 'Yes'): 6, ('749', 'No'): 4, ('750', 'No'): 6, ('750', 'Yes'): 3, ('754', 'Yes'): 9, ('754', 'No'): 2, ('755', 'Yes'): 9, ('755', 'No'): 4, ('756', 'Yes'): 6, ('756', 'No'): 5, ('757', 'No'): 9, ('757', 'Yes'): 5, ('758', 'No'): 8, ('758', 'Yes'): 6, ('759', 'Yes'): 11, ('759', 'No'): 1, ('760', 'No'): 6, ('760', 'Yes'): 6, ('761', 'No'): 6, ('761', 'Yes'): 4, ('765', 'No'): 1, ('766', 'Yes'): 3, ('766', 'No'): 1, ('768', 'Yes'): 1, ('769', 'Yes'): 3, ('769', 'No'): 1, ('770', 'Yes'): 3, ('770', 'No'): 1, ('774', 'No'): 1, ('774', 'Yes'): 1, ('775', 'No'): 1, ('776', 'Yes'): 1, ('777', 'No'): 1, ('777', 'Yes'): 1, ('778', 'Yes'): 2, ('778', 'No'): 1, ('779', 'Yes'): 4, ('779', 'No'): 2, ('781', 'No'): 1, ('781', 'Yes'): 1, ('782', 'Yes'): 3, ('782', 'No'): 1, ('799', 'No'): 17, ('799', 'Yes'): 15, ('800', 'No'): 16, ('800', 'Yes'): 16, ('801', 'Yes'): 20, ('801', 'No'): 12, ('802', 'Yes'): 15, ('802', 'No'): 13, ('803', 'Yes'): 14, ('803', 'No'): 8, ('804', 'Yes'): 14, ('804', 'No'): 11, ('808', 'Yes'): 15, ('808', 'No'): 11, ('809', 'No'): 14, ('809', 'Yes'): 13, ('810', 'Yes'): 20, ('810', 'No'): 6, ('811', 'Yes'): 20, ('811', 'No'): 13, ('812', 'Yes'): 19, ('812', 'No'): 11, ('813', 'Yes'): 14, ('813', 'No'): 8, ('814', 'Yes'): 17, ('814', 'No'): 15, ('815', 'Yes'): 12, ('815', 'No'): 5, ('816', 'Yes'): 20, ('816', 'No'): 9, ('820', 'Yes'): 10, ('820', 'No'): 4, ('821', 'No'): 6, ('821', 'Yes'): 5, ('822', 'Yes'): 4, ('822', 'No'): 2, ('823', 'No'): 4, ('823', 'Yes'): 3, ('824', 'Yes'): 5, ('824', 'No'): 4, ('825', 'Yes'): 6, ('825', 'No'): 1, ('826', 'No'): 6, ('826', 'Yes'): 4, ('827', 'Yes'): 4, ('827', 'No'): 3, ('828', 'Yes'): 7, ('828', 'No'): 2, ('829', 'No'): 5, ('829', 'Yes'): 3, ('830', 'Yes'): 5, ('834', 'Yes'): 4, ('834', 'No'): 2, ('835', 'No'): 3, ('835', 'Yes'): 2, ('836', 'Yes'): 7, ('836', 'No'): 2, ('837', 'No'): 5, ('837', 'Yes'): 3, ('838', 'No'): 1, ('838', 'Yes'): 1, ('839', 'Yes'): 7, ('839', 'No'): 3, ('840', 'Yes'): 6, ('840', 'No'): 5, ('841', 'Yes'): 6, ('841', 'No'): 4, ('842', 'No'): 1, ('843', 'Yes'): 5, ('844', 'Yes'): 6, ('844', 'No'): 2, ('845', 'Yes'): 2, ('845', 'No'): 1, ('846', 'Yes'): 3, ('847', 'No'): 3, ('847', 'Yes'): 3, ('848', 'No'): 4, ('848', 'Yes'): 4, ('849', 'No'): 4, ('849', 'Yes'): 3, ('853', 'Yes'): 53, ('853', 'No'): 50, ('854', 'Yes'): 46, ('854', 'No'): 32, ('855', 'Yes'): 40, ('855', 'No'): 33, ('856', 'Yes'): 46, ('856', 'No'): 34, ('857', 'Yes'): 40, ('857', 'No'): 22, ('858', 'Yes'): 39, ('858', 'No'): 34, ('862', 'Yes'): 61, ('862', 'No'): 38, ('863', 'Yes'): 35, ('863', 'No'): 20, ('864', 'Yes'): 58, ('864', 'No'): 37, ('865', 'Yes'): 39, ('865', 'No'): 33, ('866', 'Yes'): 50, ('866', 'No'): 30, ('867', 'Yes'): 56, ('867', 'No'): 41, ('868', 'Yes'): 42, ('868', 'No'): 31, ('869', 'Yes'): 38, ('869', 'No'): 37, ('870', 'Yes'): 56, ('870', 'No'): 39, ('871', 'Yes'): 43, ('871', 'No'): 40, ('872', 'Yes'): 43, ('872', 'No'): 40, ('876', 'Yes'): 64, ('876', 'No'): 54, ('880', 'Yes'): 62, ('880', 'No'): 50, ('881', 'Yes'): 61, ('881', 'No'): 58, ('882', 'Yes'): 95, ('882', 'No'): 57, ('883', 'Yes'): 87, ('883', 'No'): 55, ('884', 'Yes'): 75, ('884', 'No'): 62, ('885', 'Yes'): 73, ('885', 'No'): 44, ('886', 'Yes'): 63, ('886', 'No'): 52, ('887', 'Yes'): 71, ('887', 'No'): 59, ('894', 'Yes'): 30, ('894', 'No'): 17, ('895', 'Yes'): 30, ('895', 'No'): 20, ('896', 'Yes'): 34, ('896', 'No'): 18, ('897', 'No'): 34, ('897', 'Yes'): 28, ('901', 'No'): 6, ('901', 'Yes'): 4, ('902', 'Yes'): 12, ('902', 'No'): 9, ('903', 'Yes'): 11, ('903', 'No'): 5, ('904', 'Yes'): 13, ('904', 'No'): 12, ('905', 'Yes'): 10, ('905', 'No'): 6, ('906', 'No'): 7, ('906', 'Yes'): 7, ('907', 'No'): 9, ('907', 'Yes'): 7, ('908', 'Yes'): 16, ('908', 'No'): 6, ('909', 'No'): 7, ('909', 'Yes'): 7, ('913', 'Yes'): 8, ('913', 'No'): 7, ('914', 'Yes'): 18, ('914', 'No'): 5, ('915', 'Yes'): 15, ('915', 'No'): 9, ('916', 'No'): 11, ('916', 'Yes'): 10, ('917', 'No'): 8, ('917', 'Yes'): 8, ('918', 'Yes'): 9, ('918', 'No'): 5, ('919', 'Yes'): 6, ('919', 'No'): 5, ('920', 'Yes'): 9, ('920', 'No'): 6, ('921', 'Yes'): 10, ('921', 'No'): 6, ('922', 'Yes'): 9, ('922', 'No'): 7, ('923', 'Yes'): 10, ('923', 'No'): 8, ('927', 'Yes'): 1, ('928', 'No'): 2, ('928', 'Yes'): 2, ('929', 'No'): 1, ('929', 'Yes'): 1, ('933', 'No'): 1, ('933', 'Yes'): 1, ('935', 'Yes'): 2, ('935', 'No'): 1, ('939', 'Yes'): 76, ('939', 'No'): 53, ('940', 'Yes'): 68, ('940', 'No'): 54, ('941', 'Yes'): 61, ('941', 'No'): 51, ('945', 'Yes'): 74, ('945', 'No'): 52, ('946', 'Yes'): 72, ('946', 'No'): 45, ('947', 'Yes'): 70, ('947', 'No'): 44, ('948', 'Yes'): 63, ('948', 'No'): 55, ('949', 'Yes'): 79, ('949', 'No'): 43, ('950', 'Yes'): 72, ('950', 'No'): 36, ('951', 'Yes'): 59, ('951', 'No'): 40, ('956', 'No'): 3, ('956', 'Yes'): 2, ('957', 'Yes'): 3, ('957', 'No'): 1, ('958', 'No'): 4, ('958', 'Yes'): 2, ('959', 'Yes'): 2, ('959', 'No'): 1, ('963', 'No'): 2, ('963', 'Yes'): 2, ('964', 'Yes'): 4, ('964', 'No'): 2, ('965', 'Yes'): 6, ('965', 'No'): 1, ('969', 'Yes'): 4, ('969', 'No'): 2, ('970', 'Yes'): 5, ('970', 'No'): 3, ('974', 'Yes'): 5, ('974', 'No'): 1, ('975', 'No'): 2, ('975', 'Yes'): 2, ('976', 'Yes'): 5, ('976', 'No'): 2, ('977', 'No'): 3, ('977', 'Yes'): 2, ('981', 'Yes'): 11, ('981', 'No'): 10, ('982', 'Yes'): 9, ('982', 'No'): 6, ('983', 'Yes'): 17, ('983', 'No'): 8, ('984', 'Yes'): 12, ('984', 'No'): 5, ('985', 'Yes'): 9, ('985', 'No'): 5, ('986', 'Yes'): 14, ('986', 'No'): 4, ('987', 'Yes'): 8, ('987', 'No'): 5, ('988', 'Yes'): 10, ('988', 'No'): 6, ('989', 'Yes'): 10, ('989', 'No'): 9, ('998', 'Yes'): 11, ('998', 'No'): 8, ('999', 'Yes'): 11, ('999', 'No'): 6, ('OTH', 'Yes'): 50, ('OTH', 'No'): 37}\n"
          ]
        }
      ]
    },
    {
      "cell_type": "code",
      "source": [
        "train_fin2['BID_Yes']= np.zeros(len(train_fin2['BeneID']))\n",
        "train_fin2['BID_No']= np.zeros(len(train_fin2['BeneID']))\n",
        "\n",
        "train_fin2['BID_Yes']= np.zeros(len(train_fin2['BeneID']))\n",
        "train_fin2['BID_No']= np.zeros(len(train_fin2['BeneID']))\n",
        "\n",
        "train_fin2['BID_Yes'],train_fin2['BID_No'],cv_fin2['BID_Yes'],cv_fin2['BID_No'],bid_dict= response_coding(train_fin2,cv_fin2,'BeneID','PotentialFraud')\n"
      ],
      "metadata": {
        "id": "lq2vIAeKL0s5"
      },
      "execution_count": 83,
      "outputs": []
    },
    {
      "cell_type": "code",
      "source": [
        "train_fin2['CID_Yes']= np.zeros(len(train_fin2['ClaimID']))\n",
        "train_fin2['CID_No']= np.zeros(len(train_fin2['ClaimID']))\n",
        "\n",
        "cv_fin2['CID_Yes']= np.zeros(len(cv_fin2['ClaimID']))\n",
        "cv_fin2['CID_No']= np.zeros(len(cv_fin2['ClaimID']))\n",
        "\n",
        "train_fin2['CID_Yes'],train_fin2['CID_No'],cv_fin2['CID_Yes'],cv_fin2['CID_No'],cid_dict= response_coding(train_fin2,cv_fin2,'ClaimID','PotentialFraud')"
      ],
      "metadata": {
        "id": "WuPHW2b6MIhs"
      },
      "execution_count": 84,
      "outputs": []
    },
    {
      "cell_type": "code",
      "source": [
        "train_fin2['Pvr_Yes']= np.zeros(len(train_fin2['Provider']))\n",
        "train_fin2['Pvr_No']= np.zeros(len(train_fin2['Provider']))\n",
        "\n",
        "cv_fin2['Pvr_Yes']= np.zeros(len(cv_fin2['Provider']))\n",
        "cv_fin2['Pvr_No']= np.zeros(len(cv_fin2['Provider']))\n",
        "\n",
        "train_fin2['Pvr_Yes'],train_fin2['Pvr_No'],cv_fin2['Pvr_Yes'],cv_fin2['Pvr_No'],pvr_dict= response_coding(train_fin2,cv_fin2,'Provider','PotentialFraud')"
      ],
      "metadata": {
        "id": "hrmqucNrMQSB"
      },
      "execution_count": 85,
      "outputs": []
    },
    {
      "cell_type": "code",
      "source": [
        "train_fin2['Ap_Yes']= np.zeros(len(train_fin2['AttendingPhysician']))\n",
        "train_fin2['Ap_No']= np.zeros(len(train_fin2['AttendingPhysician']))\n",
        "\n",
        "cv_fin2['Ap_Yes']= np.zeros(len(cv_fin2['AttendingPhysician']))\n",
        "cv_fin2['Ap_No']= np.zeros(len(cv_fin2['AttendingPhysician']))\n",
        "\n",
        "\n",
        "train_fin2['Ap_Yes'],train_fin2['Ap_No'],cv_fin2['Ap_Yes'],cv_fin2['Ap_No'],ap_dict= response_coding(train_fin2,cv_fin2,'AttendingPhysician','PotentialFraud')"
      ],
      "metadata": {
        "id": "7-VCFv__MZUY"
      },
      "execution_count": 86,
      "outputs": []
    },
    {
      "cell_type": "code",
      "source": [
        "train_fin2.drop(['State','County','DiagnosisGroupCode','BeneID','ClaimID','Provider','AttendingPhysician'], axis=1, inplace=True)\n",
        "cv_fin2.drop(['State','County','DiagnosisGroupCode','BeneID','ClaimID','Provider','AttendingPhysician'], axis=1, inplace=True)"
      ],
      "metadata": {
        "id": "52T1mi3WMgga"
      },
      "execution_count": 87,
      "outputs": []
    },
    {
      "cell_type": "code",
      "source": [
        "with open('/content/drive/MyDrive/Colab Notebooks/train_fin_n3.pkl','wb') as tr_df:\n",
        "    pickle.dump(train_fin2,tr_df)\n",
        "with open('/content/drive/MyDrive/Colab Notebooks/cv_fin_n3.pkl','wb') as cv_df:\n",
        "    pickle.dump(cv_fin2,cv_df)"
      ],
      "metadata": {
        "id": "og6uRyd_MkxO"
      },
      "execution_count": 88,
      "outputs": []
    },
    {
      "cell_type": "code",
      "source": [
        "#Dropping the NoOfMonths\n",
        "train_fin2.drop(['NoOfMonths_PartACov','NoOfMonths_PartBCov'],axis=1, inplace= True)\n",
        "cv_fin2.drop(['NoOfMonths_PartACov','NoOfMonths_PartBCov'],axis=1, inplace= True)"
      ],
      "metadata": {
        "id": "CN7h2Ag3MqVm"
      },
      "execution_count": 89,
      "outputs": []
    },
    {
      "cell_type": "code",
      "source": [
        "train_fin2['DOB']= pd.to_datetime(train_fin2['DOB'])\n",
        "train_fin2['DOD']= pd.to_datetime(train_fin2['DOD'])\n",
        "\n",
        "cv_fin2['DOB']= pd.to_datetime(cv_fin2['DOB'])\n",
        "cv_fin2['DOD']= pd.to_datetime(cv_fin2['DOD'])"
      ],
      "metadata": {
        "id": "E9ON5ofsNACw"
      },
      "execution_count": 90,
      "outputs": []
    },
    {
      "cell_type": "code",
      "source": [
        "#Calculating the age of each of the patients\n",
        "train_fin2['age']= np.zeros(len(train_fin2['DOB']))\n",
        "\n",
        "a_max_tr= train_fin2['DOD'].max()\n",
        "\n",
        "for i in range(len(train_fin2['DOB'])):\n",
        "    if pd.isnull(train_fin2['DOD'][i])== True:\n",
        "        train_fin2['age'][i]= (a_max_tr-train_fin2['DOB'][i])/timedelta(days=365)\n",
        "    else:\n",
        "        train_fin2['age'][i]= (train_fin2['DOD'][i]-train_fin2['DOB'][i])/timedelta(days=365)"
      ],
      "metadata": {
        "id": "EFHv56qdNQn-"
      },
      "execution_count": 91,
      "outputs": []
    },
    {
      "cell_type": "code",
      "source": [
        "cv_fin2['age']= np.zeros(len(cv_fin2['DOB']))\n",
        "\n",
        "a_max_cv= cv_fin2['DOD'].max()\n",
        "\n",
        "for i in range(len(cv_fin2['DOB'])):\n",
        "    if pd.isnull(cv_fin2['DOD'][i])== True:\n",
        "        cv_fin2['age'][i]= (a_max_cv-train_fin2['DOB'][i])/timedelta(days=365)\n",
        "    else:\n",
        "        cv_fin2['age'][i]= (cv_fin2['DOD'][i]-cv_fin2['DOB'][i])/timedelta(days=365)\n"
      ],
      "metadata": {
        "id": "s1qZKrfYNWl6"
      },
      "execution_count": 92,
      "outputs": []
    },
    {
      "cell_type": "code",
      "source": [
        "#Dropping the DOB and DOD columns from the dataset\n",
        "train_fin2.drop(['DOB','DOD'], axis=1,inplace=True)\n",
        "cv_fin2.drop(['DOB','DOD'], axis=1,inplace=True)"
      ],
      "metadata": {
        "id": "BtR3owOtOiaQ"
      },
      "execution_count": 93,
      "outputs": []
    },
    {
      "cell_type": "code",
      "source": [
        "#Imputing the ClaimAditDiagosis variable with 0\n",
        "train_fin2['ClmAdmitDiagnosisCode']= train_fin2['ClmAdmitDiagnosisCode'].fillna(0)\n",
        "cv_fin2['ClmAdmitDiagnosisCode']= cv_fin2['ClmAdmitDiagnosisCode'].fillna(0)"
      ],
      "metadata": {
        "id": "QYPZXI1eOtPW"
      },
      "execution_count": 94,
      "outputs": []
    },
    {
      "cell_type": "code",
      "source": [
        "#Response Encoding of the ClaimsAdmitDiagnosis variable due to the presence of large number of categories in the variable\n",
        "train_fin2['CADC_Yes']= np.zeros(len(train_fin2['ClmAdmitDiagnosisCode']))\n",
        "train_fin2['CADC_No']= np.zeros(len(train_fin2['ClmAdmitDiagnosisCode']))\n",
        "cv_fin2['CADC_Yes']= np.zeros(len(cv_fin2['ClmAdmitDiagnosisCode']))\n",
        "cv_fin2['CADC_No']= np.zeros(len(cv_fin2['ClmAdmitDiagnosisCode']))\n",
        "\n",
        "train_fin2['CADC_Yes'],train_fin2['CADC_No'],cv_fin2['CADC_Yes'],cv_fin2['CADC_No'],cadc_dict= response_coding(train_fin2,cv_fin2,'ClmAdmitDiagnosisCode','PotentialFraud')\n"
      ],
      "metadata": {
        "id": "e5Jp7YaSO-a3"
      },
      "execution_count": 95,
      "outputs": []
    },
    {
      "cell_type": "code",
      "source": [
        "#Dropping the ClmAdmitDiagnosisCode from the dataset\n",
        "train_fin2.drop(['ClmAdmitDiagnosisCode'], axis=1, inplace=True)\n",
        "cv_fin2.drop(['ClmAdmitDiagnosisCode'], axis=1, inplace=True)"
      ],
      "metadata": {
        "id": "FA5kjVf5PL2R"
      },
      "execution_count": 96,
      "outputs": []
    },
    {
      "cell_type": "code",
      "source": [
        "#Replacing the Y and 0 in the RenalDiseaseIdicator varibale with 1 and 0\n",
        "train_fin2['RenalDiseaseIndicator']= train_fin2['RenalDiseaseIndicator'].map({'Y':1,'0':0})\n",
        "cv_fin2['RenalDiseaseIndicator']= cv_fin2['RenalDiseaseIndicator'].map({'Y':1,'0':0})"
      ],
      "metadata": {
        "id": "vTBFEOKAPV5h"
      },
      "execution_count": 97,
      "outputs": []
    },
    {
      "cell_type": "code",
      "source": [
        "nam_cols= ['ChronicCond_Alzheimer','ChronicCond_Heartfailure','ChronicCond_KidneyDisease','ChronicCond_Cancer','ChronicCond_ObstrPulmonary','ChronicCond_Depression','ChronicCond_Diabetes','ChronicCond_IschemicHeart','ChronicCond_Osteoporasis','ChronicCond_rheumatoidarthritis','ChronicCond_stroke']"
      ],
      "metadata": {
        "id": "Jvt9TAyOPfKs"
      },
      "execution_count": 98,
      "outputs": []
    },
    {
      "cell_type": "code",
      "source": [
        "for i in nam_cols:\n",
        "    train_fin2[i]= train_fin2[i].map({1:0,2:1})\n",
        "    cv_fin2[i]= cv_fin2[i].map({1:0,2:1})\n"
      ],
      "metadata": {
        "id": "BYRc7bZQQOhd"
      },
      "execution_count": 99,
      "outputs": []
    },
    {
      "cell_type": "code",
      "source": [
        "train_fin2['Gender']= train_fin2['Gender'].map({1:'G1',2:'G2'})\n",
        "train_fin2['Race']= train_fin2['Race'].map({1:'R1',2:'R2',3:'R3',5:'R4'})\n",
        "\n",
        "cv_fin2['Gender']= cv_fin2['Gender'].map({1:'G1',2:'G2'})\n",
        "cv_fin2['Race']= cv_fin2['Race'].map({1:'R1',2:'R2',3:'R3',5:'R4'})\n"
      ],
      "metadata": {
        "id": "SWdLVuquQRBU"
      },
      "execution_count": 100,
      "outputs": []
    },
    {
      "cell_type": "code",
      "source": [
        "#Imputing the DeductibleAmtPaid with Median strategy using SimpleImpute\n",
        "num_imp= SimpleImputer(missing_values= np.nan, strategy= 'median')\n",
        "train_fin2[\"DeductibleAmtPaid\"]= num_imp.fit_transform(train_fin2['DeductibleAmtPaid'].values.reshape(-1,1))[:,0]\n",
        "cv_fin2[\"DeductibleAmtPaid\"]= num_imp.transform(cv_fin2['DeductibleAmtPaid'].values.reshape(-1,1))[:,0]"
      ],
      "metadata": {
        "id": "6OMsjowWQgmK"
      },
      "execution_count": 101,
      "outputs": []
    },
    {
      "cell_type": "code",
      "source": [
        "with open('/content/drive/MyDrive/Colab Notebooks/train_fin_n3.pkl','wb') as tr_df:\n",
        "    pickle.dump(train_fin2,tr_df)\n",
        "with open('/content/drive/MyDrive/Colab Notebooks/cv_fin_n3.pkl','wb') as cv_df:\n",
        "    pickle.dump(cv_fin2,cv_df)"
      ],
      "metadata": {
        "id": "X1NZG25CQomr"
      },
      "execution_count": 102,
      "outputs": []
    },
    {
      "cell_type": "code",
      "source": [
        "with open('/content/drive/MyDrive/Colab Notebooks/train_fin_n3.pkl','rb') as tr_df:\n",
        "    train_fin3= pickle.load(tr_df)\n",
        "with open('/content/drive/MyDrive/Colab Notebooks/cv_fin_n3.pkl','rb') as cv_df:\n",
        "    cv_fin3= pickle.load(cv_df)"
      ],
      "metadata": {
        "id": "dN0wclAfQpzG"
      },
      "execution_count": 110,
      "outputs": []
    },
    {
      "cell_type": "code",
      "source": [
        "num_cols=['InscClaimAmtReimbursed','DeductibleAmtPaid','IPAnnualReimbursementAmt','IPAnnualDeductibleAmt','OPAnnualReimbursementAmt','OPAnnualDeductibleAmt','age']\n"
      ],
      "metadata": {
        "id": "Soy8FNTEQ7mL"
      },
      "execution_count": 111,
      "outputs": []
    },
    {
      "cell_type": "code",
      "source": [
        "train_fin3.head()"
      ],
      "metadata": {
        "colab": {
          "base_uri": "https://localhost:8080/",
          "height": 300
        },
        "id": "j--qDZnbRMKT",
        "outputId": "1453154e-8180-49ac-bd9c-8ff37d677296"
      },
      "execution_count": 112,
      "outputs": [
        {
          "output_type": "execute_result",
          "data": {
            "text/plain": [
              "   InscClaimAmtReimbursed  DeductibleAmtPaid Gender Race  \\\n",
              "0                      90                0.0     G2   R1   \n",
              "1                    5000             1068.0     G1   R1   \n",
              "2                     400                0.0     G1   R1   \n",
              "3                      30                0.0     G2   R2   \n",
              "4                    2000             1068.0     G2   R1   \n",
              "\n",
              "   RenalDiseaseIndicator  ChronicCond_Alzheimer  ChronicCond_Heartfailure  \\\n",
              "0                      0                      1                         1   \n",
              "1                      1                      0                         1   \n",
              "2                      0                      1                         0   \n",
              "3                      0                      1                         1   \n",
              "4                      0                      0                         0   \n",
              "\n",
              "   ChronicCond_KidneyDisease  ChronicCond_Cancer  ChronicCond_ObstrPulmonary  \\\n",
              "0                          0                   1                           1   \n",
              "1                          0                   1                           1   \n",
              "2                          1                   1                           1   \n",
              "3                          0                   1                           1   \n",
              "4                          1                   1                           1   \n",
              "\n",
              "   ...    BID_No   CID_Yes    CID_No   Pvr_Yes    Pvr_No    Ap_Yes     Ap_No  \\\n",
              "0  ...  0.875000  0.090909  0.909091  0.000540  0.999460  0.003215  0.996785   \n",
              "1  ...  0.090909  0.909091  0.090909  0.999011  0.000989  0.952381  0.047619   \n",
              "2  ...  0.500000  0.909091  0.090909  0.999965  0.000035  0.941176  0.058824   \n",
              "3  ...  0.012346  0.909091  0.090909  0.999947  0.000053  0.997375  0.002625   \n",
              "4  ...  0.800000  0.909091  0.090909  0.999174  0.000826  0.998959  0.001041   \n",
              "\n",
              "         age  CADC_Yes   CADC_No  \n",
              "0  71.550685  0.361446  0.638554  \n",
              "1  73.383562  0.571667  0.428333  \n",
              "2  79.054795  0.365412  0.634588  \n",
              "3  53.284932  0.365412  0.634588  \n",
              "4  82.224658  0.520833  0.479167  \n",
              "\n",
              "[5 rows x 43 columns]"
            ],
            "text/html": [
              "\n",
              "  <div id=\"df-b2b178af-e005-4ae9-a3aa-18aad7fb770a\">\n",
              "    <div class=\"colab-df-container\">\n",
              "      <div>\n",
              "<style scoped>\n",
              "    .dataframe tbody tr th:only-of-type {\n",
              "        vertical-align: middle;\n",
              "    }\n",
              "\n",
              "    .dataframe tbody tr th {\n",
              "        vertical-align: top;\n",
              "    }\n",
              "\n",
              "    .dataframe thead th {\n",
              "        text-align: right;\n",
              "    }\n",
              "</style>\n",
              "<table border=\"1\" class=\"dataframe\">\n",
              "  <thead>\n",
              "    <tr style=\"text-align: right;\">\n",
              "      <th></th>\n",
              "      <th>InscClaimAmtReimbursed</th>\n",
              "      <th>DeductibleAmtPaid</th>\n",
              "      <th>Gender</th>\n",
              "      <th>Race</th>\n",
              "      <th>RenalDiseaseIndicator</th>\n",
              "      <th>ChronicCond_Alzheimer</th>\n",
              "      <th>ChronicCond_Heartfailure</th>\n",
              "      <th>ChronicCond_KidneyDisease</th>\n",
              "      <th>ChronicCond_Cancer</th>\n",
              "      <th>ChronicCond_ObstrPulmonary</th>\n",
              "      <th>...</th>\n",
              "      <th>BID_No</th>\n",
              "      <th>CID_Yes</th>\n",
              "      <th>CID_No</th>\n",
              "      <th>Pvr_Yes</th>\n",
              "      <th>Pvr_No</th>\n",
              "      <th>Ap_Yes</th>\n",
              "      <th>Ap_No</th>\n",
              "      <th>age</th>\n",
              "      <th>CADC_Yes</th>\n",
              "      <th>CADC_No</th>\n",
              "    </tr>\n",
              "  </thead>\n",
              "  <tbody>\n",
              "    <tr>\n",
              "      <th>0</th>\n",
              "      <td>90</td>\n",
              "      <td>0.0</td>\n",
              "      <td>G2</td>\n",
              "      <td>R1</td>\n",
              "      <td>0</td>\n",
              "      <td>1</td>\n",
              "      <td>1</td>\n",
              "      <td>0</td>\n",
              "      <td>1</td>\n",
              "      <td>1</td>\n",
              "      <td>...</td>\n",
              "      <td>0.875000</td>\n",
              "      <td>0.090909</td>\n",
              "      <td>0.909091</td>\n",
              "      <td>0.000540</td>\n",
              "      <td>0.999460</td>\n",
              "      <td>0.003215</td>\n",
              "      <td>0.996785</td>\n",
              "      <td>71.550685</td>\n",
              "      <td>0.361446</td>\n",
              "      <td>0.638554</td>\n",
              "    </tr>\n",
              "    <tr>\n",
              "      <th>1</th>\n",
              "      <td>5000</td>\n",
              "      <td>1068.0</td>\n",
              "      <td>G1</td>\n",
              "      <td>R1</td>\n",
              "      <td>1</td>\n",
              "      <td>0</td>\n",
              "      <td>1</td>\n",
              "      <td>0</td>\n",
              "      <td>1</td>\n",
              "      <td>1</td>\n",
              "      <td>...</td>\n",
              "      <td>0.090909</td>\n",
              "      <td>0.909091</td>\n",
              "      <td>0.090909</td>\n",
              "      <td>0.999011</td>\n",
              "      <td>0.000989</td>\n",
              "      <td>0.952381</td>\n",
              "      <td>0.047619</td>\n",
              "      <td>73.383562</td>\n",
              "      <td>0.571667</td>\n",
              "      <td>0.428333</td>\n",
              "    </tr>\n",
              "    <tr>\n",
              "      <th>2</th>\n",
              "      <td>400</td>\n",
              "      <td>0.0</td>\n",
              "      <td>G1</td>\n",
              "      <td>R1</td>\n",
              "      <td>0</td>\n",
              "      <td>1</td>\n",
              "      <td>0</td>\n",
              "      <td>1</td>\n",
              "      <td>1</td>\n",
              "      <td>1</td>\n",
              "      <td>...</td>\n",
              "      <td>0.500000</td>\n",
              "      <td>0.909091</td>\n",
              "      <td>0.090909</td>\n",
              "      <td>0.999965</td>\n",
              "      <td>0.000035</td>\n",
              "      <td>0.941176</td>\n",
              "      <td>0.058824</td>\n",
              "      <td>79.054795</td>\n",
              "      <td>0.365412</td>\n",
              "      <td>0.634588</td>\n",
              "    </tr>\n",
              "    <tr>\n",
              "      <th>3</th>\n",
              "      <td>30</td>\n",
              "      <td>0.0</td>\n",
              "      <td>G2</td>\n",
              "      <td>R2</td>\n",
              "      <td>0</td>\n",
              "      <td>1</td>\n",
              "      <td>1</td>\n",
              "      <td>0</td>\n",
              "      <td>1</td>\n",
              "      <td>1</td>\n",
              "      <td>...</td>\n",
              "      <td>0.012346</td>\n",
              "      <td>0.909091</td>\n",
              "      <td>0.090909</td>\n",
              "      <td>0.999947</td>\n",
              "      <td>0.000053</td>\n",
              "      <td>0.997375</td>\n",
              "      <td>0.002625</td>\n",
              "      <td>53.284932</td>\n",
              "      <td>0.365412</td>\n",
              "      <td>0.634588</td>\n",
              "    </tr>\n",
              "    <tr>\n",
              "      <th>4</th>\n",
              "      <td>2000</td>\n",
              "      <td>1068.0</td>\n",
              "      <td>G2</td>\n",
              "      <td>R1</td>\n",
              "      <td>0</td>\n",
              "      <td>0</td>\n",
              "      <td>0</td>\n",
              "      <td>1</td>\n",
              "      <td>1</td>\n",
              "      <td>1</td>\n",
              "      <td>...</td>\n",
              "      <td>0.800000</td>\n",
              "      <td>0.909091</td>\n",
              "      <td>0.090909</td>\n",
              "      <td>0.999174</td>\n",
              "      <td>0.000826</td>\n",
              "      <td>0.998959</td>\n",
              "      <td>0.001041</td>\n",
              "      <td>82.224658</td>\n",
              "      <td>0.520833</td>\n",
              "      <td>0.479167</td>\n",
              "    </tr>\n",
              "  </tbody>\n",
              "</table>\n",
              "<p>5 rows × 43 columns</p>\n",
              "</div>\n",
              "      <button class=\"colab-df-convert\" onclick=\"convertToInteractive('df-b2b178af-e005-4ae9-a3aa-18aad7fb770a')\"\n",
              "              title=\"Convert this dataframe to an interactive table.\"\n",
              "              style=\"display:none;\">\n",
              "        \n",
              "  <svg xmlns=\"http://www.w3.org/2000/svg\" height=\"24px\"viewBox=\"0 0 24 24\"\n",
              "       width=\"24px\">\n",
              "    <path d=\"M0 0h24v24H0V0z\" fill=\"none\"/>\n",
              "    <path d=\"M18.56 5.44l.94 2.06.94-2.06 2.06-.94-2.06-.94-.94-2.06-.94 2.06-2.06.94zm-11 1L8.5 8.5l.94-2.06 2.06-.94-2.06-.94L8.5 2.5l-.94 2.06-2.06.94zm10 10l.94 2.06.94-2.06 2.06-.94-2.06-.94-.94-2.06-.94 2.06-2.06.94z\"/><path d=\"M17.41 7.96l-1.37-1.37c-.4-.4-.92-.59-1.43-.59-.52 0-1.04.2-1.43.59L10.3 9.45l-7.72 7.72c-.78.78-.78 2.05 0 2.83L4 21.41c.39.39.9.59 1.41.59.51 0 1.02-.2 1.41-.59l7.78-7.78 2.81-2.81c.8-.78.8-2.07 0-2.86zM5.41 20L4 18.59l7.72-7.72 1.47 1.35L5.41 20z\"/>\n",
              "  </svg>\n",
              "      </button>\n",
              "      \n",
              "  <style>\n",
              "    .colab-df-container {\n",
              "      display:flex;\n",
              "      flex-wrap:wrap;\n",
              "      gap: 12px;\n",
              "    }\n",
              "\n",
              "    .colab-df-convert {\n",
              "      background-color: #E8F0FE;\n",
              "      border: none;\n",
              "      border-radius: 50%;\n",
              "      cursor: pointer;\n",
              "      display: none;\n",
              "      fill: #1967D2;\n",
              "      height: 32px;\n",
              "      padding: 0 0 0 0;\n",
              "      width: 32px;\n",
              "    }\n",
              "\n",
              "    .colab-df-convert:hover {\n",
              "      background-color: #E2EBFA;\n",
              "      box-shadow: 0px 1px 2px rgba(60, 64, 67, 0.3), 0px 1px 3px 1px rgba(60, 64, 67, 0.15);\n",
              "      fill: #174EA6;\n",
              "    }\n",
              "\n",
              "    [theme=dark] .colab-df-convert {\n",
              "      background-color: #3B4455;\n",
              "      fill: #D2E3FC;\n",
              "    }\n",
              "\n",
              "    [theme=dark] .colab-df-convert:hover {\n",
              "      background-color: #434B5C;\n",
              "      box-shadow: 0px 1px 3px 1px rgba(0, 0, 0, 0.15);\n",
              "      filter: drop-shadow(0px 1px 2px rgba(0, 0, 0, 0.3));\n",
              "      fill: #FFFFFF;\n",
              "    }\n",
              "  </style>\n",
              "\n",
              "      <script>\n",
              "        const buttonEl =\n",
              "          document.querySelector('#df-b2b178af-e005-4ae9-a3aa-18aad7fb770a button.colab-df-convert');\n",
              "        buttonEl.style.display =\n",
              "          google.colab.kernel.accessAllowed ? 'block' : 'none';\n",
              "\n",
              "        async function convertToInteractive(key) {\n",
              "          const element = document.querySelector('#df-b2b178af-e005-4ae9-a3aa-18aad7fb770a');\n",
              "          const dataTable =\n",
              "            await google.colab.kernel.invokeFunction('convertToInteractive',\n",
              "                                                     [key], {});\n",
              "          if (!dataTable) return;\n",
              "\n",
              "          const docLinkHtml = 'Like what you see? Visit the ' +\n",
              "            '<a target=\"_blank\" href=https://colab.research.google.com/notebooks/data_table.ipynb>data table notebook</a>'\n",
              "            + ' to learn more about interactive tables.';\n",
              "          element.innerHTML = '';\n",
              "          dataTable['output_type'] = 'display_data';\n",
              "          await google.colab.output.renderOutput(dataTable, element);\n",
              "          const docLink = document.createElement('div');\n",
              "          docLink.innerHTML = docLinkHtml;\n",
              "          element.appendChild(docLink);\n",
              "        }\n",
              "      </script>\n",
              "    </div>\n",
              "  </div>\n",
              "  "
            ]
          },
          "metadata": {},
          "execution_count": 112
        }
      ]
    },
    {
      "cell_type": "code",
      "source": [
        "cat_train= train_fin3.select_dtypes(include=['object']).copy()\n",
        "cat_train.drop(['PotentialFraud'],axis=1,inplace=True)\n",
        "cat_train.head()"
      ],
      "metadata": {
        "colab": {
          "base_uri": "https://localhost:8080/",
          "height": 206
        },
        "id": "QULGRBdZRo91",
        "outputId": "b027e4a7-5567-4986-e6ac-dc64ff534489"
      },
      "execution_count": 113,
      "outputs": [
        {
          "output_type": "execute_result",
          "data": {
            "text/plain": [
              "  Gender Race IllnessNature\n",
              "0     G2   R1     operating\n",
              "1     G1   R1        simple\n",
              "2     G1   R1        simple\n",
              "3     G2   R2     operating\n",
              "4     G2   R1      comorbid"
            ],
            "text/html": [
              "\n",
              "  <div id=\"df-d0c8aff8-c41a-48e1-8b60-f8c5fe47f79b\">\n",
              "    <div class=\"colab-df-container\">\n",
              "      <div>\n",
              "<style scoped>\n",
              "    .dataframe tbody tr th:only-of-type {\n",
              "        vertical-align: middle;\n",
              "    }\n",
              "\n",
              "    .dataframe tbody tr th {\n",
              "        vertical-align: top;\n",
              "    }\n",
              "\n",
              "    .dataframe thead th {\n",
              "        text-align: right;\n",
              "    }\n",
              "</style>\n",
              "<table border=\"1\" class=\"dataframe\">\n",
              "  <thead>\n",
              "    <tr style=\"text-align: right;\">\n",
              "      <th></th>\n",
              "      <th>Gender</th>\n",
              "      <th>Race</th>\n",
              "      <th>IllnessNature</th>\n",
              "    </tr>\n",
              "  </thead>\n",
              "  <tbody>\n",
              "    <tr>\n",
              "      <th>0</th>\n",
              "      <td>G2</td>\n",
              "      <td>R1</td>\n",
              "      <td>operating</td>\n",
              "    </tr>\n",
              "    <tr>\n",
              "      <th>1</th>\n",
              "      <td>G1</td>\n",
              "      <td>R1</td>\n",
              "      <td>simple</td>\n",
              "    </tr>\n",
              "    <tr>\n",
              "      <th>2</th>\n",
              "      <td>G1</td>\n",
              "      <td>R1</td>\n",
              "      <td>simple</td>\n",
              "    </tr>\n",
              "    <tr>\n",
              "      <th>3</th>\n",
              "      <td>G2</td>\n",
              "      <td>R2</td>\n",
              "      <td>operating</td>\n",
              "    </tr>\n",
              "    <tr>\n",
              "      <th>4</th>\n",
              "      <td>G2</td>\n",
              "      <td>R1</td>\n",
              "      <td>comorbid</td>\n",
              "    </tr>\n",
              "  </tbody>\n",
              "</table>\n",
              "</div>\n",
              "      <button class=\"colab-df-convert\" onclick=\"convertToInteractive('df-d0c8aff8-c41a-48e1-8b60-f8c5fe47f79b')\"\n",
              "              title=\"Convert this dataframe to an interactive table.\"\n",
              "              style=\"display:none;\">\n",
              "        \n",
              "  <svg xmlns=\"http://www.w3.org/2000/svg\" height=\"24px\"viewBox=\"0 0 24 24\"\n",
              "       width=\"24px\">\n",
              "    <path d=\"M0 0h24v24H0V0z\" fill=\"none\"/>\n",
              "    <path d=\"M18.56 5.44l.94 2.06.94-2.06 2.06-.94-2.06-.94-.94-2.06-.94 2.06-2.06.94zm-11 1L8.5 8.5l.94-2.06 2.06-.94-2.06-.94L8.5 2.5l-.94 2.06-2.06.94zm10 10l.94 2.06.94-2.06 2.06-.94-2.06-.94-.94-2.06-.94 2.06-2.06.94z\"/><path d=\"M17.41 7.96l-1.37-1.37c-.4-.4-.92-.59-1.43-.59-.52 0-1.04.2-1.43.59L10.3 9.45l-7.72 7.72c-.78.78-.78 2.05 0 2.83L4 21.41c.39.39.9.59 1.41.59.51 0 1.02-.2 1.41-.59l7.78-7.78 2.81-2.81c.8-.78.8-2.07 0-2.86zM5.41 20L4 18.59l7.72-7.72 1.47 1.35L5.41 20z\"/>\n",
              "  </svg>\n",
              "      </button>\n",
              "      \n",
              "  <style>\n",
              "    .colab-df-container {\n",
              "      display:flex;\n",
              "      flex-wrap:wrap;\n",
              "      gap: 12px;\n",
              "    }\n",
              "\n",
              "    .colab-df-convert {\n",
              "      background-color: #E8F0FE;\n",
              "      border: none;\n",
              "      border-radius: 50%;\n",
              "      cursor: pointer;\n",
              "      display: none;\n",
              "      fill: #1967D2;\n",
              "      height: 32px;\n",
              "      padding: 0 0 0 0;\n",
              "      width: 32px;\n",
              "    }\n",
              "\n",
              "    .colab-df-convert:hover {\n",
              "      background-color: #E2EBFA;\n",
              "      box-shadow: 0px 1px 2px rgba(60, 64, 67, 0.3), 0px 1px 3px 1px rgba(60, 64, 67, 0.15);\n",
              "      fill: #174EA6;\n",
              "    }\n",
              "\n",
              "    [theme=dark] .colab-df-convert {\n",
              "      background-color: #3B4455;\n",
              "      fill: #D2E3FC;\n",
              "    }\n",
              "\n",
              "    [theme=dark] .colab-df-convert:hover {\n",
              "      background-color: #434B5C;\n",
              "      box-shadow: 0px 1px 3px 1px rgba(0, 0, 0, 0.15);\n",
              "      filter: drop-shadow(0px 1px 2px rgba(0, 0, 0, 0.3));\n",
              "      fill: #FFFFFF;\n",
              "    }\n",
              "  </style>\n",
              "\n",
              "      <script>\n",
              "        const buttonEl =\n",
              "          document.querySelector('#df-d0c8aff8-c41a-48e1-8b60-f8c5fe47f79b button.colab-df-convert');\n",
              "        buttonEl.style.display =\n",
              "          google.colab.kernel.accessAllowed ? 'block' : 'none';\n",
              "\n",
              "        async function convertToInteractive(key) {\n",
              "          const element = document.querySelector('#df-d0c8aff8-c41a-48e1-8b60-f8c5fe47f79b');\n",
              "          const dataTable =\n",
              "            await google.colab.kernel.invokeFunction('convertToInteractive',\n",
              "                                                     [key], {});\n",
              "          if (!dataTable) return;\n",
              "\n",
              "          const docLinkHtml = 'Like what you see? Visit the ' +\n",
              "            '<a target=\"_blank\" href=https://colab.research.google.com/notebooks/data_table.ipynb>data table notebook</a>'\n",
              "            + ' to learn more about interactive tables.';\n",
              "          element.innerHTML = '';\n",
              "          dataTable['output_type'] = 'display_data';\n",
              "          await google.colab.output.renderOutput(dataTable, element);\n",
              "          const docLink = document.createElement('div');\n",
              "          docLink.innerHTML = docLinkHtml;\n",
              "          element.appendChild(docLink);\n",
              "        }\n",
              "      </script>\n",
              "    </div>\n",
              "  </div>\n",
              "  "
            ]
          },
          "metadata": {},
          "execution_count": 113
        }
      ]
    },
    {
      "cell_type": "code",
      "source": [
        "train_fin3.head()"
      ],
      "metadata": {
        "colab": {
          "base_uri": "https://localhost:8080/",
          "height": 300
        },
        "id": "zWOvTJVhRp3n",
        "outputId": "adbf1a8e-0b72-4035-c14f-f904f0259e93"
      },
      "execution_count": 109,
      "outputs": [
        {
          "output_type": "execute_result",
          "data": {
            "text/plain": [
              "   InscClaimAmtReimbursed  DeductibleAmtPaid Gender Race  \\\n",
              "0                      90                0.0     G2   R1   \n",
              "1                    5000             1068.0     G1   R1   \n",
              "2                     400                0.0     G1   R1   \n",
              "3                      30                0.0     G2   R2   \n",
              "4                    2000             1068.0     G2   R1   \n",
              "\n",
              "   RenalDiseaseIndicator  ChronicCond_Alzheimer  ChronicCond_Heartfailure  \\\n",
              "0                      0                      1                         1   \n",
              "1                      1                      0                         1   \n",
              "2                      0                      1                         0   \n",
              "3                      0                      1                         1   \n",
              "4                      0                      0                         0   \n",
              "\n",
              "   ChronicCond_KidneyDisease  ChronicCond_Cancer  ChronicCond_ObstrPulmonary  \\\n",
              "0                          0                   1                           1   \n",
              "1                          0                   1                           1   \n",
              "2                          1                   1                           1   \n",
              "3                          0                   1                           1   \n",
              "4                          1                   1                           1   \n",
              "\n",
              "   ...   CID_Yes    CID_No   Pvr_Yes    Pvr_No    Ap_Yes     Ap_No        age  \\\n",
              "0  ...  0.090909  0.909091  0.000540  0.999460  0.003215  0.996785  71.550685   \n",
              "1  ...  0.909091  0.090909  0.999011  0.000989  0.952381  0.047619  73.383562   \n",
              "2  ...  0.909091  0.090909  0.999965  0.000035  0.941176  0.058824  79.054795   \n",
              "3  ...  0.909091  0.090909  0.999947  0.000053  0.997375  0.002625  53.284932   \n",
              "4  ...  0.909091  0.090909  0.999174  0.000826  0.998959  0.001041  82.224658   \n",
              "\n",
              "   CADC_Yes   CADC_No  age_bins  \n",
              "0  0.361446  0.638554       60+  \n",
              "1  0.571667  0.428333       60+  \n",
              "2  0.365412  0.634588       60+  \n",
              "3  0.365412  0.634588       50s  \n",
              "4  0.520833  0.479167       80+  \n",
              "\n",
              "[5 rows x 44 columns]"
            ],
            "text/html": [
              "\n",
              "  <div id=\"df-90e05033-2aee-4638-9700-2a14a0cf6856\">\n",
              "    <div class=\"colab-df-container\">\n",
              "      <div>\n",
              "<style scoped>\n",
              "    .dataframe tbody tr th:only-of-type {\n",
              "        vertical-align: middle;\n",
              "    }\n",
              "\n",
              "    .dataframe tbody tr th {\n",
              "        vertical-align: top;\n",
              "    }\n",
              "\n",
              "    .dataframe thead th {\n",
              "        text-align: right;\n",
              "    }\n",
              "</style>\n",
              "<table border=\"1\" class=\"dataframe\">\n",
              "  <thead>\n",
              "    <tr style=\"text-align: right;\">\n",
              "      <th></th>\n",
              "      <th>InscClaimAmtReimbursed</th>\n",
              "      <th>DeductibleAmtPaid</th>\n",
              "      <th>Gender</th>\n",
              "      <th>Race</th>\n",
              "      <th>RenalDiseaseIndicator</th>\n",
              "      <th>ChronicCond_Alzheimer</th>\n",
              "      <th>ChronicCond_Heartfailure</th>\n",
              "      <th>ChronicCond_KidneyDisease</th>\n",
              "      <th>ChronicCond_Cancer</th>\n",
              "      <th>ChronicCond_ObstrPulmonary</th>\n",
              "      <th>...</th>\n",
              "      <th>CID_Yes</th>\n",
              "      <th>CID_No</th>\n",
              "      <th>Pvr_Yes</th>\n",
              "      <th>Pvr_No</th>\n",
              "      <th>Ap_Yes</th>\n",
              "      <th>Ap_No</th>\n",
              "      <th>age</th>\n",
              "      <th>CADC_Yes</th>\n",
              "      <th>CADC_No</th>\n",
              "      <th>age_bins</th>\n",
              "    </tr>\n",
              "  </thead>\n",
              "  <tbody>\n",
              "    <tr>\n",
              "      <th>0</th>\n",
              "      <td>90</td>\n",
              "      <td>0.0</td>\n",
              "      <td>G2</td>\n",
              "      <td>R1</td>\n",
              "      <td>0</td>\n",
              "      <td>1</td>\n",
              "      <td>1</td>\n",
              "      <td>0</td>\n",
              "      <td>1</td>\n",
              "      <td>1</td>\n",
              "      <td>...</td>\n",
              "      <td>0.090909</td>\n",
              "      <td>0.909091</td>\n",
              "      <td>0.000540</td>\n",
              "      <td>0.999460</td>\n",
              "      <td>0.003215</td>\n",
              "      <td>0.996785</td>\n",
              "      <td>71.550685</td>\n",
              "      <td>0.361446</td>\n",
              "      <td>0.638554</td>\n",
              "      <td>60+</td>\n",
              "    </tr>\n",
              "    <tr>\n",
              "      <th>1</th>\n",
              "      <td>5000</td>\n",
              "      <td>1068.0</td>\n",
              "      <td>G1</td>\n",
              "      <td>R1</td>\n",
              "      <td>1</td>\n",
              "      <td>0</td>\n",
              "      <td>1</td>\n",
              "      <td>0</td>\n",
              "      <td>1</td>\n",
              "      <td>1</td>\n",
              "      <td>...</td>\n",
              "      <td>0.909091</td>\n",
              "      <td>0.090909</td>\n",
              "      <td>0.999011</td>\n",
              "      <td>0.000989</td>\n",
              "      <td>0.952381</td>\n",
              "      <td>0.047619</td>\n",
              "      <td>73.383562</td>\n",
              "      <td>0.571667</td>\n",
              "      <td>0.428333</td>\n",
              "      <td>60+</td>\n",
              "    </tr>\n",
              "    <tr>\n",
              "      <th>2</th>\n",
              "      <td>400</td>\n",
              "      <td>0.0</td>\n",
              "      <td>G1</td>\n",
              "      <td>R1</td>\n",
              "      <td>0</td>\n",
              "      <td>1</td>\n",
              "      <td>0</td>\n",
              "      <td>1</td>\n",
              "      <td>1</td>\n",
              "      <td>1</td>\n",
              "      <td>...</td>\n",
              "      <td>0.909091</td>\n",
              "      <td>0.090909</td>\n",
              "      <td>0.999965</td>\n",
              "      <td>0.000035</td>\n",
              "      <td>0.941176</td>\n",
              "      <td>0.058824</td>\n",
              "      <td>79.054795</td>\n",
              "      <td>0.365412</td>\n",
              "      <td>0.634588</td>\n",
              "      <td>60+</td>\n",
              "    </tr>\n",
              "    <tr>\n",
              "      <th>3</th>\n",
              "      <td>30</td>\n",
              "      <td>0.0</td>\n",
              "      <td>G2</td>\n",
              "      <td>R2</td>\n",
              "      <td>0</td>\n",
              "      <td>1</td>\n",
              "      <td>1</td>\n",
              "      <td>0</td>\n",
              "      <td>1</td>\n",
              "      <td>1</td>\n",
              "      <td>...</td>\n",
              "      <td>0.909091</td>\n",
              "      <td>0.090909</td>\n",
              "      <td>0.999947</td>\n",
              "      <td>0.000053</td>\n",
              "      <td>0.997375</td>\n",
              "      <td>0.002625</td>\n",
              "      <td>53.284932</td>\n",
              "      <td>0.365412</td>\n",
              "      <td>0.634588</td>\n",
              "      <td>50s</td>\n",
              "    </tr>\n",
              "    <tr>\n",
              "      <th>4</th>\n",
              "      <td>2000</td>\n",
              "      <td>1068.0</td>\n",
              "      <td>G2</td>\n",
              "      <td>R1</td>\n",
              "      <td>0</td>\n",
              "      <td>0</td>\n",
              "      <td>0</td>\n",
              "      <td>1</td>\n",
              "      <td>1</td>\n",
              "      <td>1</td>\n",
              "      <td>...</td>\n",
              "      <td>0.909091</td>\n",
              "      <td>0.090909</td>\n",
              "      <td>0.999174</td>\n",
              "      <td>0.000826</td>\n",
              "      <td>0.998959</td>\n",
              "      <td>0.001041</td>\n",
              "      <td>82.224658</td>\n",
              "      <td>0.520833</td>\n",
              "      <td>0.479167</td>\n",
              "      <td>80+</td>\n",
              "    </tr>\n",
              "  </tbody>\n",
              "</table>\n",
              "<p>5 rows × 44 columns</p>\n",
              "</div>\n",
              "      <button class=\"colab-df-convert\" onclick=\"convertToInteractive('df-90e05033-2aee-4638-9700-2a14a0cf6856')\"\n",
              "              title=\"Convert this dataframe to an interactive table.\"\n",
              "              style=\"display:none;\">\n",
              "        \n",
              "  <svg xmlns=\"http://www.w3.org/2000/svg\" height=\"24px\"viewBox=\"0 0 24 24\"\n",
              "       width=\"24px\">\n",
              "    <path d=\"M0 0h24v24H0V0z\" fill=\"none\"/>\n",
              "    <path d=\"M18.56 5.44l.94 2.06.94-2.06 2.06-.94-2.06-.94-.94-2.06-.94 2.06-2.06.94zm-11 1L8.5 8.5l.94-2.06 2.06-.94-2.06-.94L8.5 2.5l-.94 2.06-2.06.94zm10 10l.94 2.06.94-2.06 2.06-.94-2.06-.94-.94-2.06-.94 2.06-2.06.94z\"/><path d=\"M17.41 7.96l-1.37-1.37c-.4-.4-.92-.59-1.43-.59-.52 0-1.04.2-1.43.59L10.3 9.45l-7.72 7.72c-.78.78-.78 2.05 0 2.83L4 21.41c.39.39.9.59 1.41.59.51 0 1.02-.2 1.41-.59l7.78-7.78 2.81-2.81c.8-.78.8-2.07 0-2.86zM5.41 20L4 18.59l7.72-7.72 1.47 1.35L5.41 20z\"/>\n",
              "  </svg>\n",
              "      </button>\n",
              "      \n",
              "  <style>\n",
              "    .colab-df-container {\n",
              "      display:flex;\n",
              "      flex-wrap:wrap;\n",
              "      gap: 12px;\n",
              "    }\n",
              "\n",
              "    .colab-df-convert {\n",
              "      background-color: #E8F0FE;\n",
              "      border: none;\n",
              "      border-radius: 50%;\n",
              "      cursor: pointer;\n",
              "      display: none;\n",
              "      fill: #1967D2;\n",
              "      height: 32px;\n",
              "      padding: 0 0 0 0;\n",
              "      width: 32px;\n",
              "    }\n",
              "\n",
              "    .colab-df-convert:hover {\n",
              "      background-color: #E2EBFA;\n",
              "      box-shadow: 0px 1px 2px rgba(60, 64, 67, 0.3), 0px 1px 3px 1px rgba(60, 64, 67, 0.15);\n",
              "      fill: #174EA6;\n",
              "    }\n",
              "\n",
              "    [theme=dark] .colab-df-convert {\n",
              "      background-color: #3B4455;\n",
              "      fill: #D2E3FC;\n",
              "    }\n",
              "\n",
              "    [theme=dark] .colab-df-convert:hover {\n",
              "      background-color: #434B5C;\n",
              "      box-shadow: 0px 1px 3px 1px rgba(0, 0, 0, 0.15);\n",
              "      filter: drop-shadow(0px 1px 2px rgba(0, 0, 0, 0.3));\n",
              "      fill: #FFFFFF;\n",
              "    }\n",
              "  </style>\n",
              "\n",
              "      <script>\n",
              "        const buttonEl =\n",
              "          document.querySelector('#df-90e05033-2aee-4638-9700-2a14a0cf6856 button.colab-df-convert');\n",
              "        buttonEl.style.display =\n",
              "          google.colab.kernel.accessAllowed ? 'block' : 'none';\n",
              "\n",
              "        async function convertToInteractive(key) {\n",
              "          const element = document.querySelector('#df-90e05033-2aee-4638-9700-2a14a0cf6856');\n",
              "          const dataTable =\n",
              "            await google.colab.kernel.invokeFunction('convertToInteractive',\n",
              "                                                     [key], {});\n",
              "          if (!dataTable) return;\n",
              "\n",
              "          const docLinkHtml = 'Like what you see? Visit the ' +\n",
              "            '<a target=\"_blank\" href=https://colab.research.google.com/notebooks/data_table.ipynb>data table notebook</a>'\n",
              "            + ' to learn more about interactive tables.';\n",
              "          element.innerHTML = '';\n",
              "          dataTable['output_type'] = 'display_data';\n",
              "          await google.colab.output.renderOutput(dataTable, element);\n",
              "          const docLink = document.createElement('div');\n",
              "          docLink.innerHTML = docLinkHtml;\n",
              "          element.appendChild(docLink);\n",
              "        }\n",
              "      </script>\n",
              "    </div>\n",
              "  </div>\n",
              "  "
            ]
          },
          "metadata": {},
          "execution_count": 109
        }
      ]
    },
    {
      "cell_type": "code",
      "source": [
        "train_fin3.drop(['PotentialFraud'],axis=1, inplace=True)\n",
        "cv_fin3.drop(['PotentialFraud'],axis=1,inplace=True)"
      ],
      "metadata": {
        "id": "UYTHHQztS7m1"
      },
      "execution_count": 114,
      "outputs": []
    },
    {
      "cell_type": "code",
      "source": [
        "with open('/content/drive/MyDrive/Colab Notebooks/train_fin_n4.pkl','wb') as tr_df:\n",
        "    pickle.dump(train_fin3,tr_df)\n",
        "with open('/content/drive/MyDrive/Colab Notebooks/cv_fin_n4.pkl','wb') as cv_df:\n",
        "    pickle.dump(cv_fin3,cv_df)"
      ],
      "metadata": {
        "id": "SJ_3B0YFTAQt"
      },
      "execution_count": 115,
      "outputs": []
    },
    {
      "cell_type": "code",
      "source": [
        "with open('/content/drive/MyDrive/Colab Notebooks/train_fin_n4.pkl','rb') as tr_df:\n",
        "    train_fin4= pickle.load(tr_df)\n",
        "with open('/content/drive/MyDrive/Colab Notebooks/cv_fin_n4.pkl','rb') as cv_df:\n",
        "    cv_fin4= pickle.load(cv_df)"
      ],
      "metadata": {
        "id": "mU7vOJKDTDte"
      },
      "execution_count": 116,
      "outputs": []
    },
    {
      "cell_type": "code",
      "source": [
        "train_fin4.head()"
      ],
      "metadata": {
        "colab": {
          "base_uri": "https://localhost:8080/",
          "height": 300
        },
        "id": "I9rUhuLATIua",
        "outputId": "ed456ca4-4fcc-47ea-c097-d46b45e13bdc"
      },
      "execution_count": 117,
      "outputs": [
        {
          "output_type": "execute_result",
          "data": {
            "text/plain": [
              "   InscClaimAmtReimbursed  DeductibleAmtPaid Gender Race  \\\n",
              "0                      90                0.0     G2   R1   \n",
              "1                    5000             1068.0     G1   R1   \n",
              "2                     400                0.0     G1   R1   \n",
              "3                      30                0.0     G2   R2   \n",
              "4                    2000             1068.0     G2   R1   \n",
              "\n",
              "   RenalDiseaseIndicator  ChronicCond_Alzheimer  ChronicCond_Heartfailure  \\\n",
              "0                      0                      1                         1   \n",
              "1                      1                      0                         1   \n",
              "2                      0                      1                         0   \n",
              "3                      0                      1                         1   \n",
              "4                      0                      0                         0   \n",
              "\n",
              "   ChronicCond_KidneyDisease  ChronicCond_Cancer  ChronicCond_ObstrPulmonary  \\\n",
              "0                          0                   1                           1   \n",
              "1                          0                   1                           1   \n",
              "2                          1                   1                           1   \n",
              "3                          0                   1                           1   \n",
              "4                          1                   1                           1   \n",
              "\n",
              "   ...    BID_No   CID_Yes    CID_No   Pvr_Yes    Pvr_No    Ap_Yes     Ap_No  \\\n",
              "0  ...  0.875000  0.090909  0.909091  0.000540  0.999460  0.003215  0.996785   \n",
              "1  ...  0.090909  0.909091  0.090909  0.999011  0.000989  0.952381  0.047619   \n",
              "2  ...  0.500000  0.909091  0.090909  0.999965  0.000035  0.941176  0.058824   \n",
              "3  ...  0.012346  0.909091  0.090909  0.999947  0.000053  0.997375  0.002625   \n",
              "4  ...  0.800000  0.909091  0.090909  0.999174  0.000826  0.998959  0.001041   \n",
              "\n",
              "         age  CADC_Yes   CADC_No  \n",
              "0  71.550685  0.361446  0.638554  \n",
              "1  73.383562  0.571667  0.428333  \n",
              "2  79.054795  0.365412  0.634588  \n",
              "3  53.284932  0.365412  0.634588  \n",
              "4  82.224658  0.520833  0.479167  \n",
              "\n",
              "[5 rows x 42 columns]"
            ],
            "text/html": [
              "\n",
              "  <div id=\"df-13c46175-118c-49f7-a77c-b48e5943aad6\">\n",
              "    <div class=\"colab-df-container\">\n",
              "      <div>\n",
              "<style scoped>\n",
              "    .dataframe tbody tr th:only-of-type {\n",
              "        vertical-align: middle;\n",
              "    }\n",
              "\n",
              "    .dataframe tbody tr th {\n",
              "        vertical-align: top;\n",
              "    }\n",
              "\n",
              "    .dataframe thead th {\n",
              "        text-align: right;\n",
              "    }\n",
              "</style>\n",
              "<table border=\"1\" class=\"dataframe\">\n",
              "  <thead>\n",
              "    <tr style=\"text-align: right;\">\n",
              "      <th></th>\n",
              "      <th>InscClaimAmtReimbursed</th>\n",
              "      <th>DeductibleAmtPaid</th>\n",
              "      <th>Gender</th>\n",
              "      <th>Race</th>\n",
              "      <th>RenalDiseaseIndicator</th>\n",
              "      <th>ChronicCond_Alzheimer</th>\n",
              "      <th>ChronicCond_Heartfailure</th>\n",
              "      <th>ChronicCond_KidneyDisease</th>\n",
              "      <th>ChronicCond_Cancer</th>\n",
              "      <th>ChronicCond_ObstrPulmonary</th>\n",
              "      <th>...</th>\n",
              "      <th>BID_No</th>\n",
              "      <th>CID_Yes</th>\n",
              "      <th>CID_No</th>\n",
              "      <th>Pvr_Yes</th>\n",
              "      <th>Pvr_No</th>\n",
              "      <th>Ap_Yes</th>\n",
              "      <th>Ap_No</th>\n",
              "      <th>age</th>\n",
              "      <th>CADC_Yes</th>\n",
              "      <th>CADC_No</th>\n",
              "    </tr>\n",
              "  </thead>\n",
              "  <tbody>\n",
              "    <tr>\n",
              "      <th>0</th>\n",
              "      <td>90</td>\n",
              "      <td>0.0</td>\n",
              "      <td>G2</td>\n",
              "      <td>R1</td>\n",
              "      <td>0</td>\n",
              "      <td>1</td>\n",
              "      <td>1</td>\n",
              "      <td>0</td>\n",
              "      <td>1</td>\n",
              "      <td>1</td>\n",
              "      <td>...</td>\n",
              "      <td>0.875000</td>\n",
              "      <td>0.090909</td>\n",
              "      <td>0.909091</td>\n",
              "      <td>0.000540</td>\n",
              "      <td>0.999460</td>\n",
              "      <td>0.003215</td>\n",
              "      <td>0.996785</td>\n",
              "      <td>71.550685</td>\n",
              "      <td>0.361446</td>\n",
              "      <td>0.638554</td>\n",
              "    </tr>\n",
              "    <tr>\n",
              "      <th>1</th>\n",
              "      <td>5000</td>\n",
              "      <td>1068.0</td>\n",
              "      <td>G1</td>\n",
              "      <td>R1</td>\n",
              "      <td>1</td>\n",
              "      <td>0</td>\n",
              "      <td>1</td>\n",
              "      <td>0</td>\n",
              "      <td>1</td>\n",
              "      <td>1</td>\n",
              "      <td>...</td>\n",
              "      <td>0.090909</td>\n",
              "      <td>0.909091</td>\n",
              "      <td>0.090909</td>\n",
              "      <td>0.999011</td>\n",
              "      <td>0.000989</td>\n",
              "      <td>0.952381</td>\n",
              "      <td>0.047619</td>\n",
              "      <td>73.383562</td>\n",
              "      <td>0.571667</td>\n",
              "      <td>0.428333</td>\n",
              "    </tr>\n",
              "    <tr>\n",
              "      <th>2</th>\n",
              "      <td>400</td>\n",
              "      <td>0.0</td>\n",
              "      <td>G1</td>\n",
              "      <td>R1</td>\n",
              "      <td>0</td>\n",
              "      <td>1</td>\n",
              "      <td>0</td>\n",
              "      <td>1</td>\n",
              "      <td>1</td>\n",
              "      <td>1</td>\n",
              "      <td>...</td>\n",
              "      <td>0.500000</td>\n",
              "      <td>0.909091</td>\n",
              "      <td>0.090909</td>\n",
              "      <td>0.999965</td>\n",
              "      <td>0.000035</td>\n",
              "      <td>0.941176</td>\n",
              "      <td>0.058824</td>\n",
              "      <td>79.054795</td>\n",
              "      <td>0.365412</td>\n",
              "      <td>0.634588</td>\n",
              "    </tr>\n",
              "    <tr>\n",
              "      <th>3</th>\n",
              "      <td>30</td>\n",
              "      <td>0.0</td>\n",
              "      <td>G2</td>\n",
              "      <td>R2</td>\n",
              "      <td>0</td>\n",
              "      <td>1</td>\n",
              "      <td>1</td>\n",
              "      <td>0</td>\n",
              "      <td>1</td>\n",
              "      <td>1</td>\n",
              "      <td>...</td>\n",
              "      <td>0.012346</td>\n",
              "      <td>0.909091</td>\n",
              "      <td>0.090909</td>\n",
              "      <td>0.999947</td>\n",
              "      <td>0.000053</td>\n",
              "      <td>0.997375</td>\n",
              "      <td>0.002625</td>\n",
              "      <td>53.284932</td>\n",
              "      <td>0.365412</td>\n",
              "      <td>0.634588</td>\n",
              "    </tr>\n",
              "    <tr>\n",
              "      <th>4</th>\n",
              "      <td>2000</td>\n",
              "      <td>1068.0</td>\n",
              "      <td>G2</td>\n",
              "      <td>R1</td>\n",
              "      <td>0</td>\n",
              "      <td>0</td>\n",
              "      <td>0</td>\n",
              "      <td>1</td>\n",
              "      <td>1</td>\n",
              "      <td>1</td>\n",
              "      <td>...</td>\n",
              "      <td>0.800000</td>\n",
              "      <td>0.909091</td>\n",
              "      <td>0.090909</td>\n",
              "      <td>0.999174</td>\n",
              "      <td>0.000826</td>\n",
              "      <td>0.998959</td>\n",
              "      <td>0.001041</td>\n",
              "      <td>82.224658</td>\n",
              "      <td>0.520833</td>\n",
              "      <td>0.479167</td>\n",
              "    </tr>\n",
              "  </tbody>\n",
              "</table>\n",
              "<p>5 rows × 42 columns</p>\n",
              "</div>\n",
              "      <button class=\"colab-df-convert\" onclick=\"convertToInteractive('df-13c46175-118c-49f7-a77c-b48e5943aad6')\"\n",
              "              title=\"Convert this dataframe to an interactive table.\"\n",
              "              style=\"display:none;\">\n",
              "        \n",
              "  <svg xmlns=\"http://www.w3.org/2000/svg\" height=\"24px\"viewBox=\"0 0 24 24\"\n",
              "       width=\"24px\">\n",
              "    <path d=\"M0 0h24v24H0V0z\" fill=\"none\"/>\n",
              "    <path d=\"M18.56 5.44l.94 2.06.94-2.06 2.06-.94-2.06-.94-.94-2.06-.94 2.06-2.06.94zm-11 1L8.5 8.5l.94-2.06 2.06-.94-2.06-.94L8.5 2.5l-.94 2.06-2.06.94zm10 10l.94 2.06.94-2.06 2.06-.94-2.06-.94-.94-2.06-.94 2.06-2.06.94z\"/><path d=\"M17.41 7.96l-1.37-1.37c-.4-.4-.92-.59-1.43-.59-.52 0-1.04.2-1.43.59L10.3 9.45l-7.72 7.72c-.78.78-.78 2.05 0 2.83L4 21.41c.39.39.9.59 1.41.59.51 0 1.02-.2 1.41-.59l7.78-7.78 2.81-2.81c.8-.78.8-2.07 0-2.86zM5.41 20L4 18.59l7.72-7.72 1.47 1.35L5.41 20z\"/>\n",
              "  </svg>\n",
              "      </button>\n",
              "      \n",
              "  <style>\n",
              "    .colab-df-container {\n",
              "      display:flex;\n",
              "      flex-wrap:wrap;\n",
              "      gap: 12px;\n",
              "    }\n",
              "\n",
              "    .colab-df-convert {\n",
              "      background-color: #E8F0FE;\n",
              "      border: none;\n",
              "      border-radius: 50%;\n",
              "      cursor: pointer;\n",
              "      display: none;\n",
              "      fill: #1967D2;\n",
              "      height: 32px;\n",
              "      padding: 0 0 0 0;\n",
              "      width: 32px;\n",
              "    }\n",
              "\n",
              "    .colab-df-convert:hover {\n",
              "      background-color: #E2EBFA;\n",
              "      box-shadow: 0px 1px 2px rgba(60, 64, 67, 0.3), 0px 1px 3px 1px rgba(60, 64, 67, 0.15);\n",
              "      fill: #174EA6;\n",
              "    }\n",
              "\n",
              "    [theme=dark] .colab-df-convert {\n",
              "      background-color: #3B4455;\n",
              "      fill: #D2E3FC;\n",
              "    }\n",
              "\n",
              "    [theme=dark] .colab-df-convert:hover {\n",
              "      background-color: #434B5C;\n",
              "      box-shadow: 0px 1px 3px 1px rgba(0, 0, 0, 0.15);\n",
              "      filter: drop-shadow(0px 1px 2px rgba(0, 0, 0, 0.3));\n",
              "      fill: #FFFFFF;\n",
              "    }\n",
              "  </style>\n",
              "\n",
              "      <script>\n",
              "        const buttonEl =\n",
              "          document.querySelector('#df-13c46175-118c-49f7-a77c-b48e5943aad6 button.colab-df-convert');\n",
              "        buttonEl.style.display =\n",
              "          google.colab.kernel.accessAllowed ? 'block' : 'none';\n",
              "\n",
              "        async function convertToInteractive(key) {\n",
              "          const element = document.querySelector('#df-13c46175-118c-49f7-a77c-b48e5943aad6');\n",
              "          const dataTable =\n",
              "            await google.colab.kernel.invokeFunction('convertToInteractive',\n",
              "                                                     [key], {});\n",
              "          if (!dataTable) return;\n",
              "\n",
              "          const docLinkHtml = 'Like what you see? Visit the ' +\n",
              "            '<a target=\"_blank\" href=https://colab.research.google.com/notebooks/data_table.ipynb>data table notebook</a>'\n",
              "            + ' to learn more about interactive tables.';\n",
              "          element.innerHTML = '';\n",
              "          dataTable['output_type'] = 'display_data';\n",
              "          await google.colab.output.renderOutput(dataTable, element);\n",
              "          const docLink = document.createElement('div');\n",
              "          docLink.innerHTML = docLinkHtml;\n",
              "          element.appendChild(docLink);\n",
              "        }\n",
              "      </script>\n",
              "    </div>\n",
              "  </div>\n",
              "  "
            ]
          },
          "metadata": {},
          "execution_count": 117
        }
      ]
    },
    {
      "cell_type": "code",
      "source": [
        "#Creat Dummies for the Gender, Race and the IllnessNature Variables in the Train Dataset\n",
        "gender_dummies= pd.get_dummies(train_fin4['Gender'])\n",
        "train_fin4= train_fin4.join(gender_dummies)"
      ],
      "metadata": {
        "id": "CvKFtXyQTQyE"
      },
      "execution_count": 118,
      "outputs": []
    },
    {
      "cell_type": "code",
      "source": [
        "race_dummies= pd.get_dummies(train_fin4['Race'])\n",
        "train_fin4= train_fin4.join(race_dummies)"
      ],
      "metadata": {
        "id": "VhNdjGutTdjr"
      },
      "execution_count": 119,
      "outputs": []
    },
    {
      "cell_type": "code",
      "source": [
        "illn_dummies= pd.get_dummies(train_fin4['IllnessNature'])\n",
        "train_fin4= train_fin4.join(illn_dummies)"
      ],
      "metadata": {
        "id": "bSz81nOTTgpV"
      },
      "execution_count": 120,
      "outputs": []
    },
    {
      "cell_type": "code",
      "source": [
        "train_fin4.drop(['Gender','Race','IllnessNature'], axis=1, inplace=True)"
      ],
      "metadata": {
        "id": "47eWSJGtToom"
      },
      "execution_count": 121,
      "outputs": []
    },
    {
      "cell_type": "code",
      "source": [
        "train_fin4.head()"
      ],
      "metadata": {
        "colab": {
          "base_uri": "https://localhost:8080/",
          "height": 300
        },
        "id": "5qDQxdgsTuTW",
        "outputId": "f224130e-08a4-4487-d785-677de1ed3a87"
      },
      "execution_count": 122,
      "outputs": [
        {
          "output_type": "execute_result",
          "data": {
            "text/plain": [
              "   InscClaimAmtReimbursed  DeductibleAmtPaid  RenalDiseaseIndicator  \\\n",
              "0                      90                0.0                      0   \n",
              "1                    5000             1068.0                      1   \n",
              "2                     400                0.0                      0   \n",
              "3                      30                0.0                      0   \n",
              "4                    2000             1068.0                      0   \n",
              "\n",
              "   ChronicCond_Alzheimer  ChronicCond_Heartfailure  ChronicCond_KidneyDisease  \\\n",
              "0                      1                         1                          0   \n",
              "1                      0                         1                          0   \n",
              "2                      1                         0                          1   \n",
              "3                      1                         1                          0   \n",
              "4                      0                         0                          1   \n",
              "\n",
              "   ChronicCond_Cancer  ChronicCond_ObstrPulmonary  ChronicCond_Depression  \\\n",
              "0                   1                           1                       0   \n",
              "1                   1                           1                       1   \n",
              "2                   1                           1                       1   \n",
              "3                   1                           1                       0   \n",
              "4                   1                           1                       1   \n",
              "\n",
              "   ChronicCond_Diabetes  ...  G1  G2  R1  R2  R3  R4  comorbid  operating  \\\n",
              "0                     0  ...   0   1   1   0   0   0         0          1   \n",
              "1                     0  ...   1   0   1   0   0   0         0          0   \n",
              "2                     0  ...   1   0   1   0   0   0         0          0   \n",
              "3                     1  ...   0   1   0   1   0   0         0          1   \n",
              "4                     1  ...   0   1   1   0   0   0         1          0   \n",
              "\n",
              "   operating&comorbid  simple  \n",
              "0                   0       0  \n",
              "1                   0       1  \n",
              "2                   0       1  \n",
              "3                   0       0  \n",
              "4                   0       0  \n",
              "\n",
              "[5 rows x 49 columns]"
            ],
            "text/html": [
              "\n",
              "  <div id=\"df-8bdaa42d-a850-457d-964e-5aa14712efce\">\n",
              "    <div class=\"colab-df-container\">\n",
              "      <div>\n",
              "<style scoped>\n",
              "    .dataframe tbody tr th:only-of-type {\n",
              "        vertical-align: middle;\n",
              "    }\n",
              "\n",
              "    .dataframe tbody tr th {\n",
              "        vertical-align: top;\n",
              "    }\n",
              "\n",
              "    .dataframe thead th {\n",
              "        text-align: right;\n",
              "    }\n",
              "</style>\n",
              "<table border=\"1\" class=\"dataframe\">\n",
              "  <thead>\n",
              "    <tr style=\"text-align: right;\">\n",
              "      <th></th>\n",
              "      <th>InscClaimAmtReimbursed</th>\n",
              "      <th>DeductibleAmtPaid</th>\n",
              "      <th>RenalDiseaseIndicator</th>\n",
              "      <th>ChronicCond_Alzheimer</th>\n",
              "      <th>ChronicCond_Heartfailure</th>\n",
              "      <th>ChronicCond_KidneyDisease</th>\n",
              "      <th>ChronicCond_Cancer</th>\n",
              "      <th>ChronicCond_ObstrPulmonary</th>\n",
              "      <th>ChronicCond_Depression</th>\n",
              "      <th>ChronicCond_Diabetes</th>\n",
              "      <th>...</th>\n",
              "      <th>G1</th>\n",
              "      <th>G2</th>\n",
              "      <th>R1</th>\n",
              "      <th>R2</th>\n",
              "      <th>R3</th>\n",
              "      <th>R4</th>\n",
              "      <th>comorbid</th>\n",
              "      <th>operating</th>\n",
              "      <th>operating&amp;comorbid</th>\n",
              "      <th>simple</th>\n",
              "    </tr>\n",
              "  </thead>\n",
              "  <tbody>\n",
              "    <tr>\n",
              "      <th>0</th>\n",
              "      <td>90</td>\n",
              "      <td>0.0</td>\n",
              "      <td>0</td>\n",
              "      <td>1</td>\n",
              "      <td>1</td>\n",
              "      <td>0</td>\n",
              "      <td>1</td>\n",
              "      <td>1</td>\n",
              "      <td>0</td>\n",
              "      <td>0</td>\n",
              "      <td>...</td>\n",
              "      <td>0</td>\n",
              "      <td>1</td>\n",
              "      <td>1</td>\n",
              "      <td>0</td>\n",
              "      <td>0</td>\n",
              "      <td>0</td>\n",
              "      <td>0</td>\n",
              "      <td>1</td>\n",
              "      <td>0</td>\n",
              "      <td>0</td>\n",
              "    </tr>\n",
              "    <tr>\n",
              "      <th>1</th>\n",
              "      <td>5000</td>\n",
              "      <td>1068.0</td>\n",
              "      <td>1</td>\n",
              "      <td>0</td>\n",
              "      <td>1</td>\n",
              "      <td>0</td>\n",
              "      <td>1</td>\n",
              "      <td>1</td>\n",
              "      <td>1</td>\n",
              "      <td>0</td>\n",
              "      <td>...</td>\n",
              "      <td>1</td>\n",
              "      <td>0</td>\n",
              "      <td>1</td>\n",
              "      <td>0</td>\n",
              "      <td>0</td>\n",
              "      <td>0</td>\n",
              "      <td>0</td>\n",
              "      <td>0</td>\n",
              "      <td>0</td>\n",
              "      <td>1</td>\n",
              "    </tr>\n",
              "    <tr>\n",
              "      <th>2</th>\n",
              "      <td>400</td>\n",
              "      <td>0.0</td>\n",
              "      <td>0</td>\n",
              "      <td>1</td>\n",
              "      <td>0</td>\n",
              "      <td>1</td>\n",
              "      <td>1</td>\n",
              "      <td>1</td>\n",
              "      <td>1</td>\n",
              "      <td>0</td>\n",
              "      <td>...</td>\n",
              "      <td>1</td>\n",
              "      <td>0</td>\n",
              "      <td>1</td>\n",
              "      <td>0</td>\n",
              "      <td>0</td>\n",
              "      <td>0</td>\n",
              "      <td>0</td>\n",
              "      <td>0</td>\n",
              "      <td>0</td>\n",
              "      <td>1</td>\n",
              "    </tr>\n",
              "    <tr>\n",
              "      <th>3</th>\n",
              "      <td>30</td>\n",
              "      <td>0.0</td>\n",
              "      <td>0</td>\n",
              "      <td>1</td>\n",
              "      <td>1</td>\n",
              "      <td>0</td>\n",
              "      <td>1</td>\n",
              "      <td>1</td>\n",
              "      <td>0</td>\n",
              "      <td>1</td>\n",
              "      <td>...</td>\n",
              "      <td>0</td>\n",
              "      <td>1</td>\n",
              "      <td>0</td>\n",
              "      <td>1</td>\n",
              "      <td>0</td>\n",
              "      <td>0</td>\n",
              "      <td>0</td>\n",
              "      <td>1</td>\n",
              "      <td>0</td>\n",
              "      <td>0</td>\n",
              "    </tr>\n",
              "    <tr>\n",
              "      <th>4</th>\n",
              "      <td>2000</td>\n",
              "      <td>1068.0</td>\n",
              "      <td>0</td>\n",
              "      <td>0</td>\n",
              "      <td>0</td>\n",
              "      <td>1</td>\n",
              "      <td>1</td>\n",
              "      <td>1</td>\n",
              "      <td>1</td>\n",
              "      <td>1</td>\n",
              "      <td>...</td>\n",
              "      <td>0</td>\n",
              "      <td>1</td>\n",
              "      <td>1</td>\n",
              "      <td>0</td>\n",
              "      <td>0</td>\n",
              "      <td>0</td>\n",
              "      <td>1</td>\n",
              "      <td>0</td>\n",
              "      <td>0</td>\n",
              "      <td>0</td>\n",
              "    </tr>\n",
              "  </tbody>\n",
              "</table>\n",
              "<p>5 rows × 49 columns</p>\n",
              "</div>\n",
              "      <button class=\"colab-df-convert\" onclick=\"convertToInteractive('df-8bdaa42d-a850-457d-964e-5aa14712efce')\"\n",
              "              title=\"Convert this dataframe to an interactive table.\"\n",
              "              style=\"display:none;\">\n",
              "        \n",
              "  <svg xmlns=\"http://www.w3.org/2000/svg\" height=\"24px\"viewBox=\"0 0 24 24\"\n",
              "       width=\"24px\">\n",
              "    <path d=\"M0 0h24v24H0V0z\" fill=\"none\"/>\n",
              "    <path d=\"M18.56 5.44l.94 2.06.94-2.06 2.06-.94-2.06-.94-.94-2.06-.94 2.06-2.06.94zm-11 1L8.5 8.5l.94-2.06 2.06-.94-2.06-.94L8.5 2.5l-.94 2.06-2.06.94zm10 10l.94 2.06.94-2.06 2.06-.94-2.06-.94-.94-2.06-.94 2.06-2.06.94z\"/><path d=\"M17.41 7.96l-1.37-1.37c-.4-.4-.92-.59-1.43-.59-.52 0-1.04.2-1.43.59L10.3 9.45l-7.72 7.72c-.78.78-.78 2.05 0 2.83L4 21.41c.39.39.9.59 1.41.59.51 0 1.02-.2 1.41-.59l7.78-7.78 2.81-2.81c.8-.78.8-2.07 0-2.86zM5.41 20L4 18.59l7.72-7.72 1.47 1.35L5.41 20z\"/>\n",
              "  </svg>\n",
              "      </button>\n",
              "      \n",
              "  <style>\n",
              "    .colab-df-container {\n",
              "      display:flex;\n",
              "      flex-wrap:wrap;\n",
              "      gap: 12px;\n",
              "    }\n",
              "\n",
              "    .colab-df-convert {\n",
              "      background-color: #E8F0FE;\n",
              "      border: none;\n",
              "      border-radius: 50%;\n",
              "      cursor: pointer;\n",
              "      display: none;\n",
              "      fill: #1967D2;\n",
              "      height: 32px;\n",
              "      padding: 0 0 0 0;\n",
              "      width: 32px;\n",
              "    }\n",
              "\n",
              "    .colab-df-convert:hover {\n",
              "      background-color: #E2EBFA;\n",
              "      box-shadow: 0px 1px 2px rgba(60, 64, 67, 0.3), 0px 1px 3px 1px rgba(60, 64, 67, 0.15);\n",
              "      fill: #174EA6;\n",
              "    }\n",
              "\n",
              "    [theme=dark] .colab-df-convert {\n",
              "      background-color: #3B4455;\n",
              "      fill: #D2E3FC;\n",
              "    }\n",
              "\n",
              "    [theme=dark] .colab-df-convert:hover {\n",
              "      background-color: #434B5C;\n",
              "      box-shadow: 0px 1px 3px 1px rgba(0, 0, 0, 0.15);\n",
              "      filter: drop-shadow(0px 1px 2px rgba(0, 0, 0, 0.3));\n",
              "      fill: #FFFFFF;\n",
              "    }\n",
              "  </style>\n",
              "\n",
              "      <script>\n",
              "        const buttonEl =\n",
              "          document.querySelector('#df-8bdaa42d-a850-457d-964e-5aa14712efce button.colab-df-convert');\n",
              "        buttonEl.style.display =\n",
              "          google.colab.kernel.accessAllowed ? 'block' : 'none';\n",
              "\n",
              "        async function convertToInteractive(key) {\n",
              "          const element = document.querySelector('#df-8bdaa42d-a850-457d-964e-5aa14712efce');\n",
              "          const dataTable =\n",
              "            await google.colab.kernel.invokeFunction('convertToInteractive',\n",
              "                                                     [key], {});\n",
              "          if (!dataTable) return;\n",
              "\n",
              "          const docLinkHtml = 'Like what you see? Visit the ' +\n",
              "            '<a target=\"_blank\" href=https://colab.research.google.com/notebooks/data_table.ipynb>data table notebook</a>'\n",
              "            + ' to learn more about interactive tables.';\n",
              "          element.innerHTML = '';\n",
              "          dataTable['output_type'] = 'display_data';\n",
              "          await google.colab.output.renderOutput(dataTable, element);\n",
              "          const docLink = document.createElement('div');\n",
              "          docLink.innerHTML = docLinkHtml;\n",
              "          element.appendChild(docLink);\n",
              "        }\n",
              "      </script>\n",
              "    </div>\n",
              "  </div>\n",
              "  "
            ]
          },
          "metadata": {},
          "execution_count": 122
        }
      ]
    },
    {
      "cell_type": "code",
      "source": [
        "#Creating Dummies for the Gender, Race and the IllnessNature Variables in the CV Dataset\n",
        "cv_gender_dummies= pd.get_dummies(cv_fin4['Gender'])\n",
        "cv_fin4= cv_fin4.join(cv_gender_dummies)\n"
      ],
      "metadata": {
        "id": "x4gNRKyTTvHm"
      },
      "execution_count": 123,
      "outputs": []
    },
    {
      "cell_type": "code",
      "source": [
        "cv_race_dummies= pd.get_dummies(cv_fin4['Race'])\n",
        "cv_fin4= cv_fin4.join(cv_race_dummies)"
      ],
      "metadata": {
        "id": "14-AU8TrUAL7"
      },
      "execution_count": 124,
      "outputs": []
    },
    {
      "cell_type": "code",
      "source": [
        "cv_illn_dummies= pd.get_dummies(cv_fin4['IllnessNature'])\n",
        "cv_fin4= cv_fin4.join(cv_illn_dummies)"
      ],
      "metadata": {
        "id": "UlJZLi6OUDpp"
      },
      "execution_count": 125,
      "outputs": []
    },
    {
      "cell_type": "code",
      "source": [
        "cv_fin4.drop(['Gender','Race','IllnessNature'], axis=1, inplace=True)"
      ],
      "metadata": {
        "id": "iwksUsnfUHqf"
      },
      "execution_count": 126,
      "outputs": []
    },
    {
      "cell_type": "code",
      "source": [
        "cv_fin4.head()"
      ],
      "metadata": {
        "colab": {
          "base_uri": "https://localhost:8080/",
          "height": 300
        },
        "id": "_e_Oa5EfUJWB",
        "outputId": "27862951-e23b-4dc1-efeb-201cc6e64cc9"
      },
      "execution_count": 127,
      "outputs": [
        {
          "output_type": "execute_result",
          "data": {
            "text/plain": [
              "   InscClaimAmtReimbursed  DeductibleAmtPaid  RenalDiseaseIndicator  \\\n",
              "0                     300                0.0                      0   \n",
              "1                      80               50.0                      0   \n",
              "2                     200                0.0                      0   \n",
              "3                     200                0.0                      0   \n",
              "4                     300                0.0                      0   \n",
              "\n",
              "   ChronicCond_Alzheimer  ChronicCond_Heartfailure  ChronicCond_KidneyDisease  \\\n",
              "0                      1                         1                          1   \n",
              "1                      1                         1                          1   \n",
              "2                      1                         1                          1   \n",
              "3                      1                         0                          1   \n",
              "4                      0                         1                          1   \n",
              "\n",
              "   ChronicCond_Cancer  ChronicCond_ObstrPulmonary  ChronicCond_Depression  \\\n",
              "0                   1                           1                       1   \n",
              "1                   1                           1                       1   \n",
              "2                   1                           1                       1   \n",
              "3                   0                           0                       0   \n",
              "4                   1                           1                       1   \n",
              "\n",
              "   ChronicCond_Diabetes  ...  G1  G2  R1  R2  R3  R4  comorbid  operating  \\\n",
              "0                     0  ...   1   0   1   0   0   0         0          0   \n",
              "1                     1  ...   0   1   0   1   0   0         0          0   \n",
              "2                     1  ...   0   1   1   0   0   0         0          0   \n",
              "3                     0  ...   0   1   1   0   0   0         0          1   \n",
              "4                     0  ...   1   0   1   0   0   0         0          0   \n",
              "\n",
              "   operating&comorbid  simple  \n",
              "0                   1       0  \n",
              "1                   0       1  \n",
              "2                   0       1  \n",
              "3                   0       0  \n",
              "4                   0       1  \n",
              "\n",
              "[5 rows x 49 columns]"
            ],
            "text/html": [
              "\n",
              "  <div id=\"df-a9fd5b33-5081-4bd8-aaf8-c4f89350ef93\">\n",
              "    <div class=\"colab-df-container\">\n",
              "      <div>\n",
              "<style scoped>\n",
              "    .dataframe tbody tr th:only-of-type {\n",
              "        vertical-align: middle;\n",
              "    }\n",
              "\n",
              "    .dataframe tbody tr th {\n",
              "        vertical-align: top;\n",
              "    }\n",
              "\n",
              "    .dataframe thead th {\n",
              "        text-align: right;\n",
              "    }\n",
              "</style>\n",
              "<table border=\"1\" class=\"dataframe\">\n",
              "  <thead>\n",
              "    <tr style=\"text-align: right;\">\n",
              "      <th></th>\n",
              "      <th>InscClaimAmtReimbursed</th>\n",
              "      <th>DeductibleAmtPaid</th>\n",
              "      <th>RenalDiseaseIndicator</th>\n",
              "      <th>ChronicCond_Alzheimer</th>\n",
              "      <th>ChronicCond_Heartfailure</th>\n",
              "      <th>ChronicCond_KidneyDisease</th>\n",
              "      <th>ChronicCond_Cancer</th>\n",
              "      <th>ChronicCond_ObstrPulmonary</th>\n",
              "      <th>ChronicCond_Depression</th>\n",
              "      <th>ChronicCond_Diabetes</th>\n",
              "      <th>...</th>\n",
              "      <th>G1</th>\n",
              "      <th>G2</th>\n",
              "      <th>R1</th>\n",
              "      <th>R2</th>\n",
              "      <th>R3</th>\n",
              "      <th>R4</th>\n",
              "      <th>comorbid</th>\n",
              "      <th>operating</th>\n",
              "      <th>operating&amp;comorbid</th>\n",
              "      <th>simple</th>\n",
              "    </tr>\n",
              "  </thead>\n",
              "  <tbody>\n",
              "    <tr>\n",
              "      <th>0</th>\n",
              "      <td>300</td>\n",
              "      <td>0.0</td>\n",
              "      <td>0</td>\n",
              "      <td>1</td>\n",
              "      <td>1</td>\n",
              "      <td>1</td>\n",
              "      <td>1</td>\n",
              "      <td>1</td>\n",
              "      <td>1</td>\n",
              "      <td>0</td>\n",
              "      <td>...</td>\n",
              "      <td>1</td>\n",
              "      <td>0</td>\n",
              "      <td>1</td>\n",
              "      <td>0</td>\n",
              "      <td>0</td>\n",
              "      <td>0</td>\n",
              "      <td>0</td>\n",
              "      <td>0</td>\n",
              "      <td>1</td>\n",
              "      <td>0</td>\n",
              "    </tr>\n",
              "    <tr>\n",
              "      <th>1</th>\n",
              "      <td>80</td>\n",
              "      <td>50.0</td>\n",
              "      <td>0</td>\n",
              "      <td>1</td>\n",
              "      <td>1</td>\n",
              "      <td>1</td>\n",
              "      <td>1</td>\n",
              "      <td>1</td>\n",
              "      <td>1</td>\n",
              "      <td>1</td>\n",
              "      <td>...</td>\n",
              "      <td>0</td>\n",
              "      <td>1</td>\n",
              "      <td>0</td>\n",
              "      <td>1</td>\n",
              "      <td>0</td>\n",
              "      <td>0</td>\n",
              "      <td>0</td>\n",
              "      <td>0</td>\n",
              "      <td>0</td>\n",
              "      <td>1</td>\n",
              "    </tr>\n",
              "    <tr>\n",
              "      <th>2</th>\n",
              "      <td>200</td>\n",
              "      <td>0.0</td>\n",
              "      <td>0</td>\n",
              "      <td>1</td>\n",
              "      <td>1</td>\n",
              "      <td>1</td>\n",
              "      <td>1</td>\n",
              "      <td>1</td>\n",
              "      <td>1</td>\n",
              "      <td>1</td>\n",
              "      <td>...</td>\n",
              "      <td>0</td>\n",
              "      <td>1</td>\n",
              "      <td>1</td>\n",
              "      <td>0</td>\n",
              "      <td>0</td>\n",
              "      <td>0</td>\n",
              "      <td>0</td>\n",
              "      <td>0</td>\n",
              "      <td>0</td>\n",
              "      <td>1</td>\n",
              "    </tr>\n",
              "    <tr>\n",
              "      <th>3</th>\n",
              "      <td>200</td>\n",
              "      <td>0.0</td>\n",
              "      <td>0</td>\n",
              "      <td>1</td>\n",
              "      <td>0</td>\n",
              "      <td>1</td>\n",
              "      <td>0</td>\n",
              "      <td>0</td>\n",
              "      <td>0</td>\n",
              "      <td>0</td>\n",
              "      <td>...</td>\n",
              "      <td>0</td>\n",
              "      <td>1</td>\n",
              "      <td>1</td>\n",
              "      <td>0</td>\n",
              "      <td>0</td>\n",
              "      <td>0</td>\n",
              "      <td>0</td>\n",
              "      <td>1</td>\n",
              "      <td>0</td>\n",
              "      <td>0</td>\n",
              "    </tr>\n",
              "    <tr>\n",
              "      <th>4</th>\n",
              "      <td>300</td>\n",
              "      <td>0.0</td>\n",
              "      <td>0</td>\n",
              "      <td>0</td>\n",
              "      <td>1</td>\n",
              "      <td>1</td>\n",
              "      <td>1</td>\n",
              "      <td>1</td>\n",
              "      <td>1</td>\n",
              "      <td>0</td>\n",
              "      <td>...</td>\n",
              "      <td>1</td>\n",
              "      <td>0</td>\n",
              "      <td>1</td>\n",
              "      <td>0</td>\n",
              "      <td>0</td>\n",
              "      <td>0</td>\n",
              "      <td>0</td>\n",
              "      <td>0</td>\n",
              "      <td>0</td>\n",
              "      <td>1</td>\n",
              "    </tr>\n",
              "  </tbody>\n",
              "</table>\n",
              "<p>5 rows × 49 columns</p>\n",
              "</div>\n",
              "      <button class=\"colab-df-convert\" onclick=\"convertToInteractive('df-a9fd5b33-5081-4bd8-aaf8-c4f89350ef93')\"\n",
              "              title=\"Convert this dataframe to an interactive table.\"\n",
              "              style=\"display:none;\">\n",
              "        \n",
              "  <svg xmlns=\"http://www.w3.org/2000/svg\" height=\"24px\"viewBox=\"0 0 24 24\"\n",
              "       width=\"24px\">\n",
              "    <path d=\"M0 0h24v24H0V0z\" fill=\"none\"/>\n",
              "    <path d=\"M18.56 5.44l.94 2.06.94-2.06 2.06-.94-2.06-.94-.94-2.06-.94 2.06-2.06.94zm-11 1L8.5 8.5l.94-2.06 2.06-.94-2.06-.94L8.5 2.5l-.94 2.06-2.06.94zm10 10l.94 2.06.94-2.06 2.06-.94-2.06-.94-.94-2.06-.94 2.06-2.06.94z\"/><path d=\"M17.41 7.96l-1.37-1.37c-.4-.4-.92-.59-1.43-.59-.52 0-1.04.2-1.43.59L10.3 9.45l-7.72 7.72c-.78.78-.78 2.05 0 2.83L4 21.41c.39.39.9.59 1.41.59.51 0 1.02-.2 1.41-.59l7.78-7.78 2.81-2.81c.8-.78.8-2.07 0-2.86zM5.41 20L4 18.59l7.72-7.72 1.47 1.35L5.41 20z\"/>\n",
              "  </svg>\n",
              "      </button>\n",
              "      \n",
              "  <style>\n",
              "    .colab-df-container {\n",
              "      display:flex;\n",
              "      flex-wrap:wrap;\n",
              "      gap: 12px;\n",
              "    }\n",
              "\n",
              "    .colab-df-convert {\n",
              "      background-color: #E8F0FE;\n",
              "      border: none;\n",
              "      border-radius: 50%;\n",
              "      cursor: pointer;\n",
              "      display: none;\n",
              "      fill: #1967D2;\n",
              "      height: 32px;\n",
              "      padding: 0 0 0 0;\n",
              "      width: 32px;\n",
              "    }\n",
              "\n",
              "    .colab-df-convert:hover {\n",
              "      background-color: #E2EBFA;\n",
              "      box-shadow: 0px 1px 2px rgba(60, 64, 67, 0.3), 0px 1px 3px 1px rgba(60, 64, 67, 0.15);\n",
              "      fill: #174EA6;\n",
              "    }\n",
              "\n",
              "    [theme=dark] .colab-df-convert {\n",
              "      background-color: #3B4455;\n",
              "      fill: #D2E3FC;\n",
              "    }\n",
              "\n",
              "    [theme=dark] .colab-df-convert:hover {\n",
              "      background-color: #434B5C;\n",
              "      box-shadow: 0px 1px 3px 1px rgba(0, 0, 0, 0.15);\n",
              "      filter: drop-shadow(0px 1px 2px rgba(0, 0, 0, 0.3));\n",
              "      fill: #FFFFFF;\n",
              "    }\n",
              "  </style>\n",
              "\n",
              "      <script>\n",
              "        const buttonEl =\n",
              "          document.querySelector('#df-a9fd5b33-5081-4bd8-aaf8-c4f89350ef93 button.colab-df-convert');\n",
              "        buttonEl.style.display =\n",
              "          google.colab.kernel.accessAllowed ? 'block' : 'none';\n",
              "\n",
              "        async function convertToInteractive(key) {\n",
              "          const element = document.querySelector('#df-a9fd5b33-5081-4bd8-aaf8-c4f89350ef93');\n",
              "          const dataTable =\n",
              "            await google.colab.kernel.invokeFunction('convertToInteractive',\n",
              "                                                     [key], {});\n",
              "          if (!dataTable) return;\n",
              "\n",
              "          const docLinkHtml = 'Like what you see? Visit the ' +\n",
              "            '<a target=\"_blank\" href=https://colab.research.google.com/notebooks/data_table.ipynb>data table notebook</a>'\n",
              "            + ' to learn more about interactive tables.';\n",
              "          element.innerHTML = '';\n",
              "          dataTable['output_type'] = 'display_data';\n",
              "          await google.colab.output.renderOutput(dataTable, element);\n",
              "          const docLink = document.createElement('div');\n",
              "          docLink.innerHTML = docLinkHtml;\n",
              "          element.appendChild(docLink);\n",
              "        }\n",
              "      </script>\n",
              "    </div>\n",
              "  </div>\n",
              "  "
            ]
          },
          "metadata": {},
          "execution_count": 127
        }
      ]
    },
    {
      "cell_type": "code",
      "source": [
        "#Scaling the Numerical Features using the SKLearn StandardScaler\n",
        "scaler= StandardScaler()\n",
        "num_cols=['InscClaimAmtReimbursed','DeductibleAmtPaid','IPAnnualReimbursementAmt','IPAnnualDeductibleAmt','OPAnnualReimbursementAmt','OPAnnualDeductibleAmt','#_Procedures','#_DiagnosisCodes','HospitalWeeks','ClaimWeeks','age']\n",
        "\n",
        "for i in tqdm(num_cols):\n",
        "    scaler.fit(train_fin4[i].values.reshape(-1,1))\n",
        "    train_fin4[i]= scaler.transform(train_fin4[i].values.reshape(-1,1))\n",
        "    cv_fin4[i]= scaler.transform(cv_fin4[i].values.reshape(-1,1)) "
      ],
      "metadata": {
        "colab": {
          "base_uri": "https://localhost:8080/"
        },
        "id": "FM3JHvtLUUZC",
        "outputId": "a253f213-7c57-4f76-b62b-cbb869fa5128"
      },
      "execution_count": 128,
      "outputs": [
        {
          "output_type": "stream",
          "name": "stderr",
          "text": [
            "100%|██████████| 11/11 [00:00<00:00, 39.46it/s]\n"
          ]
        }
      ]
    },
    {
      "cell_type": "code",
      "source": [
        "print(train_fin4.shape)\n",
        "print(train_y.shape)\n",
        "print(cv_fin4.shape)\n",
        "print(cv_y.shape)"
      ],
      "metadata": {
        "colab": {
          "base_uri": "https://localhost:8080/"
        },
        "id": "btC54USWUivX",
        "outputId": "e4a024f5-869e-4e5a-e7c3-9b8524693659"
      },
      "execution_count": 129,
      "outputs": [
        {
          "output_type": "stream",
          "name": "stdout",
          "text": [
            "(446568, 49)\n",
            "(446568,)\n",
            "(111643, 49)\n",
            "(111643,)\n"
          ]
        }
      ]
    },
    {
      "cell_type": "code",
      "source": [
        "#Replacing the Yes and No with 1 and 0 in the Train_y and CV_y datasets\n",
        "train_y= train_y.map({'Yes':1,'No':0})\n",
        "cv_y= cv_y.map({'Yes':1,'No':0})\n",
        "print(train_y.head())\n",
        "print('='*50)\n",
        "print(cv_y.head())"
      ],
      "metadata": {
        "colab": {
          "base_uri": "https://localhost:8080/"
        },
        "id": "dAefUduLUjjc",
        "outputId": "cb21f553-eaf5-4ce9-a063-cbaa27168fd9"
      },
      "execution_count": 130,
      "outputs": [
        {
          "output_type": "stream",
          "name": "stdout",
          "text": [
            "0    0\n",
            "1    1\n",
            "2    1\n",
            "3    1\n",
            "4    1\n",
            "Name: PotentialFraud, dtype: int64\n",
            "==================================================\n",
            "0    1\n",
            "1    0\n",
            "2    0\n",
            "3    0\n",
            "4    1\n",
            "Name: PotentialFraud, dtype: int64\n"
          ]
        }
      ]
    },
    {
      "cell_type": "code",
      "source": [
        "with open('/content/drive/MyDrive/Colab Notebooks/train_hc_fin.pkl','wb') as tr_df:\n",
        "    pickle.dump(train_fin4,tr_df)\n",
        "with open('/content/drive/MyDrive/Colab Notebooks/cv_hc_fin.pkl','wb') as cv_df:\n",
        "    pickle.dump(cv_fin4,cv_df)"
      ],
      "metadata": {
        "id": "x3NdXvrZUyje"
      },
      "execution_count": 131,
      "outputs": []
    },
    {
      "cell_type": "code",
      "source": [
        "with open('/content/drive/MyDrive/Colab Notebooks/train_hc_fin.pkl','rb') as tr_df:\n",
        "    train_fin4= pd.read_pickle(tr_df)\n",
        "with open('/content/drive/MyDrive/Colab Notebooks/cv_hc_fin.pkl','rb') as cv_df:\n",
        "    cv_fin4= pd.read_pickle(cv_df)"
      ],
      "metadata": {
        "id": "xbKFFcdtU0VW"
      },
      "execution_count": 132,
      "outputs": []
    },
    {
      "cell_type": "code",
      "source": [
        "\n",
        "with open('/content/drive/MyDrive/Colab Notebooks/train_y.pkl','rb') as tr_y:\n",
        "    train_y= pd.read_pickle(tr_y)\n",
        "with open('/content/drive/MyDrive/Colab Notebooks/cv_y.pkl','rb') as cv_y:\n",
        "    cv_y= pd.read_pickle(cv_y)"
      ],
      "metadata": {
        "id": "CgVHcOgYVvIU"
      },
      "execution_count": 133,
      "outputs": []
    },
    {
      "cell_type": "code",
      "source": [
        "print(train_fin4.shape)\n",
        "print(train_y.shape)\n",
        "print(cv_fin4.shape)\n",
        "print(cv_y.shape)"
      ],
      "metadata": {
        "colab": {
          "base_uri": "https://localhost:8080/"
        },
        "id": "aNn4YGXqU3BN",
        "outputId": "af4d4804-3e2f-4752-8717-71567b417fd8"
      },
      "execution_count": 135,
      "outputs": [
        {
          "output_type": "stream",
          "name": "stdout",
          "text": [
            "(446568, 49)\n",
            "(446568,)\n",
            "(111643, 49)\n",
            "(111643,)\n"
          ]
        }
      ]
    },
    {
      "cell_type": "code",
      "source": [
        ""
      ],
      "metadata": {
        "id": "bexJWEdUWLRt"
      },
      "execution_count": null,
      "outputs": []
    }
  ]
}
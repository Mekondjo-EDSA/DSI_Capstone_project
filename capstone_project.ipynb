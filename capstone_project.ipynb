{
  "cells": [
    {
      "cell_type": "markdown",
      "metadata": {
        "id": "view-in-github",
        "colab_type": "text"
      },
      "source": [
        "<a href=\"https://colab.research.google.com/github/Mekondjo-EDSA/DSI_Capstone_project/blob/main/capstone_project.ipynb\" target=\"_parent\"><img src=\"https://colab.research.google.com/assets/colab-badge.svg\" alt=\"Open In Colab\"/></a>"
      ]
    },
    {
      "cell_type": "code",
      "execution_count": null,
      "outputs": [],
      "source": [
        "import pandas as pd \n",
        "import numpy as np\n",
        "import seaborn as sns\n",
        "import matplotlib.pyplot as plt\n",
        "from sklearn.preprocessing import StandardScaler,MinMaxScaler\n",
        "from sklearn.model_selection import train_test_split"
      ],
      "metadata": {
        "pycharm": {
          "name": "#%%\n"
        },
        "id": "OB10ghSZR9xf"
      }
    },
    {
      "cell_type": "code",
      "source": [
        "from google.colab import drive\n",
        "drive.mount('/content/drive')"
      ],
      "metadata": {
        "colab": {
          "base_uri": "https://localhost:8080/"
        },
        "id": "pFd2qhNZSJ1W",
        "outputId": "b79f67dd-5c25-493f-8fd1-11af56dedfe0"
      },
      "execution_count": null,
      "outputs": [
        {
          "output_type": "stream",
          "name": "stdout",
          "text": [
            "Mounted at /content/drive\n"
          ]
        }
      ]
    },
    {
      "cell_type": "code",
      "execution_count": null,
      "outputs": [],
      "source": [
        "#Load train dataset into dataframe\n",
        "train = pd.read_csv(\"/content/drive/MyDrive/capstone_dataset/Train-1542865627584.csv\")\n",
        "train_beneficiary = pd.read_csv(\"/content/drive/MyDrive/capstone_dataset/Train_Beneficiarydata-1542865627584.csv\")\n",
        "train_inpatient = pd.read_csv(\"/content/drive/MyDrive/capstone_dataset/Train_Inpatientdata-1542865627584.csv\")\n",
        "train_outpatient = pd.read_csv(\"/content/drive/MyDrive/capstone_dataset/Train_Outpatientdata-1542865627584.csv\")"
      ],
      "metadata": {
        "pycharm": {
          "name": "#%%\n"
        },
        "id": "Rr67BMQHR9xs"
      }
    },
    {
      "cell_type": "code",
      "execution_count": null,
      "outputs": [],
      "source": [
        "#Load test dataset into dataframe \n",
        "test = pd.read_csv(\"/content/drive/MyDrive/capstone_dataset/Test-1542969243754.csv\")\n",
        "test_beneficiary = pd.read_csv(\"/content/drive/MyDrive/capstone_dataset/Test_Beneficiarydata-1542969243754.csv\")\n",
        "test_inpatient = pd.read_csv(\"/content/drive/MyDrive/capstone_dataset/Test_Inpatientdata-1542969243754.csv\")\n",
        "test_outpatient = pd.read_csv(\"/content/drive/MyDrive/capstone_dataset/Test_Outpatientdata-1542969243754.csv\")"
      ],
      "metadata": {
        "pycharm": {
          "name": "#%%\n"
        },
        "id": "_L4HnoEKR9xw"
      }
    },
    {
      "cell_type": "code",
      "execution_count": null,
      "outputs": [
        {
          "output_type": "stream",
          "name": "stdout",
          "text": [
            "target_data :  (5410, 2)\n",
            "train_beneficiary :  (138556, 25)\n",
            "train_inpatient :  (40474, 30)\n",
            "train_outpatient :  (517737, 27)\n"
          ]
        }
      ],
      "source": [
        "#Print the shape of the target data \n",
        "print(\"target_data : \",train.shape)\n",
        "print(\"train_beneficiary : \",train_beneficiary.shape)\n",
        "print(\"train_inpatient : \",train_inpatient.shape)\n",
        "print(\"train_outpatient : \",train_outpatient.shape)"
      ],
      "metadata": {
        "pycharm": {
          "name": "#%%\n"
        },
        "colab": {
          "base_uri": "https://localhost:8080/"
        },
        "id": "pM7tUMeMR9xy",
        "outputId": "e944e013-07f6-4fc3-f6d0-aa6799fe4020"
      }
    },
    {
      "cell_type": "code",
      "execution_count": null,
      "outputs": [
        {
          "output_type": "execute_result",
          "data": {
            "text/plain": [
              "      BeneID         DOB  DOD  Gender  Race RenalDiseaseIndicator  State  \\\n",
              "0  BENE11001  1943-01-01  NaN       1     1                     0     39   \n",
              "1  BENE11002  1936-09-01  NaN       2     1                     0     39   \n",
              "2  BENE11003  1936-08-01  NaN       1     1                     0     52   \n",
              "3  BENE11004  1922-07-01  NaN       1     1                     0     39   \n",
              "4  BENE11005  1935-09-01  NaN       1     1                     0     24   \n",
              "\n",
              "   County  NoOfMonths_PartACov  NoOfMonths_PartBCov  ...  \\\n",
              "0     230                   12                   12  ...   \n",
              "1     280                   12                   12  ...   \n",
              "2     590                   12                   12  ...   \n",
              "3     270                   12                   12  ...   \n",
              "4     680                   12                   12  ...   \n",
              "\n",
              "   ChronicCond_Depression  ChronicCond_Diabetes  ChronicCond_IschemicHeart  \\\n",
              "0                       1                     1                          1   \n",
              "1                       2                     2                          2   \n",
              "2                       2                     2                          1   \n",
              "3                       2                     1                          1   \n",
              "4                       2                     1                          2   \n",
              "\n",
              "   ChronicCond_Osteoporasis  ChronicCond_rheumatoidarthritis  \\\n",
              "0                         2                                1   \n",
              "1                         2                                2   \n",
              "2                         2                                2   \n",
              "3                         1                                1   \n",
              "4                         2                                2   \n",
              "\n",
              "   ChronicCond_stroke  IPAnnualReimbursementAmt  IPAnnualDeductibleAmt  \\\n",
              "0                   1                     36000                   3204   \n",
              "1                   2                         0                      0   \n",
              "2                   2                         0                      0   \n",
              "3                   2                         0                      0   \n",
              "4                   2                         0                      0   \n",
              "\n",
              "   OPAnnualReimbursementAmt  OPAnnualDeductibleAmt  \n",
              "0                        60                     70  \n",
              "1                        30                     50  \n",
              "2                        90                     40  \n",
              "3                      1810                    760  \n",
              "4                      1790                   1200  \n",
              "\n",
              "[5 rows x 25 columns]"
            ],
            "text/html": [
              "\n",
              "  <div id=\"df-7584849b-764a-40ec-9b90-9be90c74dda8\">\n",
              "    <div class=\"colab-df-container\">\n",
              "      <div>\n",
              "<style scoped>\n",
              "    .dataframe tbody tr th:only-of-type {\n",
              "        vertical-align: middle;\n",
              "    }\n",
              "\n",
              "    .dataframe tbody tr th {\n",
              "        vertical-align: top;\n",
              "    }\n",
              "\n",
              "    .dataframe thead th {\n",
              "        text-align: right;\n",
              "    }\n",
              "</style>\n",
              "<table border=\"1\" class=\"dataframe\">\n",
              "  <thead>\n",
              "    <tr style=\"text-align: right;\">\n",
              "      <th></th>\n",
              "      <th>BeneID</th>\n",
              "      <th>DOB</th>\n",
              "      <th>DOD</th>\n",
              "      <th>Gender</th>\n",
              "      <th>Race</th>\n",
              "      <th>RenalDiseaseIndicator</th>\n",
              "      <th>State</th>\n",
              "      <th>County</th>\n",
              "      <th>NoOfMonths_PartACov</th>\n",
              "      <th>NoOfMonths_PartBCov</th>\n",
              "      <th>...</th>\n",
              "      <th>ChronicCond_Depression</th>\n",
              "      <th>ChronicCond_Diabetes</th>\n",
              "      <th>ChronicCond_IschemicHeart</th>\n",
              "      <th>ChronicCond_Osteoporasis</th>\n",
              "      <th>ChronicCond_rheumatoidarthritis</th>\n",
              "      <th>ChronicCond_stroke</th>\n",
              "      <th>IPAnnualReimbursementAmt</th>\n",
              "      <th>IPAnnualDeductibleAmt</th>\n",
              "      <th>OPAnnualReimbursementAmt</th>\n",
              "      <th>OPAnnualDeductibleAmt</th>\n",
              "    </tr>\n",
              "  </thead>\n",
              "  <tbody>\n",
              "    <tr>\n",
              "      <th>0</th>\n",
              "      <td>BENE11001</td>\n",
              "      <td>1943-01-01</td>\n",
              "      <td>NaN</td>\n",
              "      <td>1</td>\n",
              "      <td>1</td>\n",
              "      <td>0</td>\n",
              "      <td>39</td>\n",
              "      <td>230</td>\n",
              "      <td>12</td>\n",
              "      <td>12</td>\n",
              "      <td>...</td>\n",
              "      <td>1</td>\n",
              "      <td>1</td>\n",
              "      <td>1</td>\n",
              "      <td>2</td>\n",
              "      <td>1</td>\n",
              "      <td>1</td>\n",
              "      <td>36000</td>\n",
              "      <td>3204</td>\n",
              "      <td>60</td>\n",
              "      <td>70</td>\n",
              "    </tr>\n",
              "    <tr>\n",
              "      <th>1</th>\n",
              "      <td>BENE11002</td>\n",
              "      <td>1936-09-01</td>\n",
              "      <td>NaN</td>\n",
              "      <td>2</td>\n",
              "      <td>1</td>\n",
              "      <td>0</td>\n",
              "      <td>39</td>\n",
              "      <td>280</td>\n",
              "      <td>12</td>\n",
              "      <td>12</td>\n",
              "      <td>...</td>\n",
              "      <td>2</td>\n",
              "      <td>2</td>\n",
              "      <td>2</td>\n",
              "      <td>2</td>\n",
              "      <td>2</td>\n",
              "      <td>2</td>\n",
              "      <td>0</td>\n",
              "      <td>0</td>\n",
              "      <td>30</td>\n",
              "      <td>50</td>\n",
              "    </tr>\n",
              "    <tr>\n",
              "      <th>2</th>\n",
              "      <td>BENE11003</td>\n",
              "      <td>1936-08-01</td>\n",
              "      <td>NaN</td>\n",
              "      <td>1</td>\n",
              "      <td>1</td>\n",
              "      <td>0</td>\n",
              "      <td>52</td>\n",
              "      <td>590</td>\n",
              "      <td>12</td>\n",
              "      <td>12</td>\n",
              "      <td>...</td>\n",
              "      <td>2</td>\n",
              "      <td>2</td>\n",
              "      <td>1</td>\n",
              "      <td>2</td>\n",
              "      <td>2</td>\n",
              "      <td>2</td>\n",
              "      <td>0</td>\n",
              "      <td>0</td>\n",
              "      <td>90</td>\n",
              "      <td>40</td>\n",
              "    </tr>\n",
              "    <tr>\n",
              "      <th>3</th>\n",
              "      <td>BENE11004</td>\n",
              "      <td>1922-07-01</td>\n",
              "      <td>NaN</td>\n",
              "      <td>1</td>\n",
              "      <td>1</td>\n",
              "      <td>0</td>\n",
              "      <td>39</td>\n",
              "      <td>270</td>\n",
              "      <td>12</td>\n",
              "      <td>12</td>\n",
              "      <td>...</td>\n",
              "      <td>2</td>\n",
              "      <td>1</td>\n",
              "      <td>1</td>\n",
              "      <td>1</td>\n",
              "      <td>1</td>\n",
              "      <td>2</td>\n",
              "      <td>0</td>\n",
              "      <td>0</td>\n",
              "      <td>1810</td>\n",
              "      <td>760</td>\n",
              "    </tr>\n",
              "    <tr>\n",
              "      <th>4</th>\n",
              "      <td>BENE11005</td>\n",
              "      <td>1935-09-01</td>\n",
              "      <td>NaN</td>\n",
              "      <td>1</td>\n",
              "      <td>1</td>\n",
              "      <td>0</td>\n",
              "      <td>24</td>\n",
              "      <td>680</td>\n",
              "      <td>12</td>\n",
              "      <td>12</td>\n",
              "      <td>...</td>\n",
              "      <td>2</td>\n",
              "      <td>1</td>\n",
              "      <td>2</td>\n",
              "      <td>2</td>\n",
              "      <td>2</td>\n",
              "      <td>2</td>\n",
              "      <td>0</td>\n",
              "      <td>0</td>\n",
              "      <td>1790</td>\n",
              "      <td>1200</td>\n",
              "    </tr>\n",
              "  </tbody>\n",
              "</table>\n",
              "<p>5 rows × 25 columns</p>\n",
              "</div>\n",
              "      <button class=\"colab-df-convert\" onclick=\"convertToInteractive('df-7584849b-764a-40ec-9b90-9be90c74dda8')\"\n",
              "              title=\"Convert this dataframe to an interactive table.\"\n",
              "              style=\"display:none;\">\n",
              "        \n",
              "  <svg xmlns=\"http://www.w3.org/2000/svg\" height=\"24px\"viewBox=\"0 0 24 24\"\n",
              "       width=\"24px\">\n",
              "    <path d=\"M0 0h24v24H0V0z\" fill=\"none\"/>\n",
              "    <path d=\"M18.56 5.44l.94 2.06.94-2.06 2.06-.94-2.06-.94-.94-2.06-.94 2.06-2.06.94zm-11 1L8.5 8.5l.94-2.06 2.06-.94-2.06-.94L8.5 2.5l-.94 2.06-2.06.94zm10 10l.94 2.06.94-2.06 2.06-.94-2.06-.94-.94-2.06-.94 2.06-2.06.94z\"/><path d=\"M17.41 7.96l-1.37-1.37c-.4-.4-.92-.59-1.43-.59-.52 0-1.04.2-1.43.59L10.3 9.45l-7.72 7.72c-.78.78-.78 2.05 0 2.83L4 21.41c.39.39.9.59 1.41.59.51 0 1.02-.2 1.41-.59l7.78-7.78 2.81-2.81c.8-.78.8-2.07 0-2.86zM5.41 20L4 18.59l7.72-7.72 1.47 1.35L5.41 20z\"/>\n",
              "  </svg>\n",
              "      </button>\n",
              "      \n",
              "  <style>\n",
              "    .colab-df-container {\n",
              "      display:flex;\n",
              "      flex-wrap:wrap;\n",
              "      gap: 12px;\n",
              "    }\n",
              "\n",
              "    .colab-df-convert {\n",
              "      background-color: #E8F0FE;\n",
              "      border: none;\n",
              "      border-radius: 50%;\n",
              "      cursor: pointer;\n",
              "      display: none;\n",
              "      fill: #1967D2;\n",
              "      height: 32px;\n",
              "      padding: 0 0 0 0;\n",
              "      width: 32px;\n",
              "    }\n",
              "\n",
              "    .colab-df-convert:hover {\n",
              "      background-color: #E2EBFA;\n",
              "      box-shadow: 0px 1px 2px rgba(60, 64, 67, 0.3), 0px 1px 3px 1px rgba(60, 64, 67, 0.15);\n",
              "      fill: #174EA6;\n",
              "    }\n",
              "\n",
              "    [theme=dark] .colab-df-convert {\n",
              "      background-color: #3B4455;\n",
              "      fill: #D2E3FC;\n",
              "    }\n",
              "\n",
              "    [theme=dark] .colab-df-convert:hover {\n",
              "      background-color: #434B5C;\n",
              "      box-shadow: 0px 1px 3px 1px rgba(0, 0, 0, 0.15);\n",
              "      filter: drop-shadow(0px 1px 2px rgba(0, 0, 0, 0.3));\n",
              "      fill: #FFFFFF;\n",
              "    }\n",
              "  </style>\n",
              "\n",
              "      <script>\n",
              "        const buttonEl =\n",
              "          document.querySelector('#df-7584849b-764a-40ec-9b90-9be90c74dda8 button.colab-df-convert');\n",
              "        buttonEl.style.display =\n",
              "          google.colab.kernel.accessAllowed ? 'block' : 'none';\n",
              "\n",
              "        async function convertToInteractive(key) {\n",
              "          const element = document.querySelector('#df-7584849b-764a-40ec-9b90-9be90c74dda8');\n",
              "          const dataTable =\n",
              "            await google.colab.kernel.invokeFunction('convertToInteractive',\n",
              "                                                     [key], {});\n",
              "          if (!dataTable) return;\n",
              "\n",
              "          const docLinkHtml = 'Like what you see? Visit the ' +\n",
              "            '<a target=\"_blank\" href=https://colab.research.google.com/notebooks/data_table.ipynb>data table notebook</a>'\n",
              "            + ' to learn more about interactive tables.';\n",
              "          element.innerHTML = '';\n",
              "          dataTable['output_type'] = 'display_data';\n",
              "          await google.colab.output.renderOutput(dataTable, element);\n",
              "          const docLink = document.createElement('div');\n",
              "          docLink.innerHTML = docLinkHtml;\n",
              "          element.appendChild(docLink);\n",
              "        }\n",
              "      </script>\n",
              "    </div>\n",
              "  </div>\n",
              "  "
            ]
          },
          "metadata": {},
          "execution_count": 6
        }
      ],
      "source": [
        "train_beneficiary.head()"
      ],
      "metadata": {
        "pycharm": {
          "name": "#%%\n"
        },
        "colab": {
          "base_uri": "https://localhost:8080/",
          "height": 300
        },
        "id": "P0oIVFbXR9x0",
        "outputId": "4d14b2d1-d954-4663-db3d-400f068b90d1"
      }
    },
    {
      "cell_type": "code",
      "execution_count": null,
      "outputs": [
        {
          "output_type": "execute_result",
          "data": {
            "text/plain": [
              "      BeneID   ClaimID ClaimStartDt  ClaimEndDt  Provider  \\\n",
              "0  BENE11001  CLM46614   2009-04-12  2009-04-18  PRV55912   \n",
              "1  BENE11001  CLM66048   2009-08-31  2009-09-02  PRV55907   \n",
              "2  BENE11001  CLM68358   2009-09-17  2009-09-20  PRV56046   \n",
              "3  BENE11011  CLM38412   2009-02-14  2009-02-22  PRV52405   \n",
              "4  BENE11014  CLM63689   2009-08-13  2009-08-30  PRV56614   \n",
              "\n",
              "   InscClaimAmtReimbursed AttendingPhysician OperatingPhysician  \\\n",
              "0                   26000          PHY390922                NaN   \n",
              "1                    5000          PHY318495          PHY318495   \n",
              "2                    5000          PHY372395                NaN   \n",
              "3                    5000          PHY369659          PHY392961   \n",
              "4                   10000          PHY379376          PHY398258   \n",
              "\n",
              "  OtherPhysician AdmissionDt  ... ClmDiagnosisCode_7  ClmDiagnosisCode_8  \\\n",
              "0            NaN  2009-04-12  ...               2724               19889   \n",
              "1            NaN  2009-08-31  ...                NaN                 NaN   \n",
              "2      PHY324689  2009-09-17  ...                NaN                 NaN   \n",
              "3      PHY349768  2009-02-14  ...              25062               40390   \n",
              "4            NaN  2009-08-13  ...               5119               29620   \n",
              "\n",
              "  ClmDiagnosisCode_9 ClmDiagnosisCode_10 ClmProcedureCode_1  \\\n",
              "0               5849                 NaN                NaN   \n",
              "1                NaN                 NaN             7092.0   \n",
              "2                NaN                 NaN                NaN   \n",
              "3               4019                 NaN              331.0   \n",
              "4              20300                 NaN             3893.0   \n",
              "\n",
              "  ClmProcedureCode_2 ClmProcedureCode_3 ClmProcedureCode_4 ClmProcedureCode_5  \\\n",
              "0                NaN                NaN                NaN                NaN   \n",
              "1                NaN                NaN                NaN                NaN   \n",
              "2                NaN                NaN                NaN                NaN   \n",
              "3                NaN                NaN                NaN                NaN   \n",
              "4                NaN                NaN                NaN                NaN   \n",
              "\n",
              "  ClmProcedureCode_6  \n",
              "0                NaN  \n",
              "1                NaN  \n",
              "2                NaN  \n",
              "3                NaN  \n",
              "4                NaN  \n",
              "\n",
              "[5 rows x 30 columns]"
            ],
            "text/html": [
              "\n",
              "  <div id=\"df-21df0bc3-154d-472e-8b3a-dbce8bc152fe\">\n",
              "    <div class=\"colab-df-container\">\n",
              "      <div>\n",
              "<style scoped>\n",
              "    .dataframe tbody tr th:only-of-type {\n",
              "        vertical-align: middle;\n",
              "    }\n",
              "\n",
              "    .dataframe tbody tr th {\n",
              "        vertical-align: top;\n",
              "    }\n",
              "\n",
              "    .dataframe thead th {\n",
              "        text-align: right;\n",
              "    }\n",
              "</style>\n",
              "<table border=\"1\" class=\"dataframe\">\n",
              "  <thead>\n",
              "    <tr style=\"text-align: right;\">\n",
              "      <th></th>\n",
              "      <th>BeneID</th>\n",
              "      <th>ClaimID</th>\n",
              "      <th>ClaimStartDt</th>\n",
              "      <th>ClaimEndDt</th>\n",
              "      <th>Provider</th>\n",
              "      <th>InscClaimAmtReimbursed</th>\n",
              "      <th>AttendingPhysician</th>\n",
              "      <th>OperatingPhysician</th>\n",
              "      <th>OtherPhysician</th>\n",
              "      <th>AdmissionDt</th>\n",
              "      <th>...</th>\n",
              "      <th>ClmDiagnosisCode_7</th>\n",
              "      <th>ClmDiagnosisCode_8</th>\n",
              "      <th>ClmDiagnosisCode_9</th>\n",
              "      <th>ClmDiagnosisCode_10</th>\n",
              "      <th>ClmProcedureCode_1</th>\n",
              "      <th>ClmProcedureCode_2</th>\n",
              "      <th>ClmProcedureCode_3</th>\n",
              "      <th>ClmProcedureCode_4</th>\n",
              "      <th>ClmProcedureCode_5</th>\n",
              "      <th>ClmProcedureCode_6</th>\n",
              "    </tr>\n",
              "  </thead>\n",
              "  <tbody>\n",
              "    <tr>\n",
              "      <th>0</th>\n",
              "      <td>BENE11001</td>\n",
              "      <td>CLM46614</td>\n",
              "      <td>2009-04-12</td>\n",
              "      <td>2009-04-18</td>\n",
              "      <td>PRV55912</td>\n",
              "      <td>26000</td>\n",
              "      <td>PHY390922</td>\n",
              "      <td>NaN</td>\n",
              "      <td>NaN</td>\n",
              "      <td>2009-04-12</td>\n",
              "      <td>...</td>\n",
              "      <td>2724</td>\n",
              "      <td>19889</td>\n",
              "      <td>5849</td>\n",
              "      <td>NaN</td>\n",
              "      <td>NaN</td>\n",
              "      <td>NaN</td>\n",
              "      <td>NaN</td>\n",
              "      <td>NaN</td>\n",
              "      <td>NaN</td>\n",
              "      <td>NaN</td>\n",
              "    </tr>\n",
              "    <tr>\n",
              "      <th>1</th>\n",
              "      <td>BENE11001</td>\n",
              "      <td>CLM66048</td>\n",
              "      <td>2009-08-31</td>\n",
              "      <td>2009-09-02</td>\n",
              "      <td>PRV55907</td>\n",
              "      <td>5000</td>\n",
              "      <td>PHY318495</td>\n",
              "      <td>PHY318495</td>\n",
              "      <td>NaN</td>\n",
              "      <td>2009-08-31</td>\n",
              "      <td>...</td>\n",
              "      <td>NaN</td>\n",
              "      <td>NaN</td>\n",
              "      <td>NaN</td>\n",
              "      <td>NaN</td>\n",
              "      <td>7092.0</td>\n",
              "      <td>NaN</td>\n",
              "      <td>NaN</td>\n",
              "      <td>NaN</td>\n",
              "      <td>NaN</td>\n",
              "      <td>NaN</td>\n",
              "    </tr>\n",
              "    <tr>\n",
              "      <th>2</th>\n",
              "      <td>BENE11001</td>\n",
              "      <td>CLM68358</td>\n",
              "      <td>2009-09-17</td>\n",
              "      <td>2009-09-20</td>\n",
              "      <td>PRV56046</td>\n",
              "      <td>5000</td>\n",
              "      <td>PHY372395</td>\n",
              "      <td>NaN</td>\n",
              "      <td>PHY324689</td>\n",
              "      <td>2009-09-17</td>\n",
              "      <td>...</td>\n",
              "      <td>NaN</td>\n",
              "      <td>NaN</td>\n",
              "      <td>NaN</td>\n",
              "      <td>NaN</td>\n",
              "      <td>NaN</td>\n",
              "      <td>NaN</td>\n",
              "      <td>NaN</td>\n",
              "      <td>NaN</td>\n",
              "      <td>NaN</td>\n",
              "      <td>NaN</td>\n",
              "    </tr>\n",
              "    <tr>\n",
              "      <th>3</th>\n",
              "      <td>BENE11011</td>\n",
              "      <td>CLM38412</td>\n",
              "      <td>2009-02-14</td>\n",
              "      <td>2009-02-22</td>\n",
              "      <td>PRV52405</td>\n",
              "      <td>5000</td>\n",
              "      <td>PHY369659</td>\n",
              "      <td>PHY392961</td>\n",
              "      <td>PHY349768</td>\n",
              "      <td>2009-02-14</td>\n",
              "      <td>...</td>\n",
              "      <td>25062</td>\n",
              "      <td>40390</td>\n",
              "      <td>4019</td>\n",
              "      <td>NaN</td>\n",
              "      <td>331.0</td>\n",
              "      <td>NaN</td>\n",
              "      <td>NaN</td>\n",
              "      <td>NaN</td>\n",
              "      <td>NaN</td>\n",
              "      <td>NaN</td>\n",
              "    </tr>\n",
              "    <tr>\n",
              "      <th>4</th>\n",
              "      <td>BENE11014</td>\n",
              "      <td>CLM63689</td>\n",
              "      <td>2009-08-13</td>\n",
              "      <td>2009-08-30</td>\n",
              "      <td>PRV56614</td>\n",
              "      <td>10000</td>\n",
              "      <td>PHY379376</td>\n",
              "      <td>PHY398258</td>\n",
              "      <td>NaN</td>\n",
              "      <td>2009-08-13</td>\n",
              "      <td>...</td>\n",
              "      <td>5119</td>\n",
              "      <td>29620</td>\n",
              "      <td>20300</td>\n",
              "      <td>NaN</td>\n",
              "      <td>3893.0</td>\n",
              "      <td>NaN</td>\n",
              "      <td>NaN</td>\n",
              "      <td>NaN</td>\n",
              "      <td>NaN</td>\n",
              "      <td>NaN</td>\n",
              "    </tr>\n",
              "  </tbody>\n",
              "</table>\n",
              "<p>5 rows × 30 columns</p>\n",
              "</div>\n",
              "      <button class=\"colab-df-convert\" onclick=\"convertToInteractive('df-21df0bc3-154d-472e-8b3a-dbce8bc152fe')\"\n",
              "              title=\"Convert this dataframe to an interactive table.\"\n",
              "              style=\"display:none;\">\n",
              "        \n",
              "  <svg xmlns=\"http://www.w3.org/2000/svg\" height=\"24px\"viewBox=\"0 0 24 24\"\n",
              "       width=\"24px\">\n",
              "    <path d=\"M0 0h24v24H0V0z\" fill=\"none\"/>\n",
              "    <path d=\"M18.56 5.44l.94 2.06.94-2.06 2.06-.94-2.06-.94-.94-2.06-.94 2.06-2.06.94zm-11 1L8.5 8.5l.94-2.06 2.06-.94-2.06-.94L8.5 2.5l-.94 2.06-2.06.94zm10 10l.94 2.06.94-2.06 2.06-.94-2.06-.94-.94-2.06-.94 2.06-2.06.94z\"/><path d=\"M17.41 7.96l-1.37-1.37c-.4-.4-.92-.59-1.43-.59-.52 0-1.04.2-1.43.59L10.3 9.45l-7.72 7.72c-.78.78-.78 2.05 0 2.83L4 21.41c.39.39.9.59 1.41.59.51 0 1.02-.2 1.41-.59l7.78-7.78 2.81-2.81c.8-.78.8-2.07 0-2.86zM5.41 20L4 18.59l7.72-7.72 1.47 1.35L5.41 20z\"/>\n",
              "  </svg>\n",
              "      </button>\n",
              "      \n",
              "  <style>\n",
              "    .colab-df-container {\n",
              "      display:flex;\n",
              "      flex-wrap:wrap;\n",
              "      gap: 12px;\n",
              "    }\n",
              "\n",
              "    .colab-df-convert {\n",
              "      background-color: #E8F0FE;\n",
              "      border: none;\n",
              "      border-radius: 50%;\n",
              "      cursor: pointer;\n",
              "      display: none;\n",
              "      fill: #1967D2;\n",
              "      height: 32px;\n",
              "      padding: 0 0 0 0;\n",
              "      width: 32px;\n",
              "    }\n",
              "\n",
              "    .colab-df-convert:hover {\n",
              "      background-color: #E2EBFA;\n",
              "      box-shadow: 0px 1px 2px rgba(60, 64, 67, 0.3), 0px 1px 3px 1px rgba(60, 64, 67, 0.15);\n",
              "      fill: #174EA6;\n",
              "    }\n",
              "\n",
              "    [theme=dark] .colab-df-convert {\n",
              "      background-color: #3B4455;\n",
              "      fill: #D2E3FC;\n",
              "    }\n",
              "\n",
              "    [theme=dark] .colab-df-convert:hover {\n",
              "      background-color: #434B5C;\n",
              "      box-shadow: 0px 1px 3px 1px rgba(0, 0, 0, 0.15);\n",
              "      filter: drop-shadow(0px 1px 2px rgba(0, 0, 0, 0.3));\n",
              "      fill: #FFFFFF;\n",
              "    }\n",
              "  </style>\n",
              "\n",
              "      <script>\n",
              "        const buttonEl =\n",
              "          document.querySelector('#df-21df0bc3-154d-472e-8b3a-dbce8bc152fe button.colab-df-convert');\n",
              "        buttonEl.style.display =\n",
              "          google.colab.kernel.accessAllowed ? 'block' : 'none';\n",
              "\n",
              "        async function convertToInteractive(key) {\n",
              "          const element = document.querySelector('#df-21df0bc3-154d-472e-8b3a-dbce8bc152fe');\n",
              "          const dataTable =\n",
              "            await google.colab.kernel.invokeFunction('convertToInteractive',\n",
              "                                                     [key], {});\n",
              "          if (!dataTable) return;\n",
              "\n",
              "          const docLinkHtml = 'Like what you see? Visit the ' +\n",
              "            '<a target=\"_blank\" href=https://colab.research.google.com/notebooks/data_table.ipynb>data table notebook</a>'\n",
              "            + ' to learn more about interactive tables.';\n",
              "          element.innerHTML = '';\n",
              "          dataTable['output_type'] = 'display_data';\n",
              "          await google.colab.output.renderOutput(dataTable, element);\n",
              "          const docLink = document.createElement('div');\n",
              "          docLink.innerHTML = docLinkHtml;\n",
              "          element.appendChild(docLink);\n",
              "        }\n",
              "      </script>\n",
              "    </div>\n",
              "  </div>\n",
              "  "
            ]
          },
          "metadata": {},
          "execution_count": 7
        }
      ],
      "source": [
        "train_inpatient.head()"
      ],
      "metadata": {
        "pycharm": {
          "name": "#%%\n"
        },
        "colab": {
          "base_uri": "https://localhost:8080/",
          "height": 300
        },
        "id": "35LgieldR9x1",
        "outputId": "ad9623e1-01f4-41d4-ea76-cfaffbb36ef0"
      }
    },
    {
      "cell_type": "code",
      "execution_count": null,
      "outputs": [
        {
          "output_type": "execute_result",
          "data": {
            "text/plain": [
              "      BeneID    ClaimID ClaimStartDt  ClaimEndDt  Provider  \\\n",
              "0  BENE11002  CLM624349   2009-10-11  2009-10-11  PRV56011   \n",
              "1  BENE11003  CLM189947   2009-02-12  2009-02-12  PRV57610   \n",
              "2  BENE11003  CLM438021   2009-06-27  2009-06-27  PRV57595   \n",
              "3  BENE11004  CLM121801   2009-01-06  2009-01-06  PRV56011   \n",
              "4  BENE11004  CLM150998   2009-01-22  2009-01-22  PRV56011   \n",
              "\n",
              "   InscClaimAmtReimbursed AttendingPhysician OperatingPhysician  \\\n",
              "0                      30          PHY326117                NaN   \n",
              "1                      80          PHY362868                NaN   \n",
              "2                      10          PHY328821                NaN   \n",
              "3                      40          PHY334319                NaN   \n",
              "4                     200          PHY403831                NaN   \n",
              "\n",
              "  OtherPhysician ClmDiagnosisCode_1  ... ClmDiagnosisCode_9  \\\n",
              "0            NaN              78943  ...                NaN   \n",
              "1            NaN               6115  ...                NaN   \n",
              "2            NaN               2723  ...                NaN   \n",
              "3            NaN              71988  ...                NaN   \n",
              "4            NaN              82382  ...                NaN   \n",
              "\n",
              "  ClmDiagnosisCode_10 ClmProcedureCode_1 ClmProcedureCode_2  \\\n",
              "0                 NaN                NaN                NaN   \n",
              "1                 NaN                NaN                NaN   \n",
              "2                 NaN                NaN                NaN   \n",
              "3                 NaN                NaN                NaN   \n",
              "4                 NaN                NaN                NaN   \n",
              "\n",
              "  ClmProcedureCode_3 ClmProcedureCode_4 ClmProcedureCode_5 ClmProcedureCode_6  \\\n",
              "0                NaN                NaN                NaN                NaN   \n",
              "1                NaN                NaN                NaN                NaN   \n",
              "2                NaN                NaN                NaN                NaN   \n",
              "3                NaN                NaN                NaN                NaN   \n",
              "4                NaN                NaN                NaN                NaN   \n",
              "\n",
              "  DeductibleAmtPaid  ClmAdmitDiagnosisCode  \n",
              "0                 0                  56409  \n",
              "1                 0                  79380  \n",
              "2                 0                    NaN  \n",
              "3                 0                    NaN  \n",
              "4                 0                  71947  \n",
              "\n",
              "[5 rows x 27 columns]"
            ],
            "text/html": [
              "\n",
              "  <div id=\"df-ccc9685b-9515-4de0-bcbc-d587ad0c97c4\">\n",
              "    <div class=\"colab-df-container\">\n",
              "      <div>\n",
              "<style scoped>\n",
              "    .dataframe tbody tr th:only-of-type {\n",
              "        vertical-align: middle;\n",
              "    }\n",
              "\n",
              "    .dataframe tbody tr th {\n",
              "        vertical-align: top;\n",
              "    }\n",
              "\n",
              "    .dataframe thead th {\n",
              "        text-align: right;\n",
              "    }\n",
              "</style>\n",
              "<table border=\"1\" class=\"dataframe\">\n",
              "  <thead>\n",
              "    <tr style=\"text-align: right;\">\n",
              "      <th></th>\n",
              "      <th>BeneID</th>\n",
              "      <th>ClaimID</th>\n",
              "      <th>ClaimStartDt</th>\n",
              "      <th>ClaimEndDt</th>\n",
              "      <th>Provider</th>\n",
              "      <th>InscClaimAmtReimbursed</th>\n",
              "      <th>AttendingPhysician</th>\n",
              "      <th>OperatingPhysician</th>\n",
              "      <th>OtherPhysician</th>\n",
              "      <th>ClmDiagnosisCode_1</th>\n",
              "      <th>...</th>\n",
              "      <th>ClmDiagnosisCode_9</th>\n",
              "      <th>ClmDiagnosisCode_10</th>\n",
              "      <th>ClmProcedureCode_1</th>\n",
              "      <th>ClmProcedureCode_2</th>\n",
              "      <th>ClmProcedureCode_3</th>\n",
              "      <th>ClmProcedureCode_4</th>\n",
              "      <th>ClmProcedureCode_5</th>\n",
              "      <th>ClmProcedureCode_6</th>\n",
              "      <th>DeductibleAmtPaid</th>\n",
              "      <th>ClmAdmitDiagnosisCode</th>\n",
              "    </tr>\n",
              "  </thead>\n",
              "  <tbody>\n",
              "    <tr>\n",
              "      <th>0</th>\n",
              "      <td>BENE11002</td>\n",
              "      <td>CLM624349</td>\n",
              "      <td>2009-10-11</td>\n",
              "      <td>2009-10-11</td>\n",
              "      <td>PRV56011</td>\n",
              "      <td>30</td>\n",
              "      <td>PHY326117</td>\n",
              "      <td>NaN</td>\n",
              "      <td>NaN</td>\n",
              "      <td>78943</td>\n",
              "      <td>...</td>\n",
              "      <td>NaN</td>\n",
              "      <td>NaN</td>\n",
              "      <td>NaN</td>\n",
              "      <td>NaN</td>\n",
              "      <td>NaN</td>\n",
              "      <td>NaN</td>\n",
              "      <td>NaN</td>\n",
              "      <td>NaN</td>\n",
              "      <td>0</td>\n",
              "      <td>56409</td>\n",
              "    </tr>\n",
              "    <tr>\n",
              "      <th>1</th>\n",
              "      <td>BENE11003</td>\n",
              "      <td>CLM189947</td>\n",
              "      <td>2009-02-12</td>\n",
              "      <td>2009-02-12</td>\n",
              "      <td>PRV57610</td>\n",
              "      <td>80</td>\n",
              "      <td>PHY362868</td>\n",
              "      <td>NaN</td>\n",
              "      <td>NaN</td>\n",
              "      <td>6115</td>\n",
              "      <td>...</td>\n",
              "      <td>NaN</td>\n",
              "      <td>NaN</td>\n",
              "      <td>NaN</td>\n",
              "      <td>NaN</td>\n",
              "      <td>NaN</td>\n",
              "      <td>NaN</td>\n",
              "      <td>NaN</td>\n",
              "      <td>NaN</td>\n",
              "      <td>0</td>\n",
              "      <td>79380</td>\n",
              "    </tr>\n",
              "    <tr>\n",
              "      <th>2</th>\n",
              "      <td>BENE11003</td>\n",
              "      <td>CLM438021</td>\n",
              "      <td>2009-06-27</td>\n",
              "      <td>2009-06-27</td>\n",
              "      <td>PRV57595</td>\n",
              "      <td>10</td>\n",
              "      <td>PHY328821</td>\n",
              "      <td>NaN</td>\n",
              "      <td>NaN</td>\n",
              "      <td>2723</td>\n",
              "      <td>...</td>\n",
              "      <td>NaN</td>\n",
              "      <td>NaN</td>\n",
              "      <td>NaN</td>\n",
              "      <td>NaN</td>\n",
              "      <td>NaN</td>\n",
              "      <td>NaN</td>\n",
              "      <td>NaN</td>\n",
              "      <td>NaN</td>\n",
              "      <td>0</td>\n",
              "      <td>NaN</td>\n",
              "    </tr>\n",
              "    <tr>\n",
              "      <th>3</th>\n",
              "      <td>BENE11004</td>\n",
              "      <td>CLM121801</td>\n",
              "      <td>2009-01-06</td>\n",
              "      <td>2009-01-06</td>\n",
              "      <td>PRV56011</td>\n",
              "      <td>40</td>\n",
              "      <td>PHY334319</td>\n",
              "      <td>NaN</td>\n",
              "      <td>NaN</td>\n",
              "      <td>71988</td>\n",
              "      <td>...</td>\n",
              "      <td>NaN</td>\n",
              "      <td>NaN</td>\n",
              "      <td>NaN</td>\n",
              "      <td>NaN</td>\n",
              "      <td>NaN</td>\n",
              "      <td>NaN</td>\n",
              "      <td>NaN</td>\n",
              "      <td>NaN</td>\n",
              "      <td>0</td>\n",
              "      <td>NaN</td>\n",
              "    </tr>\n",
              "    <tr>\n",
              "      <th>4</th>\n",
              "      <td>BENE11004</td>\n",
              "      <td>CLM150998</td>\n",
              "      <td>2009-01-22</td>\n",
              "      <td>2009-01-22</td>\n",
              "      <td>PRV56011</td>\n",
              "      <td>200</td>\n",
              "      <td>PHY403831</td>\n",
              "      <td>NaN</td>\n",
              "      <td>NaN</td>\n",
              "      <td>82382</td>\n",
              "      <td>...</td>\n",
              "      <td>NaN</td>\n",
              "      <td>NaN</td>\n",
              "      <td>NaN</td>\n",
              "      <td>NaN</td>\n",
              "      <td>NaN</td>\n",
              "      <td>NaN</td>\n",
              "      <td>NaN</td>\n",
              "      <td>NaN</td>\n",
              "      <td>0</td>\n",
              "      <td>71947</td>\n",
              "    </tr>\n",
              "  </tbody>\n",
              "</table>\n",
              "<p>5 rows × 27 columns</p>\n",
              "</div>\n",
              "      <button class=\"colab-df-convert\" onclick=\"convertToInteractive('df-ccc9685b-9515-4de0-bcbc-d587ad0c97c4')\"\n",
              "              title=\"Convert this dataframe to an interactive table.\"\n",
              "              style=\"display:none;\">\n",
              "        \n",
              "  <svg xmlns=\"http://www.w3.org/2000/svg\" height=\"24px\"viewBox=\"0 0 24 24\"\n",
              "       width=\"24px\">\n",
              "    <path d=\"M0 0h24v24H0V0z\" fill=\"none\"/>\n",
              "    <path d=\"M18.56 5.44l.94 2.06.94-2.06 2.06-.94-2.06-.94-.94-2.06-.94 2.06-2.06.94zm-11 1L8.5 8.5l.94-2.06 2.06-.94-2.06-.94L8.5 2.5l-.94 2.06-2.06.94zm10 10l.94 2.06.94-2.06 2.06-.94-2.06-.94-.94-2.06-.94 2.06-2.06.94z\"/><path d=\"M17.41 7.96l-1.37-1.37c-.4-.4-.92-.59-1.43-.59-.52 0-1.04.2-1.43.59L10.3 9.45l-7.72 7.72c-.78.78-.78 2.05 0 2.83L4 21.41c.39.39.9.59 1.41.59.51 0 1.02-.2 1.41-.59l7.78-7.78 2.81-2.81c.8-.78.8-2.07 0-2.86zM5.41 20L4 18.59l7.72-7.72 1.47 1.35L5.41 20z\"/>\n",
              "  </svg>\n",
              "      </button>\n",
              "      \n",
              "  <style>\n",
              "    .colab-df-container {\n",
              "      display:flex;\n",
              "      flex-wrap:wrap;\n",
              "      gap: 12px;\n",
              "    }\n",
              "\n",
              "    .colab-df-convert {\n",
              "      background-color: #E8F0FE;\n",
              "      border: none;\n",
              "      border-radius: 50%;\n",
              "      cursor: pointer;\n",
              "      display: none;\n",
              "      fill: #1967D2;\n",
              "      height: 32px;\n",
              "      padding: 0 0 0 0;\n",
              "      width: 32px;\n",
              "    }\n",
              "\n",
              "    .colab-df-convert:hover {\n",
              "      background-color: #E2EBFA;\n",
              "      box-shadow: 0px 1px 2px rgba(60, 64, 67, 0.3), 0px 1px 3px 1px rgba(60, 64, 67, 0.15);\n",
              "      fill: #174EA6;\n",
              "    }\n",
              "\n",
              "    [theme=dark] .colab-df-convert {\n",
              "      background-color: #3B4455;\n",
              "      fill: #D2E3FC;\n",
              "    }\n",
              "\n",
              "    [theme=dark] .colab-df-convert:hover {\n",
              "      background-color: #434B5C;\n",
              "      box-shadow: 0px 1px 3px 1px rgba(0, 0, 0, 0.15);\n",
              "      filter: drop-shadow(0px 1px 2px rgba(0, 0, 0, 0.3));\n",
              "      fill: #FFFFFF;\n",
              "    }\n",
              "  </style>\n",
              "\n",
              "      <script>\n",
              "        const buttonEl =\n",
              "          document.querySelector('#df-ccc9685b-9515-4de0-bcbc-d587ad0c97c4 button.colab-df-convert');\n",
              "        buttonEl.style.display =\n",
              "          google.colab.kernel.accessAllowed ? 'block' : 'none';\n",
              "\n",
              "        async function convertToInteractive(key) {\n",
              "          const element = document.querySelector('#df-ccc9685b-9515-4de0-bcbc-d587ad0c97c4');\n",
              "          const dataTable =\n",
              "            await google.colab.kernel.invokeFunction('convertToInteractive',\n",
              "                                                     [key], {});\n",
              "          if (!dataTable) return;\n",
              "\n",
              "          const docLinkHtml = 'Like what you see? Visit the ' +\n",
              "            '<a target=\"_blank\" href=https://colab.research.google.com/notebooks/data_table.ipynb>data table notebook</a>'\n",
              "            + ' to learn more about interactive tables.';\n",
              "          element.innerHTML = '';\n",
              "          dataTable['output_type'] = 'display_data';\n",
              "          await google.colab.output.renderOutput(dataTable, element);\n",
              "          const docLink = document.createElement('div');\n",
              "          docLink.innerHTML = docLinkHtml;\n",
              "          element.appendChild(docLink);\n",
              "        }\n",
              "      </script>\n",
              "    </div>\n",
              "  </div>\n",
              "  "
            ]
          },
          "metadata": {},
          "execution_count": 8
        }
      ],
      "source": [
        "train_outpatient.head()"
      ],
      "metadata": {
        "pycharm": {
          "name": "#%%\n"
        },
        "colab": {
          "base_uri": "https://localhost:8080/",
          "height": 300
        },
        "id": "KYQOEmrtR9x3",
        "outputId": "5feae486-efb5-4f2b-db86-26d382a7b424"
      }
    },
    {
      "cell_type": "code",
      "execution_count": null,
      "outputs": [
        {
          "output_type": "execute_result",
          "data": {
            "text/plain": [
              "   Provider PotentialFraud\n",
              "0  PRV51001             No\n",
              "1  PRV51003            Yes\n",
              "2  PRV51004             No\n",
              "3  PRV51005            Yes\n",
              "4  PRV51007             No"
            ],
            "text/html": [
              "\n",
              "  <div id=\"df-e103d597-5eba-474a-9c8b-6e5ccaf72822\">\n",
              "    <div class=\"colab-df-container\">\n",
              "      <div>\n",
              "<style scoped>\n",
              "    .dataframe tbody tr th:only-of-type {\n",
              "        vertical-align: middle;\n",
              "    }\n",
              "\n",
              "    .dataframe tbody tr th {\n",
              "        vertical-align: top;\n",
              "    }\n",
              "\n",
              "    .dataframe thead th {\n",
              "        text-align: right;\n",
              "    }\n",
              "</style>\n",
              "<table border=\"1\" class=\"dataframe\">\n",
              "  <thead>\n",
              "    <tr style=\"text-align: right;\">\n",
              "      <th></th>\n",
              "      <th>Provider</th>\n",
              "      <th>PotentialFraud</th>\n",
              "    </tr>\n",
              "  </thead>\n",
              "  <tbody>\n",
              "    <tr>\n",
              "      <th>0</th>\n",
              "      <td>PRV51001</td>\n",
              "      <td>No</td>\n",
              "    </tr>\n",
              "    <tr>\n",
              "      <th>1</th>\n",
              "      <td>PRV51003</td>\n",
              "      <td>Yes</td>\n",
              "    </tr>\n",
              "    <tr>\n",
              "      <th>2</th>\n",
              "      <td>PRV51004</td>\n",
              "      <td>No</td>\n",
              "    </tr>\n",
              "    <tr>\n",
              "      <th>3</th>\n",
              "      <td>PRV51005</td>\n",
              "      <td>Yes</td>\n",
              "    </tr>\n",
              "    <tr>\n",
              "      <th>4</th>\n",
              "      <td>PRV51007</td>\n",
              "      <td>No</td>\n",
              "    </tr>\n",
              "  </tbody>\n",
              "</table>\n",
              "</div>\n",
              "      <button class=\"colab-df-convert\" onclick=\"convertToInteractive('df-e103d597-5eba-474a-9c8b-6e5ccaf72822')\"\n",
              "              title=\"Convert this dataframe to an interactive table.\"\n",
              "              style=\"display:none;\">\n",
              "        \n",
              "  <svg xmlns=\"http://www.w3.org/2000/svg\" height=\"24px\"viewBox=\"0 0 24 24\"\n",
              "       width=\"24px\">\n",
              "    <path d=\"M0 0h24v24H0V0z\" fill=\"none\"/>\n",
              "    <path d=\"M18.56 5.44l.94 2.06.94-2.06 2.06-.94-2.06-.94-.94-2.06-.94 2.06-2.06.94zm-11 1L8.5 8.5l.94-2.06 2.06-.94-2.06-.94L8.5 2.5l-.94 2.06-2.06.94zm10 10l.94 2.06.94-2.06 2.06-.94-2.06-.94-.94-2.06-.94 2.06-2.06.94z\"/><path d=\"M17.41 7.96l-1.37-1.37c-.4-.4-.92-.59-1.43-.59-.52 0-1.04.2-1.43.59L10.3 9.45l-7.72 7.72c-.78.78-.78 2.05 0 2.83L4 21.41c.39.39.9.59 1.41.59.51 0 1.02-.2 1.41-.59l7.78-7.78 2.81-2.81c.8-.78.8-2.07 0-2.86zM5.41 20L4 18.59l7.72-7.72 1.47 1.35L5.41 20z\"/>\n",
              "  </svg>\n",
              "      </button>\n",
              "      \n",
              "  <style>\n",
              "    .colab-df-container {\n",
              "      display:flex;\n",
              "      flex-wrap:wrap;\n",
              "      gap: 12px;\n",
              "    }\n",
              "\n",
              "    .colab-df-convert {\n",
              "      background-color: #E8F0FE;\n",
              "      border: none;\n",
              "      border-radius: 50%;\n",
              "      cursor: pointer;\n",
              "      display: none;\n",
              "      fill: #1967D2;\n",
              "      height: 32px;\n",
              "      padding: 0 0 0 0;\n",
              "      width: 32px;\n",
              "    }\n",
              "\n",
              "    .colab-df-convert:hover {\n",
              "      background-color: #E2EBFA;\n",
              "      box-shadow: 0px 1px 2px rgba(60, 64, 67, 0.3), 0px 1px 3px 1px rgba(60, 64, 67, 0.15);\n",
              "      fill: #174EA6;\n",
              "    }\n",
              "\n",
              "    [theme=dark] .colab-df-convert {\n",
              "      background-color: #3B4455;\n",
              "      fill: #D2E3FC;\n",
              "    }\n",
              "\n",
              "    [theme=dark] .colab-df-convert:hover {\n",
              "      background-color: #434B5C;\n",
              "      box-shadow: 0px 1px 3px 1px rgba(0, 0, 0, 0.15);\n",
              "      filter: drop-shadow(0px 1px 2px rgba(0, 0, 0, 0.3));\n",
              "      fill: #FFFFFF;\n",
              "    }\n",
              "  </style>\n",
              "\n",
              "      <script>\n",
              "        const buttonEl =\n",
              "          document.querySelector('#df-e103d597-5eba-474a-9c8b-6e5ccaf72822 button.colab-df-convert');\n",
              "        buttonEl.style.display =\n",
              "          google.colab.kernel.accessAllowed ? 'block' : 'none';\n",
              "\n",
              "        async function convertToInteractive(key) {\n",
              "          const element = document.querySelector('#df-e103d597-5eba-474a-9c8b-6e5ccaf72822');\n",
              "          const dataTable =\n",
              "            await google.colab.kernel.invokeFunction('convertToInteractive',\n",
              "                                                     [key], {});\n",
              "          if (!dataTable) return;\n",
              "\n",
              "          const docLinkHtml = 'Like what you see? Visit the ' +\n",
              "            '<a target=\"_blank\" href=https://colab.research.google.com/notebooks/data_table.ipynb>data table notebook</a>'\n",
              "            + ' to learn more about interactive tables.';\n",
              "          element.innerHTML = '';\n",
              "          dataTable['output_type'] = 'display_data';\n",
              "          await google.colab.output.renderOutput(dataTable, element);\n",
              "          const docLink = document.createElement('div');\n",
              "          docLink.innerHTML = docLinkHtml;\n",
              "          element.appendChild(docLink);\n",
              "        }\n",
              "      </script>\n",
              "    </div>\n",
              "  </div>\n",
              "  "
            ]
          },
          "metadata": {},
          "execution_count": 9
        }
      ],
      "source": [
        "train.head()"
      ],
      "metadata": {
        "pycharm": {
          "name": "#%%\n"
        },
        "colab": {
          "base_uri": "https://localhost:8080/",
          "height": 206
        },
        "id": "ITzkbgBQR9x6",
        "outputId": "78b9e855-b6d2-4659-84ed-7acb89ebd631"
      }
    },
    {
      "cell_type": "code",
      "execution_count": null,
      "outputs": [],
      "source": [
        "def percentage_with_hue(plot, feature, Number_of_categories, hue_categories, x_pos=0, y_pos=0, fontsize = 12):\n",
        "    '''\n",
        "    This function prints percentage of a barplot when plotted with hue.\n",
        "    '''\n",
        "    # get the height of each bar\n",
        "    a = [p.get_height() for p in plot.patches]\n",
        "    patch = [p for p in plot.patches]\n",
        "    for i in range(Number_of_categories):\n",
        "        total = feature.value_counts().values[i]\n",
        "        for j in range(hue_categories):\n",
        "            # calculate percentage of the category\n",
        "            percentage = '{:.2f}%'.format(100 * a[(j*Number_of_categories + i)]/total)\n",
        "            # set the x and y position of the percentage value to look good\n",
        "            x = patch[(j*Number_of_categories + i)].get_x() + patch[(j*Number_of_categories + i)].get_width() / 2 + x_pos\n",
        "            y = patch[(j*Number_of_categories + i)].get_y() + patch[(j*Number_of_categories + i)].get_height() + y_pos\n",
        "            ax.annotate(percentage, (x, y), fontsize = fontsize)\n",
        "    plt.show()\n",
        "    \n",
        "def percentage_without_hue(ax, feature, x_pos=0, y_pos=0, fontsize = 12 ):\n",
        "    '''\n",
        "    This function prints percentage of a barplot when plotted without hue.\n",
        "    '''\n",
        "    total = len(feature)\n",
        "    for p in ax.patches:\n",
        "        # calculate percentage of the category\n",
        "        percentage = '{:.2f}%'.format(100 * p.get_height()/total)\n",
        "        x = p.get_x() + p.get_width()/2 + x_pos # To adjust the position of the percentage value\n",
        "        y = p.get_y() + p.get_height() + y_pos # To adjust the position of the percentage value\n",
        "        ax.annotate(percentage, (x, y),ha='center', size = fontsize)\n",
        "    plt.show()"
      ],
      "metadata": {
        "pycharm": {
          "name": "#%%\n"
        },
        "id": "3_NbW_KIR9x9"
      }
    },
    {
      "cell_type": "code",
      "execution_count": null,
      "outputs": [
        {
          "output_type": "display_data",
          "data": {
            "text/plain": [
              "<Figure size 720x432 with 1 Axes>"
            ],
            "image/png": "[encoded data removed]"
          },
          "metadata": {
            "needs_background": "light"
          }
        }
      ],
      "source": [
        "# Check distribution of potential Fraudulent providers\n",
        "plt.figure(figsize=(10,6))\n",
        "sns.set_style('darkgrid', {'axes.grid' : False})\n",
        "ax = sns.countplot(x='PotentialFraud',data =train)\n",
        "plt.xticks(size = 12)\n",
        "plt.yticks(size = 12)\n",
        "plt.title('Distribution of  Class Labels', fontsize=20)\n",
        "plt.xlabel('Potentially Fraudlent', size = 14)\n",
        "plt.ylabel('Count of fraud', size = 14)\n",
        "percentage_without_hue(ax, train['PotentialFraud'], 0,40,14)"
      ],
      "metadata": {
        "pycharm": {
          "name": "#%%\n"
        },
        "colab": {
          "base_uri": "https://localhost:8080/",
          "height": 416
        },
        "id": "Dx6ghDgwR9yB",
        "outputId": "58585b01-002c-49ec-8ced-0e674380ad5e"
      }
    },
    {
      "cell_type": "code",
      "execution_count": null,
      "outputs": [],
      "source": [
        "\n",
        "\n",
        "# Replacing 2 with 0 for chronic conditions, 0 indicates chronic condition is No\n",
        "\n",
        "train_beneficiary = train_beneficiary.replace({'ChronicCond_Alzheimer': 2, 'ChronicCond_Heartfailure': 2, 'ChronicCond_KidneyDisease': 2,\n",
        "                           'ChronicCond_Cancer': 2, 'ChronicCond_ObstrPulmonary': 2, 'ChronicCond_Depression': 2, \n",
        "                           'ChronicCond_Diabetes': 2, 'ChronicCond_IschemicHeart': 2, 'ChronicCond_Osteoporasis': 2, \n",
        "                           'ChronicCond_rheumatoidarthritis': 2, 'ChronicCond_stroke': 2 }, 0)\n",
        "\n",
        "# For RenalDiseaseIndicator replacing 'Y' with 1\n",
        "train_beneficiary = train_beneficiary.replace({'RenalDiseaseIndicator': 'Y'}, 1)\n",
        "\n",
        "test_Beneficiary = test_beneficiary.replace({'ChronicCond_Alzheimer': 2, 'ChronicCond_Heartfailure': 2, 'ChronicCond_KidneyDisease': 2,\n",
        "                           'ChronicCond_Cancer': 2, 'ChronicCond_ObstrPulmonary': 2, 'ChronicCond_Depression': 2, \n",
        "                           'ChronicCond_Diabetes': 2, 'ChronicCond_IschemicHeart': 2, 'ChronicCond_Osteoporasis': 2, \n",
        "                           'ChronicCond_rheumatoidarthritis': 2, 'ChronicCond_stroke': 2 }, 0)\n",
        "\n",
        "test_beneficiary = test_beneficiary.replace({'RenalDiseaseIndicator': 'Y'}, 1)\n"
      ],
      "metadata": {
        "pycharm": {
          "name": "#%%\n"
        },
        "id": "plehN8kyR9yD"
      }
    },
    {
      "cell_type": "code",
      "execution_count": null,
      "outputs": [],
      "source": [
        "# convert all these columns datatypes to numeric\n",
        "train_beneficiary[[\"ChronicCond_Alzheimer\", \"ChronicCond_Heartfailure\", \"ChronicCond_KidneyDisease\", \"ChronicCond_Cancer\", \"ChronicCond_ObstrPulmonary\", \"ChronicCond_Depression\", \"ChronicCond_Diabetes\", \"ChronicCond_IschemicHeart\", \"ChronicCond_Osteoporasis\", \"ChronicCond_rheumatoidarthritis\", \"ChronicCond_stroke\", \"RenalDiseaseIndicator\"]] = train_beneficiary[[\"ChronicCond_Alzheimer\", \"ChronicCond_Heartfailure\", \"ChronicCond_KidneyDisease\", \"ChronicCond_Cancer\", \"ChronicCond_ObstrPulmonary\", \"ChronicCond_Depression\", \"ChronicCond_Diabetes\", \"ChronicCond_IschemicHeart\", \"ChronicCond_Osteoporasis\", \"ChronicCond_rheumatoidarthritis\", \"ChronicCond_stroke\", \"RenalDiseaseIndicator\"]].apply(pd.to_numeric)\n",
        "\n",
        "test_beneficiary[[\"ChronicCond_Alzheimer\", \"ChronicCond_Heartfailure\", \"ChronicCond_KidneyDisease\", \"ChronicCond_Cancer\", \"ChronicCond_ObstrPulmonary\", \"ChronicCond_Depression\", \"ChronicCond_Diabetes\", \"ChronicCond_IschemicHeart\", \"ChronicCond_Osteoporasis\", \"ChronicCond_rheumatoidarthritis\", \"ChronicCond_stroke\", \"RenalDiseaseIndicator\"]] = test_beneficiary[[\"ChronicCond_Alzheimer\", \"ChronicCond_Heartfailure\", \"ChronicCond_KidneyDisease\", \"ChronicCond_Cancer\", \"ChronicCond_ObstrPulmonary\", \"ChronicCond_Depression\", \"ChronicCond_Diabetes\", \"ChronicCond_IschemicHeart\", \"ChronicCond_Osteoporasis\", \"ChronicCond_rheumatoidarthritis\", \"ChronicCond_stroke\", \"RenalDiseaseIndicator\"]].apply(pd.to_numeric)\n"
      ],
      "metadata": {
        "pycharm": {
          "name": "#%%\n"
        },
        "id": "u_3eye9cR9yE"
      }
    },
    {
      "cell_type": "code",
      "execution_count": null,
      "outputs": [],
      "source": [
        "# Replacing '2' with '0' for Gender Type\n",
        "train_beneficiary = train_beneficiary.replace({'Gender': 2}, 0)\n",
        "test_beneficiary = test_beneficiary.replace({'Gender': 2}, 0)"
      ],
      "metadata": {
        "pycharm": {
          "name": "#%%\n"
        },
        "id": "9q2cgxFbR9yG"
      }
    },
    {
      "cell_type": "code",
      "execution_count": null,
      "outputs": [
        {
          "output_type": "display_data",
          "data": {
            "text/plain": [
              "<Figure size 1152x576 with 1 Axes>"
            ],
            "image/png": "[encoded data removed]"
          },
          "metadata": {}
        }
      ],
      "source": [
        "# Plot top 10 states from where the beneficiaries belong\n",
        "plt.figure(figsize=(16, 8))\n",
        "ax = sns.countplot(x='State',y=None, data=train_beneficiary, orient =\"v\", order = train_beneficiary['State'].value_counts().head(10).index)\n",
        "plt.title('Distribution of State (Train_Beneficiary)', fontsize=20)\n",
        "plt.xticks(size = 10)\n",
        "plt.yticks(size = 10)\n",
        "plt.xlabel('State Code', size = 14)\n",
        "plt.ylabel('State Count', size = 14)\n",
        "percentage_without_hue(ax, train_beneficiary['State'], 0.05, 80,12)\n"
      ],
      "metadata": {
        "pycharm": {
          "name": "#%%\n"
        },
        "colab": {
          "base_uri": "https://localhost:8080/",
          "height": 522
        },
        "id": "zy9qQE-JR9yH",
        "outputId": "363aea5b-71d8-4e10-bece-eef2de076dd2"
      }
    },
    {
      "cell_type": "code",
      "execution_count": null,
      "outputs": [
        {
          "output_type": "display_data",
          "data": {
            "text/plain": [
              "<Figure size 1152x576 with 1 Axes>"
            ],
            "image/png": "[encoded data removed]"
          },
          "metadata": {}
        }
      ],
      "source": [
        "plt.figure(figsize=(16, 8))\n",
        "ax = sns.countplot(x='Race',y=None, data=train_beneficiary, orient =\"v\", order = train_beneficiary['Race'].value_counts().index)\n",
        "plt.title('Distribution of  Race (Train_Beneficiary)', fontsize=20)\n",
        "plt.xticks(size = 10)\n",
        "plt.yticks(size = 10)\n",
        "plt.xlabel('Race Code', size = 14)\n",
        "plt.ylabel('Race Count', size = 14)\n",
        "percentage_without_hue(ax, train_beneficiary['Race'], 0.01, 200,12)"
      ],
      "metadata": {
        "pycharm": {
          "name": "#%%\n"
        },
        "colab": {
          "base_uri": "https://localhost:8080/",
          "height": 522
        },
        "id": "qhIX3yaaR9yI",
        "outputId": "84686668-5282-489a-9f8b-d2aa68197ce8"
      }
    },
    {
      "cell_type": "code",
      "execution_count": null,
      "outputs": [],
      "source": [
        "# Concat all the claim precedurecodes in a single dataframe\n",
        "ClmProcedureCode_IP_df = pd.DataFrame(columns = ['ProcedureCode'])\n",
        "ClmProcedureCode_IP_df['ProcedureCode'] = pd.concat([train_inpatient[\"ClmProcedureCode_1\"], \n",
        "                                   train_inpatient[\"ClmProcedureCode_2\"],\n",
        "                                   train_inpatient[\"ClmProcedureCode_3\"],\n",
        "                                   train_inpatient[\"ClmProcedureCode_4\"], \n",
        "                                   train_inpatient[\"ClmProcedureCode_5\"], \n",
        "                                   train_inpatient[\"ClmProcedureCode_6\"]], axis=0, sort=True).dropna()"
      ],
      "metadata": {
        "pycharm": {
          "name": "#%%\n"
        },
        "id": "aj1elUM8R9yK"
      }
    },
    {
      "cell_type": "code",
      "execution_count": null,
      "outputs": [
        {
          "output_type": "display_data",
          "data": {
            "text/plain": [
              "<Figure size 1152x576 with 1 Axes>"
            ],
            "image/png": "[encoded data removed]"
          },
          "metadata": {}
        }
      ],
      "source": [
        "# Plot the countplot for claim precedure codes (Top 20)\n",
        "plt.figure(figsize=(16, 8))\n",
        "ax = sns.countplot(x='ProcedureCode',y=None, data=ClmProcedureCode_IP_df, orient =\"v\", order = ClmProcedureCode_IP_df['ProcedureCode'].value_counts().head(10).index)\n",
        "plt.title('Distribution of Procedure Code (Train Inpatient)', fontsize=20)\n",
        "plt.xlabel('Procedure Code', size = 14)\n",
        "plt.ylabel('Count', size = 14)\n",
        "plt.xticks(rotation=-45)\n",
        "plt.yticks(size=10)\n",
        "plt.xticks(rotation=-45, size=10)\n",
        "percentage_without_hue(ax, ClmProcedureCode_IP_df['ProcedureCode'], 0.02, 0.01, 12)"
      ],
      "metadata": {
        "pycharm": {
          "name": "#%%\n"
        },
        "colab": {
          "base_uri": "https://localhost:8080/",
          "height": 544
        },
        "id": "1EznyV69R9yM",
        "outputId": "66fe4b5f-1577-4ab2-900a-23df1f942266"
      }
    },
    {
      "cell_type": "code",
      "execution_count": null,
      "outputs": [
        {
          "output_type": "display_data",
          "data": {
            "text/plain": [
              "<Figure size 1152x576 with 1 Axes>"
            ],
            "image/png": "[encoded data removed]"
          },
          "metadata": {}
        }
      ],
      "source": [
        "# Top 10 attending physician in terms of patient count\n",
        "plt.figure(figsize=(16, 8))\n",
        "ax = sns.countplot(x='AttendingPhysician',y=None, data=train_outpatient, orient =\"v\", order = train_outpatient['AttendingPhysician'].value_counts().iloc[:10].index)\n",
        "plt.title('Distribution of  Attending Physician (Train Outpatient)', fontsize=20)\n",
        "plt.xlabel('Attending Physician', size = 14)\n",
        "plt.ylabel('Physician Count', size = 14)\n",
        "plt.yticks(size=10)\n",
        "plt.xticks(rotation=-45, size=10)\n",
        "percentage_without_hue(ax, train_outpatient['AttendingPhysician'], 0.02, 2, 12)"
      ],
      "metadata": {
        "pycharm": {
          "name": "#%%\n"
        },
        "colab": {
          "base_uri": "https://localhost:8080/",
          "height": 560
        },
        "id": "NzFftqa9R9yO",
        "outputId": "f63bf63e-0995-4f2f-8069-b457f4eec81a"
      }
    },
    {
      "cell_type": "code",
      "execution_count": null,
      "outputs": [
        {
          "output_type": "stream",
          "name": "stdout",
          "text": [
            "(40474, 31)\n"
          ]
        }
      ],
      "source": [
        "#Calculate money lost in Fraud for both inpatient and outpatients\n",
        "#merging Inpatint and labeled fradulent providers\n",
        "inpatient_labeled_provider_df = pd.merge(train_inpatient , train , how='inner', on='Provider')\n",
        "print(inpatient_labeled_provider_df.shape)"
      ],
      "metadata": {
        "pycharm": {
          "name": "#%%\n"
        },
        "colab": {
          "base_uri": "https://localhost:8080/"
        },
        "id": "otWwF_abR9yQ",
        "outputId": "ca5c6f97-c5b8-4af4-b62d-92bab5c56482"
      }
    },
    {
      "cell_type": "code",
      "execution_count": null,
      "outputs": [
        {
          "output_type": "stream",
          "name": "stdout",
          "text": [
            "(517737, 28)\n"
          ]
        }
      ],
      "source": [
        "#merging Outpatint and labeled fradulent providers\n",
        "outpatient_labeled_provider_df = pd.merge(train_outpatient , train , how='inner', on='Provider')\n",
        "print(outpatient_labeled_provider_df.shape)"
      ],
      "metadata": {
        "pycharm": {
          "name": "#%%\n"
        },
        "colab": {
          "base_uri": "https://localhost:8080/"
        },
        "id": "VxopbD__R9yR",
        "outputId": "a295596e-fecb-4f23-cd7b-3b8c38aba4e1"
      }
    },
    {
      "cell_type": "code",
      "execution_count": null,
      "outputs": [
        {
          "output_type": "stream",
          "name": "stderr",
          "text": [
            "/usr/local/lib/python3.7/dist-packages/seaborn/distributions.py:2619: FutureWarning: `distplot` is a deprecated function and will be removed in a future version. Please adapt your code to use either `displot` (a figure-level function with similar flexibility) or `histplot` (an axes-level function for histograms).\n",
            "  warnings.warn(msg, FutureWarning)\n",
            "/usr/local/lib/python3.7/dist-packages/seaborn/distributions.py:2619: FutureWarning: `distplot` is a deprecated function and will be removed in a future version. Please adapt your code to use either `displot` (a figure-level function with similar flexibility) or `histplot` (an axes-level function for histograms).\n",
            "  warnings.warn(msg, FutureWarning)\n"
          ]
        },
        {
          "output_type": "display_data",
          "data": {
            "text/plain": [
              "<Figure size 728x360 with 2 Axes>"
            ],
            "image/png": "[encoded data removed]"
          },
          "metadata": {}
        },
        {
          "output_type": "display_data",
          "data": {
            "text/plain": [
              "<Figure size 432x288 with 0 Axes>"
            ]
          },
          "metadata": {}
        }
      ],
      "source": [
        "sns.FacetGrid(inpatient_labeled_provider_df, col='PotentialFraud',height=5).map(sns.distplot, \"InscClaimAmtReimbursed\",).add_legend()\n",
        "plt.show()\n",
        "plt.tight_layout()"
      ],
      "metadata": {
        "pycharm": {
          "name": "#%%\n"
        },
        "colab": {
          "base_uri": "https://localhost:8080/",
          "height": 476
        },
        "id": "KS4j5ySPR9yR",
        "outputId": "6d0362ff-f644-4d06-d816-6ff014e231e6"
      }
    },
    {
      "cell_type": "code",
      "execution_count": null,
      "outputs": [
        {
          "output_type": "stream",
          "name": "stdout",
          "text": [
            "Total money lost :  241288510\n"
          ]
        }
      ],
      "source": [
        "#calculatinng total money lost in fradulent encounters\n",
        "Total_money_lost = inpatient_labeled_provider_df.loc[inpatient_labeled_provider_df['PotentialFraud']== 'Yes'].InscClaimAmtReimbursed.sum()\n",
        "\n",
        "print(\"Total money lost : \" , Total_money_lost)"
      ],
      "metadata": {
        "pycharm": {
          "name": "#%%\n"
        },
        "colab": {
          "base_uri": "https://localhost:8080/"
        },
        "id": "hs03ep66R9yS",
        "outputId": "735744a1-7e76-4211-c17d-4a1c799a93a0"
      }
    },
    {
      "cell_type": "code",
      "execution_count": null,
      "outputs": [
        {
          "output_type": "stream",
          "name": "stdout",
          "text": [
            "Total money lost :  54392610\n"
          ]
        }
      ],
      "source": [
        "#calculatinng total money lost in fradulent encounters\n",
        "Total_money_lost = outpatient_labeled_provider_df.loc[outpatient_labeled_provider_df['PotentialFraud']== 'Yes'].InscClaimAmtReimbursed.sum()\n",
        "\n",
        "print(\"Total money lost : \",Total_money_lost)\n"
      ],
      "metadata": {
        "pycharm": {
          "name": "#%%\n"
        },
        "colab": {
          "base_uri": "https://localhost:8080/"
        },
        "id": "qaC6YWgyR9yT",
        "outputId": "252402a2-e09a-4ce0-edb5-ebc22aa5b7d4"
      }
    },
    {
      "cell_type": "code",
      "execution_count": null,
      "outputs": [],
      "source": [
        "total = 241288510 + 54392610"
      ],
      "metadata": {
        "pycharm": {
          "name": "#%%\n"
        },
        "id": "toIJBVVER9yU"
      }
    },
    {
      "cell_type": "code",
      "execution_count": null,
      "outputs": [
        {
          "output_type": "stream",
          "name": "stdout",
          "text": [
            "Total money lost due to fraudulent claims =  295681120\n"
          ]
        }
      ],
      "source": [
        "print('Total money lost due to fraudulent claims = ', total )"
      ],
      "metadata": {
        "pycharm": {
          "name": "#%%\n"
        },
        "colab": {
          "base_uri": "https://localhost:8080/"
        },
        "id": "tjsmzgWkR9yV",
        "outputId": "a7b49240-0489-448c-95eb-16aa7459cb9a"
      }
    }
  ],
  "metadata": {
    "datalore": {
      "version": 1,
      "computation_mode": "JUPYTER",
      "package_manager": "pip",
      "base_environment": "default",
      "packages": []
    },
    "colab": {
      "name": "capstone_project.ipynb",
      "provenance": [],
      "include_colab_link": true
    },
    "language_info": {
      "name": "python"
    },
    "kernelspec": {
      "name": "python3",
      "display_name": "Python 3"
    }
  },
  "nbformat": 4,
  "nbformat_minor": 0
}